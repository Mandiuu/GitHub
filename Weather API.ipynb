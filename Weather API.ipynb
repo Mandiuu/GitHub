{
 "cells": [
  {
   "cell_type": "code",
   "execution_count": 1,
   "id": "9332162c-4055-46c4-b1bf-dd6b340750de",
   "metadata": {},
   "outputs": [
    {
     "data": {
      "text/plain": [
       "<Response [200]>"
      ]
     },
     "execution_count": 1,
     "metadata": {},
     "output_type": "execute_result"
    }
   ],
   "source": [
    "import requests\n",
    "req = requests.request('GET', 'https://httpbin.org/get')\n",
    "req\n"
   ]
  },
  {
   "cell_type": "code",
   "execution_count": 2,
   "id": "9a404ba4-3d77-497b-b490-532b43d05708",
   "metadata": {},
   "outputs": [],
   "source": [
    "!touch .env\n"
   ]
  },
  {
   "cell_type": "code",
   "execution_count": 3,
   "id": "4b31c726-b433-4492-ab6e-63854d153435",
   "metadata": {},
   "outputs": [
    {
     "name": "stdout",
     "output_type": "stream",
     "text": [
      "Requirement already satisfied: python-dotenv in /Users/carlamandiola/.pyenv/versions/3.11.6/lib/python3.11/site-packages (1.0.0)\n",
      "Note: you may need to restart the kernel to use updated packages.\n"
     ]
    }
   ],
   "source": [
    "pip install python-dotenv"
   ]
  },
  {
   "cell_type": "code",
   "execution_count": 4,
   "id": "60709f24-f372-48d5-9a51-204432062a0f",
   "metadata": {},
   "outputs": [
    {
     "ename": "NameError",
     "evalue": "name 'load_dotenv' is not defined",
     "output_type": "error",
     "traceback": [
      "\u001b[0;31m---------------------------------------------------------------------------\u001b[0m",
      "\u001b[0;31mNameError\u001b[0m                                 Traceback (most recent call last)",
      "\u001b[1;32m/Users/carlamandiola/Desktop/Foundations2/GitHub/Weather API.ipynb Cell 4\u001b[0m line \u001b[0;36m1\n\u001b[0;32m----> <a href='vscode-notebook-cell:/Users/carlamandiola/Desktop/Foundations2/GitHub/Weather%20API.ipynb#W3sZmlsZQ%3D%3D?line=0'>1</a>\u001b[0m load_dotenv()\n",
      "\u001b[0;31mNameError\u001b[0m: name 'load_dotenv' is not defined"
     ]
    }
   ],
   "source": [
    "load_dotenv()"
   ]
  },
  {
   "cell_type": "code",
   "execution_count": null,
   "id": "b67beab4-cce2-4eda-81eb-64871ea3cf4c",
   "metadata": {},
   "outputs": [
    {
     "ename": "SyntaxError",
     "evalue": "invalid decimal literal (1022571702.py, line 1)",
     "output_type": "error",
     "traceback": [
      "\u001b[0;36m  Cell \u001b[0;32mIn[3], line 1\u001b[0;36m\u001b[0m\n\u001b[0;31m    API_KEY = 64042d96c36c4e7690211150231211\u001b[0m\n\u001b[0m                  ^\u001b[0m\n\u001b[0;31mSyntaxError\u001b[0m\u001b[0;31m:\u001b[0m invalid decimal literal\n"
     ]
    }
   ],
   "source": [
    "API_KEY = 64042d96c36c4e7690211150231211"
   ]
  },
  {
   "cell_type": "code",
   "execution_count": null,
   "id": "e61a9633-f169-4942-ae32-aadb120824f4",
   "metadata": {},
   "outputs": [],
   "source": [
    "import os\n",
    "from dotenv import load_dotenv\n",
    "load_dotenv()\n",
    "\n",
    "API_KEY = os.getenv('PROJECT_API_KEY')"
   ]
  },
  {
   "cell_type": "markdown",
   "id": "6974b0ac-825b-4107-9423-58b714a88872",
   "metadata": {},
   "source": [
    "1. What is the URL to the documentation?"
   ]
  },
  {
   "cell_type": "code",
   "execution_count": null,
   "id": "0d3655ca-33df-409f-859c-4ad4de5307df",
   "metadata": {},
   "outputs": [],
   "source": [
    "https://www.weatherapi.com/docs/"
   ]
  },
  {
   "cell_type": "markdown",
   "id": "54c9cd48-3ede-45be-b39c-1a3f29467252",
   "metadata": {},
   "source": [
    "2. Make a request for the current weather where you are born, or somewhere you've lived."
   ]
  },
  {
   "cell_type": "code",
   "execution_count": null,
   "id": "b652f545-43d6-4181-8666-4bcf401d122b",
   "metadata": {},
   "outputs": [
    {
     "ename": "NameError",
     "evalue": "name 'API_KEY' is not defined",
     "output_type": "error",
     "traceback": [
      "\u001b[0;31m---------------------------------------------------------------------------\u001b[0m",
      "\u001b[0;31mNameError\u001b[0m                                 Traceback (most recent call last)",
      "Cell \u001b[0;32mIn[4], line 3\u001b[0m\n\u001b[1;32m      1\u001b[0m \u001b[38;5;66;03m# I was born in Rancagua, a place with more horses than people \u001b[39;00m\n\u001b[0;32m----> 3\u001b[0m url \u001b[38;5;241m=\u001b[39m \u001b[38;5;124mf\u001b[39m\u001b[38;5;124m'\u001b[39m\u001b[38;5;124mhttp://api.weatherapi.com/v1/current.json?key=\u001b[39m\u001b[38;5;132;01m{\u001b[39;00m\u001b[43mAPI_KEY\u001b[49m\u001b[38;5;132;01m}\u001b[39;00m\u001b[38;5;124m&q=Rancagua&aqi=no\u001b[39m\u001b[38;5;124m'\u001b[39m\n\u001b[1;32m      4\u001b[0m response \u001b[38;5;241m=\u001b[39m requests\u001b[38;5;241m.\u001b[39mget(url)\n\u001b[1;32m      5\u001b[0m data \u001b[38;5;241m=\u001b[39m response\u001b[38;5;241m.\u001b[39mjson()\n",
      "\u001b[0;31mNameError\u001b[0m: name 'API_KEY' is not defined"
     ]
    }
   ],
   "source": [
    "# I was born in Rancagua, a place with more horses than people \n",
    "\n",
    "url = f'http://api.weatherapi.com/v1/current.json?key={API_KEY}&q=Rancagua&aqi=no'\n",
    "response = requests.get(url)\n",
    "data = response.json()"
   ]
  },
  {
   "cell_type": "code",
   "execution_count": null,
   "id": "6feb0db9-cae8-467e-9f3d-da5051f87d13",
   "metadata": {},
   "outputs": [],
   "source": [
    "login_info = { "
   ]
  },
  {
   "cell_type": "code",
   "execution_count": null,
   "id": "ff4c590b-522a-4405-98eb-86bf8292677b",
   "metadata": {},
   "outputs": [
    {
     "data": {
      "text/plain": [
       "{'location': {'name': 'Rancagua',\n",
       "  'region': \"Libertador General Bernardo O'Higgins\",\n",
       "  'country': 'Chile',\n",
       "  'lat': -34.17,\n",
       "  'lon': -70.75,\n",
       "  'tz_id': 'America/Santiago',\n",
       "  'localtime_epoch': 1699887192,\n",
       "  'localtime': '2023-11-13 11:53'},\n",
       " 'current': {'last_updated_epoch': 1699886700,\n",
       "  'last_updated': '2023-11-13 11:45',\n",
       "  'temp_c': 17.0,\n",
       "  'temp_f': 62.6,\n",
       "  'is_day': 1,\n",
       "  'condition': {'text': 'Sunny',\n",
       "   'icon': '//cdn.weatherapi.com/weather/64x64/day/113.png',\n",
       "   'code': 1000},\n",
       "  'wind_mph': 5.6,\n",
       "  'wind_kph': 9.0,\n",
       "  'wind_degree': 213,\n",
       "  'wind_dir': 'SSW',\n",
       "  'pressure_mb': 1016.0,\n",
       "  'pressure_in': 30.01,\n",
       "  'precip_mm': 0.0,\n",
       "  'precip_in': 0.0,\n",
       "  'humidity': 58,\n",
       "  'cloud': 0,\n",
       "  'feelslike_c': 17.0,\n",
       "  'feelslike_f': 62.6,\n",
       "  'vis_km': 10.0,\n",
       "  'vis_miles': 6.0,\n",
       "  'uv': 5.0,\n",
       "  'gust_mph': 6.4,\n",
       "  'gust_kph': 10.4}}"
      ]
     },
     "execution_count": 3,
     "metadata": {},
     "output_type": "execute_result"
    }
   ],
   "source": [
    "data"
   ]
  },
  {
   "cell_type": "markdown",
   "id": "e79ecc6e-a383-4e00-bf61-986106c1ce15",
   "metadata": {},
   "source": [
    "3. Print out the country this location is in."
   ]
  },
  {
   "cell_type": "code",
   "execution_count": null,
   "id": "0f8cdeb1-8795-4886-8960-6b5738c51b8a",
   "metadata": {},
   "outputs": [
    {
     "name": "stdout",
     "output_type": "stream",
     "text": [
      "The place with a lot of horses is located in Chile\n"
     ]
    }
   ],
   "source": [
    "data['location'][\"country\"]\n",
    "\n",
    "Aburrido = data['location'][\"country\"] \n",
    "print(f\"The place with a lot of horses is located in {Aburrido}\")\n",
    "\n"
   ]
  },
  {
   "cell_type": "markdown",
   "id": "ba459f98-16b6-4e2e-93db-220c0e77b9bd",
   "metadata": {},
   "source": [
    "4. Print out the difference between the current temperature and how warm it feels. Use \"It feels ___ degrees colder\" or \"It feels ___ degrees warmer,\" not negative numbers.\n"
   ]
  },
  {
   "cell_type": "code",
   "execution_count": null,
   "id": "16f874d8-6858-4db6-9ab1-6784a4eb81ce",
   "metadata": {},
   "outputs": [],
   "source": [
    "data = response.json()\n",
    "current_temp = data['current']['temp_c']\n",
    "feels_like_temp = data['current']['feelslike_c']\n",
    "\n",
    "temperature_difference = abs(current_temp - feels_like_temp)\n",
    "\n"
   ]
  },
  {
   "cell_type": "code",
   "execution_count": null,
   "id": "4843176e-2b8d-4148-8c54-3d6a6ba4eaea",
   "metadata": {},
   "outputs": [
    {
     "data": {
      "text/plain": [
       "'It feels 0.0 Celsius degrees warmer in Rancagua'"
      ]
     },
     "execution_count": 6,
     "metadata": {},
     "output_type": "execute_result"
    }
   ],
   "source": [
    "(f\"It feels {temperature_difference} Celsius degrees warmer in Rancagua\")"
   ]
  },
  {
   "cell_type": "markdown",
   "id": "ab458f2e-5594-40f6-b214-70c8a29f9ae5",
   "metadata": {},
   "source": [
    "5. What's the current temperature at Heathrow International Airport? Use the airport's IATA code to search."
   ]
  },
  {
   "cell_type": "markdown",
   "id": "d29c52b8-d884-44d9-9e18-70a0d975113e",
   "metadata": {},
   "source": [
    "IATA: LHR"
   ]
  },
  {
   "cell_type": "code",
   "execution_count": null,
   "id": "697e0e83-18b7-4b25-afb7-6977574bb2b6",
   "metadata": {},
   "outputs": [
    {
     "name": "stdout",
     "output_type": "stream",
     "text": [
      "The current temperature at Heathrow Airport is 17.0 Celsius.\n"
     ]
    }
   ],
   "source": [
    "url ='http://api.weatherapi.com/v1/current.json?key={64042d96c36c4e7690211150231211}&q={LHR}'\n",
    "data = response.json()\n",
    "temp_now = data['current']['temp_c']\n",
    "print(f\"The current temperature at Heathrow Airport is {temp_now} Celsius.\")\n"
   ]
  },
  {
   "cell_type": "markdown",
   "id": "1cc466d9-4750-4178-8df5-e31a9b0f3b8c",
   "metadata": {},
   "source": [
    "6. What URL would I use to request a 3-day forecast at Heathrow?"
   ]
  },
  {
   "cell_type": "code",
   "execution_count": null,
   "id": "00c58d94-55ce-4d95-83e5-8a85ac5a268b",
   "metadata": {},
   "outputs": [
    {
     "ename": "SyntaxError",
     "evalue": "invalid decimal literal (3277362431.py, line 1)",
     "output_type": "error",
     "traceback": [
      "\u001b[0;36m  Cell \u001b[0;32mIn[9], line 1\u001b[0;36m\u001b[0m\n\u001b[0;31m    http://api.weatherapi.com/v1/forecast.json?key=64042d96c36c4e7690211150231211&q=Heathrow&days=3\u001b[0m\n\u001b[0m                                                       ^\u001b[0m\n\u001b[0;31mSyntaxError\u001b[0m\u001b[0;31m:\u001b[0m invalid decimal literal\n"
     ]
    }
   ],
   "source": [
    "http://api.weatherapi.com/v1/forecast.json?key=64042d96c36c4e7690211150231211&q=Heathrow&days=3\n"
   ]
  },
  {
   "cell_type": "markdown",
   "id": "39561797-a1d5-4ce3-bd76-ef7cab3398c2",
   "metadata": {},
   "source": [
    "7. Print the date of each of the 3 days you're getting a forecast for.\n"
   ]
  },
  {
   "cell_type": "code",
   "execution_count": 5,
   "id": "d288713d-40ad-4097-99a3-ddc736115c4a",
   "metadata": {},
   "outputs": [
    {
     "ename": "IndentationError",
     "evalue": "unexpected indent (636023818.py, line 9)",
     "output_type": "error",
     "traceback": [
      "\u001b[0;36m  Cell \u001b[0;32mIn[5], line 9\u001b[0;36m\u001b[0m\n\u001b[0;31m    for day in forecast_days:\u001b[0m\n\u001b[0m    ^\u001b[0m\n\u001b[0;31mIndentationError\u001b[0m\u001b[0;31m:\u001b[0m unexpected indent\n"
     ]
    }
   ],
   "source": [
    "import requests\n",
    "\n",
    "location = 'Heathrow'\n",
    "url3 = 'http://api.weatherapi.com/v1/forecast.json?key={64042d96c36c4e7690211150231211}&q={Heathrow}&days={3}'\n",
    "\n",
    "response = requests.get(url)\n",
    "\n",
    "forecast_days = data['forecast']['forecastday']\n",
    "    for day in forecast_days:\n",
    "date = day['date']\n",
    "print(f\"Forecast for: {date}\")\n",
    "\n"
   ]
  },
  {
   "cell_type": "markdown",
   "id": "31bf299e-12df-4378-8bcf-4ad9e21b949b",
   "metadata": {},
   "source": [
    "8. Print the maximum temperature of each of the days."
   ]
  },
  {
   "cell_type": "code",
   "execution_count": null,
   "id": "0c50ed00-dac0-4eab-bd09-d8ac61710e1e",
   "metadata": {},
   "outputs": [],
   "source": [
    "location = 'Heathrow'\n",
    "\n",
    "url = 'http://api.weatherapi.com/v1/forecast.json?key={64042d96c36c4e7690211150231211}&q={Heathrow}&days={3}'\n",
    "\n",
    "data = response.json()\n",
    "\n",
    "forecast_days = data['forecast']['forecastday']\n",
    "for day in forecast_days:\n",
    "date = day['date']\n",
    "max_temp = day['day']['maxtemp_c']\n",
    "print(f\" The maximum temperature is {max_temp} degrees Celsius on {date}\")\n"
   ]
  },
  {
   "cell_type": "markdown",
   "id": "79018321-e693-4dff-a2c8-d886360c9dfb",
   "metadata": {},
   "source": [
    "9. Print only the day with the highest maximum temperature."
   ]
  },
  {
   "cell_type": "code",
   "execution_count": null,
   "id": "939623bb-283d-43d7-99dc-14d5f0e40f11",
   "metadata": {},
   "outputs": [],
   "source": [
    ":8"
   ]
  }
 ],
 "metadata": {
  "kernelspec": {
   "display_name": "Python 3 (ipykernel)",
   "language": "python",
   "name": "python3"
  },
  "language_info": {
   "codemirror_mode": {
    "name": "ipython",
    "version": 3
   },
   "file_extension": ".py",
   "mimetype": "text/x-python",
   "name": "python",
   "nbconvert_exporter": "python",
   "pygments_lexer": "ipython3",
   "version": "3.11.6"
  }
 },
 "nbformat": 4,
 "nbformat_minor": 5
}
