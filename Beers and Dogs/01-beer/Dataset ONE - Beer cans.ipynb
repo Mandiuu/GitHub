{
 "cells": [
  {
   "cell_type": "markdown",
   "metadata": {
    "collapsed": true,
    "jupyter": {
     "outputs_hidden": true
    }
   },
   "source": [
    "# Homework 7, Part One: Lots and lots of questions about beer"
   ]
  },
  {
   "cell_type": "markdown",
   "metadata": {},
   "source": [
    "### Do your importing and your setup"
   ]
  },
  {
   "cell_type": "code",
   "execution_count": 1,
   "metadata": {},
   "outputs": [
    {
     "name": "stdout",
     "output_type": "stream",
     "text": [
      "Dataset ONE - Beer cans.ipynb craftcans.csv\n"
     ]
    },
    {
     "data": {
      "text/html": [
       "<div>\n",
       "<style scoped>\n",
       "    .dataframe tbody tr th:only-of-type {\n",
       "        vertical-align: middle;\n",
       "    }\n",
       "\n",
       "    .dataframe tbody tr th {\n",
       "        vertical-align: top;\n",
       "    }\n",
       "\n",
       "    .dataframe thead th {\n",
       "        text-align: right;\n",
       "    }\n",
       "</style>\n",
       "<table border=\"1\" class=\"dataframe\">\n",
       "  <thead>\n",
       "    <tr style=\"text-align: right;\">\n",
       "      <th></th>\n",
       "      <th>Beer</th>\n",
       "      <th>Brewery</th>\n",
       "      <th>Location</th>\n",
       "      <th>Style</th>\n",
       "      <th>Size</th>\n",
       "      <th>ABV</th>\n",
       "      <th>IBUs</th>\n",
       "    </tr>\n",
       "  </thead>\n",
       "  <tbody>\n",
       "    <tr>\n",
       "      <th>0</th>\n",
       "      <td>Get Together</td>\n",
       "      <td>NorthGate Brewing</td>\n",
       "      <td>Minneapolis, MN</td>\n",
       "      <td>American IPA</td>\n",
       "      <td>16 oz.</td>\n",
       "      <td>4.50%</td>\n",
       "      <td>50</td>\n",
       "    </tr>\n",
       "    <tr>\n",
       "      <th>1</th>\n",
       "      <td>Maggie's Leap</td>\n",
       "      <td>NorthGate Brewing</td>\n",
       "      <td>Minneapolis, MN</td>\n",
       "      <td>Milk / Sweet Stout</td>\n",
       "      <td>16 oz.</td>\n",
       "      <td>4.90%</td>\n",
       "      <td>26</td>\n",
       "    </tr>\n",
       "    <tr>\n",
       "      <th>2</th>\n",
       "      <td>Wall's End</td>\n",
       "      <td>NorthGate Brewing</td>\n",
       "      <td>Minneapolis, MN</td>\n",
       "      <td>English Brown Ale</td>\n",
       "      <td>16 oz.</td>\n",
       "      <td>4.80%</td>\n",
       "      <td>19</td>\n",
       "    </tr>\n",
       "    <tr>\n",
       "      <th>3</th>\n",
       "      <td>Pumpion</td>\n",
       "      <td>NorthGate Brewing</td>\n",
       "      <td>Minneapolis, MN</td>\n",
       "      <td>Pumpkin Ale</td>\n",
       "      <td>16 oz.</td>\n",
       "      <td>6.00%</td>\n",
       "      <td>38</td>\n",
       "    </tr>\n",
       "    <tr>\n",
       "      <th>4</th>\n",
       "      <td>Stronghold</td>\n",
       "      <td>NorthGate Brewing</td>\n",
       "      <td>Minneapolis, MN</td>\n",
       "      <td>American Porter</td>\n",
       "      <td>16 oz.</td>\n",
       "      <td>6.00%</td>\n",
       "      <td>25</td>\n",
       "    </tr>\n",
       "  </tbody>\n",
       "</table>\n",
       "</div>"
      ],
      "text/plain": [
       "            Beer            Brewery         Location               Style  \\\n",
       "0   Get Together  NorthGate Brewing  Minneapolis, MN        American IPA   \n",
       "1  Maggie's Leap  NorthGate Brewing  Minneapolis, MN  Milk / Sweet Stout   \n",
       "2     Wall's End  NorthGate Brewing  Minneapolis, MN   English Brown Ale   \n",
       "3        Pumpion  NorthGate Brewing  Minneapolis, MN         Pumpkin Ale   \n",
       "4     Stronghold  NorthGate Brewing  Minneapolis, MN     American Porter   \n",
       "\n",
       "     Size    ABV IBUs  \n",
       "0  16 oz.  4.50%   50  \n",
       "1  16 oz.  4.90%   26  \n",
       "2  16 oz.  4.80%   19  \n",
       "3  16 oz.  6.00%   38  \n",
       "4  16 oz.  6.00%   25  "
      ]
     },
     "execution_count": 1,
     "metadata": {},
     "output_type": "execute_result"
    }
   ],
   "source": [
    "!ls\n",
    "import pandas as pd\n",
    "\n",
    "df = pd.read_csv('craftcans.csv')\n",
    "df.head()"
   ]
  },
  {
   "cell_type": "code",
   "execution_count": 26,
   "metadata": {},
   "outputs": [
    {
     "data": {
      "text/html": [
       "<div>\n",
       "<style scoped>\n",
       "    .dataframe tbody tr th:only-of-type {\n",
       "        vertical-align: middle;\n",
       "    }\n",
       "\n",
       "    .dataframe tbody tr th {\n",
       "        vertical-align: top;\n",
       "    }\n",
       "\n",
       "    .dataframe thead th {\n",
       "        text-align: right;\n",
       "    }\n",
       "</style>\n",
       "<table border=\"1\" class=\"dataframe\">\n",
       "  <thead>\n",
       "    <tr style=\"text-align: right;\">\n",
       "      <th></th>\n",
       "      <th>Beer</th>\n",
       "      <th>Brewery</th>\n",
       "      <th>Location</th>\n",
       "      <th>Style</th>\n",
       "      <th>Size</th>\n",
       "      <th>ABV</th>\n",
       "      <th>IBUs</th>\n",
       "    </tr>\n",
       "  </thead>\n",
       "  <tbody>\n",
       "    <tr>\n",
       "      <th>0</th>\n",
       "      <td>Get Together</td>\n",
       "      <td>NorthGate Brewing</td>\n",
       "      <td>Minneapolis, MN</td>\n",
       "      <td>American IPA</td>\n",
       "      <td>16 oz.</td>\n",
       "      <td>4.5</td>\n",
       "      <td>50</td>\n",
       "    </tr>\n",
       "    <tr>\n",
       "      <th>1</th>\n",
       "      <td>Maggie's Leap</td>\n",
       "      <td>NorthGate Brewing</td>\n",
       "      <td>Minneapolis, MN</td>\n",
       "      <td>Milk / Sweet Stout</td>\n",
       "      <td>16 oz.</td>\n",
       "      <td>4.9</td>\n",
       "      <td>26</td>\n",
       "    </tr>\n",
       "    <tr>\n",
       "      <th>2</th>\n",
       "      <td>Wall's End</td>\n",
       "      <td>NorthGate Brewing</td>\n",
       "      <td>Minneapolis, MN</td>\n",
       "      <td>English Brown Ale</td>\n",
       "      <td>16 oz.</td>\n",
       "      <td>4.8</td>\n",
       "      <td>19</td>\n",
       "    </tr>\n",
       "    <tr>\n",
       "      <th>3</th>\n",
       "      <td>Pumpion</td>\n",
       "      <td>NorthGate Brewing</td>\n",
       "      <td>Minneapolis, MN</td>\n",
       "      <td>Pumpkin Ale</td>\n",
       "      <td>16 oz.</td>\n",
       "      <td>6.0</td>\n",
       "      <td>38</td>\n",
       "    </tr>\n",
       "    <tr>\n",
       "      <th>4</th>\n",
       "      <td>Stronghold</td>\n",
       "      <td>NorthGate Brewing</td>\n",
       "      <td>Minneapolis, MN</td>\n",
       "      <td>American Porter</td>\n",
       "      <td>16 oz.</td>\n",
       "      <td>6.0</td>\n",
       "      <td>25</td>\n",
       "    </tr>\n",
       "    <tr>\n",
       "      <th>...</th>\n",
       "      <td>...</td>\n",
       "      <td>...</td>\n",
       "      <td>...</td>\n",
       "      <td>...</td>\n",
       "      <td>...</td>\n",
       "      <td>...</td>\n",
       "      <td>...</td>\n",
       "    </tr>\n",
       "    <tr>\n",
       "      <th>2411</th>\n",
       "      <td>Mama's Little Yella Pils</td>\n",
       "      <td>Oskar Blues Brewery</td>\n",
       "      <td>Longmont, CO</td>\n",
       "      <td>Czech Pilsener</td>\n",
       "      <td>12 oz.</td>\n",
       "      <td>5.3</td>\n",
       "      <td>35</td>\n",
       "    </tr>\n",
       "    <tr>\n",
       "      <th>2412</th>\n",
       "      <td>GUBNA Imperial IPA</td>\n",
       "      <td>Oskar Blues Brewery</td>\n",
       "      <td>Longmont, CO</td>\n",
       "      <td>American Double / Imperial IPA</td>\n",
       "      <td>12 oz.</td>\n",
       "      <td>9.9</td>\n",
       "      <td>100</td>\n",
       "    </tr>\n",
       "    <tr>\n",
       "      <th>2413</th>\n",
       "      <td>Old Chub</td>\n",
       "      <td>Oskar Blues Brewery</td>\n",
       "      <td>Longmont, CO</td>\n",
       "      <td>Scottish Ale</td>\n",
       "      <td>12 oz.</td>\n",
       "      <td>8.0</td>\n",
       "      <td>35</td>\n",
       "    </tr>\n",
       "    <tr>\n",
       "      <th>2414</th>\n",
       "      <td>Gordon Ale (2009)</td>\n",
       "      <td>Oskar Blues Brewery</td>\n",
       "      <td>Longmont, CO</td>\n",
       "      <td>American Double / Imperial IPA</td>\n",
       "      <td>12 oz.</td>\n",
       "      <td>8.7</td>\n",
       "      <td>85</td>\n",
       "    </tr>\n",
       "    <tr>\n",
       "      <th>2415</th>\n",
       "      <td>Dale's Pale Ale</td>\n",
       "      <td>Oskar Blues Brewery</td>\n",
       "      <td>Longmont, CO</td>\n",
       "      <td>American Pale Ale (APA)</td>\n",
       "      <td>12 oz.</td>\n",
       "      <td>6.5</td>\n",
       "      <td>65</td>\n",
       "    </tr>\n",
       "  </tbody>\n",
       "</table>\n",
       "<p>2416 rows × 7 columns</p>\n",
       "</div>"
      ],
      "text/plain": [
       "                          Beer              Brewery         Location  \\\n",
       "0                 Get Together    NorthGate Brewing  Minneapolis, MN   \n",
       "1                Maggie's Leap    NorthGate Brewing  Minneapolis, MN   \n",
       "2                   Wall's End    NorthGate Brewing  Minneapolis, MN   \n",
       "3                      Pumpion    NorthGate Brewing  Minneapolis, MN   \n",
       "4                   Stronghold    NorthGate Brewing  Minneapolis, MN   \n",
       "...                        ...                  ...              ...   \n",
       "2411  Mama's Little Yella Pils  Oskar Blues Brewery     Longmont, CO   \n",
       "2412        GUBNA Imperial IPA  Oskar Blues Brewery     Longmont, CO   \n",
       "2413                  Old Chub  Oskar Blues Brewery     Longmont, CO   \n",
       "2414         Gordon Ale (2009)  Oskar Blues Brewery     Longmont, CO   \n",
       "2415           Dale's Pale Ale  Oskar Blues Brewery     Longmont, CO   \n",
       "\n",
       "                               Style    Size  ABV IBUs  \n",
       "0                       American IPA  16 oz.  4.5   50  \n",
       "1                 Milk / Sweet Stout  16 oz.  4.9   26  \n",
       "2                  English Brown Ale  16 oz.  4.8   19  \n",
       "3                        Pumpkin Ale  16 oz.  6.0   38  \n",
       "4                    American Porter  16 oz.  6.0   25  \n",
       "...                              ...     ...  ...  ...  \n",
       "2411                  Czech Pilsener  12 oz.  5.3   35  \n",
       "2412  American Double / Imperial IPA  12 oz.  9.9  100  \n",
       "2413                    Scottish Ale  12 oz.  8.0   35  \n",
       "2414  American Double / Imperial IPA  12 oz.  8.7   85  \n",
       "2415         American Pale Ale (APA)  12 oz.  6.5   65  \n",
       "\n",
       "[2416 rows x 7 columns]"
      ]
     },
     "execution_count": 26,
     "metadata": {},
     "output_type": "execute_result"
    }
   ],
   "source": [
    "df"
   ]
  },
  {
   "cell_type": "markdown",
   "metadata": {},
   "source": [
    "## Read in the file `craftcans.csv`, and look at the first first rows"
   ]
  },
  {
   "cell_type": "code",
   "execution_count": 2,
   "metadata": {},
   "outputs": [
    {
     "data": {
      "text/html": [
       "<div>\n",
       "<style scoped>\n",
       "    .dataframe tbody tr th:only-of-type {\n",
       "        vertical-align: middle;\n",
       "    }\n",
       "\n",
       "    .dataframe tbody tr th {\n",
       "        vertical-align: top;\n",
       "    }\n",
       "\n",
       "    .dataframe thead th {\n",
       "        text-align: right;\n",
       "    }\n",
       "</style>\n",
       "<table border=\"1\" class=\"dataframe\">\n",
       "  <thead>\n",
       "    <tr style=\"text-align: right;\">\n",
       "      <th></th>\n",
       "      <th>Beer</th>\n",
       "      <th>Brewery</th>\n",
       "      <th>Location</th>\n",
       "      <th>Style</th>\n",
       "      <th>Size</th>\n",
       "      <th>ABV</th>\n",
       "      <th>IBUs</th>\n",
       "    </tr>\n",
       "  </thead>\n",
       "  <tbody>\n",
       "    <tr>\n",
       "      <th>0</th>\n",
       "      <td>Get Together</td>\n",
       "      <td>NorthGate Brewing</td>\n",
       "      <td>Minneapolis, MN</td>\n",
       "      <td>American IPA</td>\n",
       "      <td>16 oz.</td>\n",
       "      <td>4.50%</td>\n",
       "      <td>50</td>\n",
       "    </tr>\n",
       "    <tr>\n",
       "      <th>1</th>\n",
       "      <td>Maggie's Leap</td>\n",
       "      <td>NorthGate Brewing</td>\n",
       "      <td>Minneapolis, MN</td>\n",
       "      <td>Milk / Sweet Stout</td>\n",
       "      <td>16 oz.</td>\n",
       "      <td>4.90%</td>\n",
       "      <td>26</td>\n",
       "    </tr>\n",
       "    <tr>\n",
       "      <th>2</th>\n",
       "      <td>Wall's End</td>\n",
       "      <td>NorthGate Brewing</td>\n",
       "      <td>Minneapolis, MN</td>\n",
       "      <td>English Brown Ale</td>\n",
       "      <td>16 oz.</td>\n",
       "      <td>4.80%</td>\n",
       "      <td>19</td>\n",
       "    </tr>\n",
       "    <tr>\n",
       "      <th>3</th>\n",
       "      <td>Pumpion</td>\n",
       "      <td>NorthGate Brewing</td>\n",
       "      <td>Minneapolis, MN</td>\n",
       "      <td>Pumpkin Ale</td>\n",
       "      <td>16 oz.</td>\n",
       "      <td>6.00%</td>\n",
       "      <td>38</td>\n",
       "    </tr>\n",
       "    <tr>\n",
       "      <th>4</th>\n",
       "      <td>Stronghold</td>\n",
       "      <td>NorthGate Brewing</td>\n",
       "      <td>Minneapolis, MN</td>\n",
       "      <td>American Porter</td>\n",
       "      <td>16 oz.</td>\n",
       "      <td>6.00%</td>\n",
       "      <td>25</td>\n",
       "    </tr>\n",
       "  </tbody>\n",
       "</table>\n",
       "</div>"
      ],
      "text/plain": [
       "            Beer            Brewery         Location               Style  \\\n",
       "0   Get Together  NorthGate Brewing  Minneapolis, MN        American IPA   \n",
       "1  Maggie's Leap  NorthGate Brewing  Minneapolis, MN  Milk / Sweet Stout   \n",
       "2     Wall's End  NorthGate Brewing  Minneapolis, MN   English Brown Ale   \n",
       "3        Pumpion  NorthGate Brewing  Minneapolis, MN         Pumpkin Ale   \n",
       "4     Stronghold  NorthGate Brewing  Minneapolis, MN     American Porter   \n",
       "\n",
       "     Size    ABV IBUs  \n",
       "0  16 oz.  4.50%   50  \n",
       "1  16 oz.  4.90%   26  \n",
       "2  16 oz.  4.80%   19  \n",
       "3  16 oz.  6.00%   38  \n",
       "4  16 oz.  6.00%   25  "
      ]
     },
     "execution_count": 2,
     "metadata": {},
     "output_type": "execute_result"
    }
   ],
   "source": [
    "\n",
    "df = pd.read_csv('craftcans.csv')\n",
    "df.head()"
   ]
  },
  {
   "cell_type": "markdown",
   "metadata": {},
   "source": [
    "## How many rows do you have in the data? What are the column types?"
   ]
  },
  {
   "cell_type": "code",
   "execution_count": 3,
   "metadata": {},
   "outputs": [
    {
     "name": "stdout",
     "output_type": "stream",
     "text": [
      "<class 'pandas.core.frame.DataFrame'>\n",
      "RangeIndex: 2416 entries, 0 to 2415\n",
      "Data columns (total 7 columns):\n",
      " #   Column    Non-Null Count  Dtype \n",
      "---  ------    --------------  ----- \n",
      " 0   Beer      2416 non-null   object\n",
      " 1   Brewery   2410 non-null   object\n",
      " 2   Location  2410 non-null   object\n",
      " 3   Style     2405 non-null   object\n",
      " 4   Size      2410 non-null   object\n",
      " 5   ABV       2348 non-null   object\n",
      " 6   IBUs      2410 non-null   object\n",
      "dtypes: object(7)\n",
      "memory usage: 132.3+ KB\n"
     ]
    }
   ],
   "source": [
    "df.info()\n"
   ]
  },
  {
   "cell_type": "code",
   "execution_count": 4,
   "metadata": {},
   "outputs": [
    {
     "data": {
      "text/plain": [
       "Beer        object\n",
       "Brewery     object\n",
       "Location    object\n",
       "Style       object\n",
       "Size        object\n",
       "ABV         object\n",
       "IBUs        object\n",
       "dtype: object"
      ]
     },
     "execution_count": 4,
     "metadata": {},
     "output_type": "execute_result"
    }
   ],
   "source": [
    "df.dtypes\n"
   ]
  },
  {
   "cell_type": "markdown",
   "metadata": {},
   "source": [
    "# Checking out our alcohol"
   ]
  },
  {
   "cell_type": "markdown",
   "metadata": {},
   "source": [
    "## What are the top 10 producers in terms of different cans of beer?"
   ]
  },
  {
   "cell_type": "code",
   "execution_count": 13,
   "metadata": {},
   "outputs": [
    {
     "data": {
      "text/plain": [
       "Brewery\n",
       "Brewery Vivant                62\n",
       "Oskar Blues Brewery           46\n",
       "Sun King Brewing Company      38\n",
       "Cigar City Brewing Company    25\n",
       "Sixpoint Craft Ales           24\n",
       "Hopworks Urban Brewery        23\n",
       "Stevens Point Brewery         22\n",
       "Great Crescent Brewery        20\n",
       "21st Amendment Brewery        20\n",
       "Bonfire Brewing Company       19\n",
       "Name: count, dtype: int64"
      ]
     },
     "execution_count": 13,
     "metadata": {},
     "output_type": "execute_result"
    }
   ],
   "source": [
    "df.Brewery.value_counts().head(10)"
   ]
  },
  {
   "cell_type": "markdown",
   "metadata": {},
   "source": [
    "## What is the most common ABV? (alcohol by volume)"
   ]
  },
  {
   "cell_type": "code",
   "execution_count": 14,
   "metadata": {},
   "outputs": [
    {
     "data": {
      "text/plain": [
       "ABV\n",
       "5.0    215\n",
       "5.5    158\n",
       "6.0    125\n",
       "6.5    123\n",
       "5.2    107\n",
       "7.0     92\n",
       "4.5     89\n",
       "4.8     72\n",
       "5.8     66\n",
       "5.6     66\n",
       "Name: count, dtype: int64"
      ]
     },
     "execution_count": 14,
     "metadata": {},
     "output_type": "execute_result"
    }
   ],
   "source": [
    "df.ABV.value_counts().head(10)"
   ]
  },
  {
   "cell_type": "markdown",
   "metadata": {},
   "source": [
    "## Oh, weird, ABV isn't a number. Convert it to a number for me, please.\n",
    "\n",
    "It's going to take a few steps!\n",
    "\n",
    "### First, let's just look at the ABV column by itself"
   ]
  },
  {
   "cell_type": "code",
   "execution_count": 15,
   "metadata": {},
   "outputs": [
    {
     "data": {
      "text/plain": [
       "<bound method Series.info of 0       4.5\n",
       "1       4.9\n",
       "2       4.8\n",
       "3       6.0\n",
       "4       6.0\n",
       "       ... \n",
       "2411    5.3\n",
       "2412    9.9\n",
       "2413    8.0\n",
       "2414    8.7\n",
       "2415    6.5\n",
       "Name: ABV, Length: 2416, dtype: float64>"
      ]
     },
     "execution_count": 15,
     "metadata": {},
     "output_type": "execute_result"
    }
   ],
   "source": [
    "df.ABV.info"
   ]
  },
  {
   "cell_type": "markdown",
   "metadata": {},
   "source": [
    "### Hm, `%` isn't part of  a number. Let's remove it.\n",
    "\n",
    "When you're confident you got it right, save the results back into the `ABV` column.\n",
    "\n",
    "- *Tip: In programming the easiest way to remove something is to *replacing it with nothing*.*\n",
    "- *Tip: \"nothing\" might seem like `NaN` sinc we talked about it a lot in class, but in this case it isn't! It's just an empty string, like \"\"*\n",
    "- *Tip: `.replace` is used for replacing ENTIRE cells, while `.str.replace` is useful for replacing PARTS of cells (see my New York example)*"
   ]
  },
  {
   "cell_type": "code",
   "execution_count": 16,
   "metadata": {},
   "outputs": [
    {
     "data": {
      "text/plain": [
       "ABV\n",
       "5.0    215\n",
       "5.5    158\n",
       "6.0    125\n",
       "6.5    123\n",
       "5.2    107\n",
       "7.0     92\n",
       "4.5     89\n",
       "4.8     72\n",
       "5.8     66\n",
       "5.6     66\n",
       "Name: count, dtype: int64"
      ]
     },
     "execution_count": 16,
     "metadata": {},
     "output_type": "execute_result"
    }
   ],
   "source": [
    "\n",
    "df.ABV.value_counts().head(10)"
   ]
  },
  {
   "cell_type": "code",
   "execution_count": 17,
   "metadata": {},
   "outputs": [
    {
     "ename": "AttributeError",
     "evalue": "Can only use .str accessor with string values!",
     "output_type": "error",
     "traceback": [
      "\u001b[0;31m---------------------------------------------------------------------------\u001b[0m",
      "\u001b[0;31mAttributeError\u001b[0m                            Traceback (most recent call last)",
      "Cell \u001b[0;32mIn[17], line 1\u001b[0m\n\u001b[0;32m----> 1\u001b[0m df[\u001b[38;5;124m'\u001b[39m\u001b[38;5;124mABV\u001b[39m\u001b[38;5;124m'\u001b[39m] \u001b[38;5;241m=\u001b[39m \u001b[43mdf\u001b[49m\u001b[43m[\u001b[49m\u001b[38;5;124;43m'\u001b[39;49m\u001b[38;5;124;43mABV\u001b[39;49m\u001b[38;5;124;43m'\u001b[39;49m\u001b[43m]\u001b[49m\u001b[38;5;241;43m.\u001b[39;49m\u001b[43mstr\u001b[49m\u001b[38;5;241m.\u001b[39mreplace(\u001b[38;5;124m\"\u001b[39m\u001b[38;5;124m%\u001b[39m\u001b[38;5;124m\"\u001b[39m, \u001b[38;5;124m\"\u001b[39m\u001b[38;5;124m\"\u001b[39m)\u001b[38;5;241m.\u001b[39mastype(\u001b[38;5;28mfloat\u001b[39m)\n",
      "File \u001b[0;32m~/.pyenv/versions/3.11.6/lib/python3.11/site-packages/pandas/core/generic.py:6204\u001b[0m, in \u001b[0;36mNDFrame.__getattr__\u001b[0;34m(self, name)\u001b[0m\n\u001b[1;32m   6197\u001b[0m \u001b[38;5;28;01mif\u001b[39;00m (\n\u001b[1;32m   6198\u001b[0m     name \u001b[38;5;129;01mnot\u001b[39;00m \u001b[38;5;129;01min\u001b[39;00m \u001b[38;5;28mself\u001b[39m\u001b[38;5;241m.\u001b[39m_internal_names_set\n\u001b[1;32m   6199\u001b[0m     \u001b[38;5;129;01mand\u001b[39;00m name \u001b[38;5;129;01mnot\u001b[39;00m \u001b[38;5;129;01min\u001b[39;00m \u001b[38;5;28mself\u001b[39m\u001b[38;5;241m.\u001b[39m_metadata\n\u001b[1;32m   6200\u001b[0m     \u001b[38;5;129;01mand\u001b[39;00m name \u001b[38;5;129;01mnot\u001b[39;00m \u001b[38;5;129;01min\u001b[39;00m \u001b[38;5;28mself\u001b[39m\u001b[38;5;241m.\u001b[39m_accessors\n\u001b[1;32m   6201\u001b[0m     \u001b[38;5;129;01mand\u001b[39;00m \u001b[38;5;28mself\u001b[39m\u001b[38;5;241m.\u001b[39m_info_axis\u001b[38;5;241m.\u001b[39m_can_hold_identifiers_and_holds_name(name)\n\u001b[1;32m   6202\u001b[0m ):\n\u001b[1;32m   6203\u001b[0m     \u001b[38;5;28;01mreturn\u001b[39;00m \u001b[38;5;28mself\u001b[39m[name]\n\u001b[0;32m-> 6204\u001b[0m \u001b[38;5;28;01mreturn\u001b[39;00m \u001b[38;5;28;43mobject\u001b[39;49m\u001b[38;5;241;43m.\u001b[39;49m\u001b[38;5;21;43m__getattribute__\u001b[39;49m\u001b[43m(\u001b[49m\u001b[38;5;28;43mself\u001b[39;49m\u001b[43m,\u001b[49m\u001b[43m \u001b[49m\u001b[43mname\u001b[49m\u001b[43m)\u001b[49m\n",
      "File \u001b[0;32m~/.pyenv/versions/3.11.6/lib/python3.11/site-packages/pandas/core/accessor.py:224\u001b[0m, in \u001b[0;36mCachedAccessor.__get__\u001b[0;34m(self, obj, cls)\u001b[0m\n\u001b[1;32m    221\u001b[0m \u001b[38;5;28;01mif\u001b[39;00m obj \u001b[38;5;129;01mis\u001b[39;00m \u001b[38;5;28;01mNone\u001b[39;00m:\n\u001b[1;32m    222\u001b[0m     \u001b[38;5;66;03m# we're accessing the attribute of the class, i.e., Dataset.geo\u001b[39;00m\n\u001b[1;32m    223\u001b[0m     \u001b[38;5;28;01mreturn\u001b[39;00m \u001b[38;5;28mself\u001b[39m\u001b[38;5;241m.\u001b[39m_accessor\n\u001b[0;32m--> 224\u001b[0m accessor_obj \u001b[38;5;241m=\u001b[39m \u001b[38;5;28;43mself\u001b[39;49m\u001b[38;5;241;43m.\u001b[39;49m\u001b[43m_accessor\u001b[49m\u001b[43m(\u001b[49m\u001b[43mobj\u001b[49m\u001b[43m)\u001b[49m\n\u001b[1;32m    225\u001b[0m \u001b[38;5;66;03m# Replace the property with the accessor object. Inspired by:\u001b[39;00m\n\u001b[1;32m    226\u001b[0m \u001b[38;5;66;03m# https://www.pydanny.com/cached-property.html\u001b[39;00m\n\u001b[1;32m    227\u001b[0m \u001b[38;5;66;03m# We need to use object.__setattr__ because we overwrite __setattr__ on\u001b[39;00m\n\u001b[1;32m    228\u001b[0m \u001b[38;5;66;03m# NDFrame\u001b[39;00m\n\u001b[1;32m    229\u001b[0m \u001b[38;5;28mobject\u001b[39m\u001b[38;5;241m.\u001b[39m\u001b[38;5;21m__setattr__\u001b[39m(obj, \u001b[38;5;28mself\u001b[39m\u001b[38;5;241m.\u001b[39m_name, accessor_obj)\n",
      "File \u001b[0;32m~/.pyenv/versions/3.11.6/lib/python3.11/site-packages/pandas/core/strings/accessor.py:190\u001b[0m, in \u001b[0;36mStringMethods.__init__\u001b[0;34m(self, data)\u001b[0m\n\u001b[1;32m    187\u001b[0m \u001b[38;5;28;01mdef\u001b[39;00m \u001b[38;5;21m__init__\u001b[39m(\u001b[38;5;28mself\u001b[39m, data) \u001b[38;5;241m-\u001b[39m\u001b[38;5;241m>\u001b[39m \u001b[38;5;28;01mNone\u001b[39;00m:\n\u001b[1;32m    188\u001b[0m     \u001b[38;5;28;01mfrom\u001b[39;00m \u001b[38;5;21;01mpandas\u001b[39;00m\u001b[38;5;21;01m.\u001b[39;00m\u001b[38;5;21;01mcore\u001b[39;00m\u001b[38;5;21;01m.\u001b[39;00m\u001b[38;5;21;01marrays\u001b[39;00m\u001b[38;5;21;01m.\u001b[39;00m\u001b[38;5;21;01mstring_\u001b[39;00m \u001b[38;5;28;01mimport\u001b[39;00m StringDtype\n\u001b[0;32m--> 190\u001b[0m     \u001b[38;5;28mself\u001b[39m\u001b[38;5;241m.\u001b[39m_inferred_dtype \u001b[38;5;241m=\u001b[39m \u001b[38;5;28;43mself\u001b[39;49m\u001b[38;5;241;43m.\u001b[39;49m\u001b[43m_validate\u001b[49m\u001b[43m(\u001b[49m\u001b[43mdata\u001b[49m\u001b[43m)\u001b[49m\n\u001b[1;32m    191\u001b[0m     \u001b[38;5;28mself\u001b[39m\u001b[38;5;241m.\u001b[39m_is_categorical \u001b[38;5;241m=\u001b[39m \u001b[38;5;28misinstance\u001b[39m(data\u001b[38;5;241m.\u001b[39mdtype, CategoricalDtype)\n\u001b[1;32m    192\u001b[0m     \u001b[38;5;28mself\u001b[39m\u001b[38;5;241m.\u001b[39m_is_string \u001b[38;5;241m=\u001b[39m \u001b[38;5;28misinstance\u001b[39m(data\u001b[38;5;241m.\u001b[39mdtype, StringDtype)\n",
      "File \u001b[0;32m~/.pyenv/versions/3.11.6/lib/python3.11/site-packages/pandas/core/strings/accessor.py:244\u001b[0m, in \u001b[0;36mStringMethods._validate\u001b[0;34m(data)\u001b[0m\n\u001b[1;32m    241\u001b[0m inferred_dtype \u001b[38;5;241m=\u001b[39m lib\u001b[38;5;241m.\u001b[39minfer_dtype(values, skipna\u001b[38;5;241m=\u001b[39m\u001b[38;5;28;01mTrue\u001b[39;00m)\n\u001b[1;32m    243\u001b[0m \u001b[38;5;28;01mif\u001b[39;00m inferred_dtype \u001b[38;5;129;01mnot\u001b[39;00m \u001b[38;5;129;01min\u001b[39;00m allowed_types:\n\u001b[0;32m--> 244\u001b[0m     \u001b[38;5;28;01mraise\u001b[39;00m \u001b[38;5;167;01mAttributeError\u001b[39;00m(\u001b[38;5;124m\"\u001b[39m\u001b[38;5;124mCan only use .str accessor with string values!\u001b[39m\u001b[38;5;124m\"\u001b[39m)\n\u001b[1;32m    245\u001b[0m \u001b[38;5;28;01mreturn\u001b[39;00m inferred_dtype\n",
      "\u001b[0;31mAttributeError\u001b[0m: Can only use .str accessor with string values!"
     ]
    }
   ],
   "source": [
    "df['ABV'] = df['ABV'].str.replace(\"%\", \"\").astype(float)"
   ]
  },
  {
   "cell_type": "code",
   "execution_count": 9,
   "metadata": {},
   "outputs": [
    {
     "data": {
      "text/plain": [
       "ABV\n",
       "5.0    215\n",
       "5.5    158\n",
       "6.0    125\n",
       "6.5    123\n",
       "5.2    107\n",
       "7.0     92\n",
       "4.5     89\n",
       "4.8     72\n",
       "5.8     66\n",
       "5.6     66\n",
       "Name: count, dtype: int64"
      ]
     },
     "execution_count": 9,
     "metadata": {},
     "output_type": "execute_result"
    }
   ],
   "source": [
    "df.ABV.value_counts().head(10)"
   ]
  },
  {
   "cell_type": "markdown",
   "metadata": {},
   "source": [
    "### Now let's turn `ABV` into a numeric data type\n",
    "\n",
    "Save the results back into the `ABV` column (again), and then check `df.dtypes` to make sure it worked.\n",
    "\n",
    "- *Tip: We used `.astype(int)` during class, but this has a decimal in it...*"
   ]
  },
  {
   "cell_type": "code",
   "execution_count": 121,
   "metadata": {},
   "outputs": [],
   "source": [
    "df['ABV'] = df.ABV.value_counts().head(10).astype(float)"
   ]
  },
  {
   "cell_type": "code",
   "execution_count": 122,
   "metadata": {},
   "outputs": [
    {
     "data": {
      "text/plain": [
       "Beer         object\n",
       "Brewery      object\n",
       "Location     object\n",
       "Style        object\n",
       "Size         object\n",
       "ABV         float64\n",
       "IBUs         object\n",
       "dtype: object"
      ]
     },
     "execution_count": 122,
     "metadata": {},
     "output_type": "execute_result"
    }
   ],
   "source": [
    "df.dtypes"
   ]
  },
  {
   "cell_type": "markdown",
   "metadata": {},
   "source": [
    "## What's the ABV of the average beer look like?\n",
    "\n",
    "### Show me in two different ways: one command to show the `median`/`mean`/etc, and secondly show me a chart"
   ]
  },
  {
   "cell_type": "code",
   "execution_count": 18,
   "metadata": {},
   "outputs": [
    {
     "data": {
      "text/plain": [
       "ABV    5.6\n",
       "dtype: float64"
      ]
     },
     "execution_count": 18,
     "metadata": {},
     "output_type": "execute_result"
    }
   ],
   "source": [
    "df.median(numeric_only=True) "
   ]
  },
  {
   "cell_type": "code",
   "execution_count": 11,
   "metadata": {},
   "outputs": [
    {
     "data": {
      "text/plain": [
       "ABV    5.977342\n",
       "dtype: float64"
      ]
     },
     "execution_count": 11,
     "metadata": {},
     "output_type": "execute_result"
    }
   ],
   "source": [
    "df.mean(numeric_only=True)"
   ]
  },
  {
   "cell_type": "code",
   "execution_count": 19,
   "metadata": {},
   "outputs": [
    {
     "data": {
      "text/plain": [
       "<Axes: xlabel='Beer'>"
      ]
     },
     "execution_count": 19,
     "metadata": {},
     "output_type": "execute_result"
    },
    {
     "data": {
      "image/png": "[encoded data removed]",
      "text/plain": [
       "<Figure size 640x480 with 1 Axes>"
      ]
     },
     "metadata": {},
     "output_type": "display_data"
    }
   ],
   "source": [
    "df.groupby('Beer')['ABV'].median().sort_values().plot()"
   ]
  },
  {
   "cell_type": "markdown",
   "metadata": {},
   "source": [
    "### We don't have ABV for all of the beers, how many are we missing them from?\n",
    "\n",
    "- *Tip: You can use `isnull()` or `notnull()` to see where a column is missing data.*\n",
    "- *Tip: You just want to count how many `True`s and `False`s there are.*\n",
    "- *Tip: It's a weird trick involving something we usually use to count things in a column*"
   ]
  },
  {
   "cell_type": "code",
   "execution_count": 20,
   "metadata": {},
   "outputs": [
    {
     "data": {
      "text/plain": [
       "ABV\n",
       "False    0.971854\n",
       "True     0.028146\n",
       "Name: proportion, dtype: float64"
      ]
     },
     "execution_count": 20,
     "metadata": {},
     "output_type": "execute_result"
    }
   ],
   "source": [
    "df[df.ABV.isnull()]\n",
    "df.ABV.isna().value_counts(normalize=True)"
   ]
  },
  {
   "cell_type": "markdown",
   "metadata": {},
   "source": [
    "# Looking at location\n",
    "\n",
    "Brooklyn used to produce 80% of the country's beer! Let's see if it's still true."
   ]
  },
  {
   "cell_type": "markdown",
   "metadata": {},
   "source": [
    "## What are the top 10 cities in the US for canned craft beer?"
   ]
  },
  {
   "cell_type": "code",
   "execution_count": 21,
   "metadata": {},
   "outputs": [
    {
     "data": {
      "text/plain": [
       "Location\n",
       "Grand Rapids, MI    66\n",
       "Chicago, IL         55\n",
       "Portland, OR        52\n",
       "Indianapolis, IN    43\n",
       "San Diego, CA       42\n",
       "Boulder, CO         41\n",
       "Denver, CO          40\n",
       "Brooklyn, NY        38\n",
       "Seattle, WA         35\n",
       "Longmont, CO        33\n",
       "Name: count, dtype: int64"
      ]
     },
     "execution_count": 21,
     "metadata": {},
     "output_type": "execute_result"
    }
   ],
   "source": [
    "df.Location.value_counts().head(10)"
   ]
  },
  {
   "cell_type": "markdown",
   "metadata": {},
   "source": [
    "## List all of the beer from Brooklyn, NY"
   ]
  },
  {
   "cell_type": "code",
   "execution_count": 22,
   "metadata": {},
   "outputs": [
    {
     "data": {
      "text/html": [
       "<div>\n",
       "<style scoped>\n",
       "    .dataframe tbody tr th:only-of-type {\n",
       "        vertical-align: middle;\n",
       "    }\n",
       "\n",
       "    .dataframe tbody tr th {\n",
       "        vertical-align: top;\n",
       "    }\n",
       "\n",
       "    .dataframe thead th {\n",
       "        text-align: right;\n",
       "    }\n",
       "</style>\n",
       "<table border=\"1\" class=\"dataframe\">\n",
       "  <thead>\n",
       "    <tr style=\"text-align: right;\">\n",
       "      <th></th>\n",
       "      <th>Beer</th>\n",
       "      <th>Brewery</th>\n",
       "      <th>Location</th>\n",
       "      <th>Style</th>\n",
       "      <th>Size</th>\n",
       "      <th>ABV</th>\n",
       "      <th>IBUs</th>\n",
       "    </tr>\n",
       "  </thead>\n",
       "  <tbody>\n",
       "    <tr>\n",
       "      <th>115</th>\n",
       "      <td>4Beans</td>\n",
       "      <td>Sixpoint Craft Ales</td>\n",
       "      <td>Brooklyn, NY</td>\n",
       "      <td>Baltic Porter</td>\n",
       "      <td>12 oz.</td>\n",
       "      <td>10.0</td>\n",
       "      <td>52</td>\n",
       "    </tr>\n",
       "    <tr>\n",
       "      <th>210</th>\n",
       "      <td>Jammer</td>\n",
       "      <td>Sixpoint Craft Ales</td>\n",
       "      <td>Brooklyn, NY</td>\n",
       "      <td>Gose</td>\n",
       "      <td>12 oz. Slimline</td>\n",
       "      <td>4.2</td>\n",
       "      <td>16</td>\n",
       "    </tr>\n",
       "    <tr>\n",
       "      <th>246</th>\n",
       "      <td>Abigale</td>\n",
       "      <td>Sixpoint Craft Ales</td>\n",
       "      <td>Brooklyn, NY</td>\n",
       "      <td>Belgian Pale Ale</td>\n",
       "      <td>12 oz.</td>\n",
       "      <td>8.0</td>\n",
       "      <td>Does not apply</td>\n",
       "    </tr>\n",
       "    <tr>\n",
       "      <th>404</th>\n",
       "      <td>Nomader Weiss</td>\n",
       "      <td>Evil Twin Brewing</td>\n",
       "      <td>Brooklyn, NY</td>\n",
       "      <td>Berliner Weissbier</td>\n",
       "      <td>12 oz.</td>\n",
       "      <td>4.0</td>\n",
       "      <td>Does not apply</td>\n",
       "    </tr>\n",
       "    <tr>\n",
       "      <th>421</th>\n",
       "      <td>Rad</td>\n",
       "      <td>Sixpoint Craft Ales</td>\n",
       "      <td>Brooklyn, NY</td>\n",
       "      <td>Fruit / Vegetable Beer</td>\n",
       "      <td>16 oz.</td>\n",
       "      <td>3.2</td>\n",
       "      <td>7</td>\n",
       "    </tr>\n",
       "    <tr>\n",
       "      <th>439</th>\n",
       "      <td>Molotov Lite</td>\n",
       "      <td>Evil Twin Brewing</td>\n",
       "      <td>Brooklyn, NY</td>\n",
       "      <td>American Double / Imperial IPA</td>\n",
       "      <td>16 oz.</td>\n",
       "      <td>8.5</td>\n",
       "      <td>Does not apply</td>\n",
       "    </tr>\n",
       "    <tr>\n",
       "      <th>588</th>\n",
       "      <td>Bengali</td>\n",
       "      <td>Sixpoint Craft Ales</td>\n",
       "      <td>Brooklyn, NY</td>\n",
       "      <td>American IPA</td>\n",
       "      <td>24 oz. \"Silo Can\"</td>\n",
       "      <td>6.5</td>\n",
       "      <td>62</td>\n",
       "    </tr>\n",
       "    <tr>\n",
       "      <th>713</th>\n",
       "      <td>Sensi Harvest</td>\n",
       "      <td>Sixpoint Craft Ales</td>\n",
       "      <td>Brooklyn, NY</td>\n",
       "      <td>American Pale Ale (APA)</td>\n",
       "      <td>12 oz.</td>\n",
       "      <td>4.7</td>\n",
       "      <td>50</td>\n",
       "    </tr>\n",
       "    <tr>\n",
       "      <th>969</th>\n",
       "      <td>Hi-Res</td>\n",
       "      <td>Sixpoint Craft Ales</td>\n",
       "      <td>Brooklyn, NY</td>\n",
       "      <td>American Double / Imperial IPA</td>\n",
       "      <td>12 oz.</td>\n",
       "      <td>9.9</td>\n",
       "      <td>111</td>\n",
       "    </tr>\n",
       "    <tr>\n",
       "      <th>987</th>\n",
       "      <td>KelSo Nut Brown Lager</td>\n",
       "      <td>KelSo Beer Company</td>\n",
       "      <td>Brooklyn, NY</td>\n",
       "      <td>Euro Dark Lager</td>\n",
       "      <td>12 oz.</td>\n",
       "      <td>5.7</td>\n",
       "      <td>19</td>\n",
       "    </tr>\n",
       "    <tr>\n",
       "      <th>1057</th>\n",
       "      <td>Global Warmer</td>\n",
       "      <td>Sixpoint Craft Ales</td>\n",
       "      <td>Brooklyn, NY</td>\n",
       "      <td>American Strong Ale</td>\n",
       "      <td>12 oz.</td>\n",
       "      <td>7.0</td>\n",
       "      <td>70</td>\n",
       "    </tr>\n",
       "    <tr>\n",
       "      <th>1074</th>\n",
       "      <td>Autumnation (2013)</td>\n",
       "      <td>Sixpoint Craft Ales</td>\n",
       "      <td>Brooklyn, NY</td>\n",
       "      <td>American IPA</td>\n",
       "      <td>16 oz.</td>\n",
       "      <td>6.7</td>\n",
       "      <td>74</td>\n",
       "    </tr>\n",
       "    <tr>\n",
       "      <th>1093</th>\n",
       "      <td>KelSo India Pale Ale</td>\n",
       "      <td>KelSo Beer Company</td>\n",
       "      <td>Brooklyn, NY</td>\n",
       "      <td>American IPA</td>\n",
       "      <td>12 oz.</td>\n",
       "      <td>6.0</td>\n",
       "      <td>64</td>\n",
       "    </tr>\n",
       "    <tr>\n",
       "      <th>1267</th>\n",
       "      <td>The Crisp</td>\n",
       "      <td>Sixpoint Craft Ales</td>\n",
       "      <td>Brooklyn, NY</td>\n",
       "      <td>German Pilsener</td>\n",
       "      <td>16 oz.</td>\n",
       "      <td>5.4</td>\n",
       "      <td>42</td>\n",
       "    </tr>\n",
       "    <tr>\n",
       "      <th>1268</th>\n",
       "      <td>Sweet Action</td>\n",
       "      <td>Sixpoint Craft Ales</td>\n",
       "      <td>Brooklyn, NY</td>\n",
       "      <td>Cream Ale</td>\n",
       "      <td>16 oz.</td>\n",
       "      <td>5.2</td>\n",
       "      <td>34</td>\n",
       "    </tr>\n",
       "    <tr>\n",
       "      <th>1269</th>\n",
       "      <td>Righteous Ale</td>\n",
       "      <td>Sixpoint Craft Ales</td>\n",
       "      <td>Brooklyn, NY</td>\n",
       "      <td>Rye Beer</td>\n",
       "      <td>16 oz.</td>\n",
       "      <td>6.3</td>\n",
       "      <td>57</td>\n",
       "    </tr>\n",
       "    <tr>\n",
       "      <th>1270</th>\n",
       "      <td>Bengali Tiger</td>\n",
       "      <td>Sixpoint Craft Ales</td>\n",
       "      <td>Brooklyn, NY</td>\n",
       "      <td>American IPA</td>\n",
       "      <td>16 oz.</td>\n",
       "      <td>6.4</td>\n",
       "      <td>62</td>\n",
       "    </tr>\n",
       "    <tr>\n",
       "      <th>1305</th>\n",
       "      <td>KelSo Pilsner</td>\n",
       "      <td>KelSo Beer Company</td>\n",
       "      <td>Brooklyn, NY</td>\n",
       "      <td>Czech Pilsener</td>\n",
       "      <td>12 oz.</td>\n",
       "      <td>5.5</td>\n",
       "      <td>23</td>\n",
       "    </tr>\n",
       "    <tr>\n",
       "      <th>1365</th>\n",
       "      <td>Hipster Ale (Two Roads Brewing)</td>\n",
       "      <td>Evil Twin Brewing</td>\n",
       "      <td>Brooklyn, NY</td>\n",
       "      <td>American Pale Ale (APA)</td>\n",
       "      <td>12 oz.</td>\n",
       "      <td>5.5</td>\n",
       "      <td>Does not apply</td>\n",
       "    </tr>\n",
       "    <tr>\n",
       "      <th>1366</th>\n",
       "      <td>Bikini Beer</td>\n",
       "      <td>Evil Twin Brewing</td>\n",
       "      <td>Brooklyn, NY</td>\n",
       "      <td>American IPA</td>\n",
       "      <td>12 oz.</td>\n",
       "      <td>2.7</td>\n",
       "      <td>Does not apply</td>\n",
       "    </tr>\n",
       "    <tr>\n",
       "      <th>1373</th>\n",
       "      <td>East India Pale Ale</td>\n",
       "      <td>Brooklyn Brewery</td>\n",
       "      <td>Brooklyn, NY</td>\n",
       "      <td>English India Pale Ale (IPA)</td>\n",
       "      <td>16 oz.</td>\n",
       "      <td>6.8</td>\n",
       "      <td>47</td>\n",
       "    </tr>\n",
       "    <tr>\n",
       "      <th>1624</th>\n",
       "      <td>3Beans</td>\n",
       "      <td>Sixpoint Craft Ales</td>\n",
       "      <td>Brooklyn, NY</td>\n",
       "      <td>Baltic Porter</td>\n",
       "      <td>12 oz.</td>\n",
       "      <td>9.9</td>\n",
       "      <td>85</td>\n",
       "    </tr>\n",
       "    <tr>\n",
       "      <th>1836</th>\n",
       "      <td>Brownstone</td>\n",
       "      <td>Sixpoint Craft Ales</td>\n",
       "      <td>Brooklyn, NY</td>\n",
       "      <td>American Brown Ale</td>\n",
       "      <td>16 oz.</td>\n",
       "      <td>5.9</td>\n",
       "      <td>47</td>\n",
       "    </tr>\n",
       "    <tr>\n",
       "      <th>1857</th>\n",
       "      <td>Brooklyn Summer Ale</td>\n",
       "      <td>Brooklyn Brewery</td>\n",
       "      <td>Brooklyn, NY</td>\n",
       "      <td>English Pale Mild Ale</td>\n",
       "      <td>12 oz.</td>\n",
       "      <td>4.5</td>\n",
       "      <td>Does not apply</td>\n",
       "    </tr>\n",
       "    <tr>\n",
       "      <th>1962</th>\n",
       "      <td>Hipster Ale (Westbrook Brewing)</td>\n",
       "      <td>Evil Twin Brewing</td>\n",
       "      <td>Brooklyn, NY</td>\n",
       "      <td>American Pale Ale (APA)</td>\n",
       "      <td>12 oz.</td>\n",
       "      <td>5.5</td>\n",
       "      <td>Does not apply</td>\n",
       "    </tr>\n",
       "    <tr>\n",
       "      <th>1970</th>\n",
       "      <td>Apollo</td>\n",
       "      <td>Sixpoint Craft Ales</td>\n",
       "      <td>Brooklyn, NY</td>\n",
       "      <td>American Pale Wheat Ale</td>\n",
       "      <td>16 oz.</td>\n",
       "      <td>5.2</td>\n",
       "      <td>11</td>\n",
       "    </tr>\n",
       "    <tr>\n",
       "      <th>1971</th>\n",
       "      <td>Harbinger</td>\n",
       "      <td>Sixpoint Craft Ales</td>\n",
       "      <td>Brooklyn, NY</td>\n",
       "      <td>Saison / Farmhouse Ale</td>\n",
       "      <td>16 oz.</td>\n",
       "      <td>4.9</td>\n",
       "      <td>35</td>\n",
       "    </tr>\n",
       "    <tr>\n",
       "      <th>1972</th>\n",
       "      <td>Resin</td>\n",
       "      <td>Sixpoint Craft Ales</td>\n",
       "      <td>Brooklyn, NY</td>\n",
       "      <td>American Double / Imperial IPA</td>\n",
       "      <td>12 oz.</td>\n",
       "      <td>9.1</td>\n",
       "      <td>103</td>\n",
       "    </tr>\n",
       "    <tr>\n",
       "      <th>2027</th>\n",
       "      <td>East India Pale Ale</td>\n",
       "      <td>Brooklyn Brewery</td>\n",
       "      <td>Brooklyn, NY</td>\n",
       "      <td>English India Pale Ale (IPA)</td>\n",
       "      <td>12 oz.</td>\n",
       "      <td>6.8</td>\n",
       "      <td>47</td>\n",
       "    </tr>\n",
       "    <tr>\n",
       "      <th>2062</th>\n",
       "      <td>Diesel</td>\n",
       "      <td>Sixpoint Craft Ales</td>\n",
       "      <td>Brooklyn, NY</td>\n",
       "      <td>American Stout</td>\n",
       "      <td>16 oz.</td>\n",
       "      <td>6.3</td>\n",
       "      <td>69</td>\n",
       "    </tr>\n",
       "    <tr>\n",
       "      <th>2074</th>\n",
       "      <td>Autumnation (2011-12) (2011)</td>\n",
       "      <td>Sixpoint Craft Ales</td>\n",
       "      <td>Brooklyn, NY</td>\n",
       "      <td>Pumpkin Ale</td>\n",
       "      <td>16 oz.</td>\n",
       "      <td>6.0</td>\n",
       "      <td>48</td>\n",
       "    </tr>\n",
       "    <tr>\n",
       "      <th>2140</th>\n",
       "      <td>The Crisp (2011)</td>\n",
       "      <td>Sixpoint Craft Ales</td>\n",
       "      <td>Brooklyn, NY</td>\n",
       "      <td>German Pilsener</td>\n",
       "      <td>16 oz.</td>\n",
       "      <td>5.4</td>\n",
       "      <td>42</td>\n",
       "    </tr>\n",
       "    <tr>\n",
       "      <th>2141</th>\n",
       "      <td>Sweet Action (2011)</td>\n",
       "      <td>Sixpoint Craft Ales</td>\n",
       "      <td>Brooklyn, NY</td>\n",
       "      <td>Cream Ale</td>\n",
       "      <td>16 oz.</td>\n",
       "      <td>5.2</td>\n",
       "      <td>34</td>\n",
       "    </tr>\n",
       "    <tr>\n",
       "      <th>2142</th>\n",
       "      <td>Righteous Ale (2011)</td>\n",
       "      <td>Sixpoint Craft Ales</td>\n",
       "      <td>Brooklyn, NY</td>\n",
       "      <td>Rye Beer</td>\n",
       "      <td>16 oz.</td>\n",
       "      <td>6.3</td>\n",
       "      <td>57</td>\n",
       "    </tr>\n",
       "    <tr>\n",
       "      <th>2143</th>\n",
       "      <td>Bengali Tiger (2011)</td>\n",
       "      <td>Sixpoint Craft Ales</td>\n",
       "      <td>Brooklyn, NY</td>\n",
       "      <td>American IPA</td>\n",
       "      <td>16 oz.</td>\n",
       "      <td>6.4</td>\n",
       "      <td>62</td>\n",
       "    </tr>\n",
       "    <tr>\n",
       "      <th>2219</th>\n",
       "      <td>Brooklyn Summer Ale (2011)</td>\n",
       "      <td>Brooklyn Brewery</td>\n",
       "      <td>Brooklyn, NY</td>\n",
       "      <td>English Pale Mild Ale</td>\n",
       "      <td>12 oz.</td>\n",
       "      <td>4.5</td>\n",
       "      <td>Does not apply</td>\n",
       "    </tr>\n",
       "    <tr>\n",
       "      <th>2350</th>\n",
       "      <td>Brooklyn Lager (16 oz.)</td>\n",
       "      <td>Brooklyn Brewery</td>\n",
       "      <td>Brooklyn, NY</td>\n",
       "      <td>American Amber / Red Lager</td>\n",
       "      <td>16 oz.</td>\n",
       "      <td>5.2</td>\n",
       "      <td>Does not apply</td>\n",
       "    </tr>\n",
       "    <tr>\n",
       "      <th>2351</th>\n",
       "      <td>Brooklyn Lager (12 oz.)</td>\n",
       "      <td>Brooklyn Brewery</td>\n",
       "      <td>Brooklyn, NY</td>\n",
       "      <td>American Amber / Red Lager</td>\n",
       "      <td>12 oz.</td>\n",
       "      <td>5.2</td>\n",
       "      <td>Does not apply</td>\n",
       "    </tr>\n",
       "  </tbody>\n",
       "</table>\n",
       "</div>"
      ],
      "text/plain": [
       "                                 Beer              Brewery      Location  \\\n",
       "115                            4Beans  Sixpoint Craft Ales  Brooklyn, NY   \n",
       "210                            Jammer  Sixpoint Craft Ales  Brooklyn, NY   \n",
       "246                           Abigale  Sixpoint Craft Ales  Brooklyn, NY   \n",
       "404                     Nomader Weiss    Evil Twin Brewing  Brooklyn, NY   \n",
       "421                               Rad  Sixpoint Craft Ales  Brooklyn, NY   \n",
       "439                      Molotov Lite    Evil Twin Brewing  Brooklyn, NY   \n",
       "588                           Bengali  Sixpoint Craft Ales  Brooklyn, NY   \n",
       "713                     Sensi Harvest  Sixpoint Craft Ales  Brooklyn, NY   \n",
       "969                            Hi-Res  Sixpoint Craft Ales  Brooklyn, NY   \n",
       "987             KelSo Nut Brown Lager   KelSo Beer Company  Brooklyn, NY   \n",
       "1057                    Global Warmer  Sixpoint Craft Ales  Brooklyn, NY   \n",
       "1074               Autumnation (2013)  Sixpoint Craft Ales  Brooklyn, NY   \n",
       "1093             KelSo India Pale Ale   KelSo Beer Company  Brooklyn, NY   \n",
       "1267                        The Crisp  Sixpoint Craft Ales  Brooklyn, NY   \n",
       "1268                     Sweet Action  Sixpoint Craft Ales  Brooklyn, NY   \n",
       "1269                    Righteous Ale  Sixpoint Craft Ales  Brooklyn, NY   \n",
       "1270                    Bengali Tiger  Sixpoint Craft Ales  Brooklyn, NY   \n",
       "1305                    KelSo Pilsner   KelSo Beer Company  Brooklyn, NY   \n",
       "1365  Hipster Ale (Two Roads Brewing)    Evil Twin Brewing  Brooklyn, NY   \n",
       "1366                      Bikini Beer    Evil Twin Brewing  Brooklyn, NY   \n",
       "1373              East India Pale Ale     Brooklyn Brewery  Brooklyn, NY   \n",
       "1624                           3Beans  Sixpoint Craft Ales  Brooklyn, NY   \n",
       "1836                       Brownstone  Sixpoint Craft Ales  Brooklyn, NY   \n",
       "1857              Brooklyn Summer Ale     Brooklyn Brewery  Brooklyn, NY   \n",
       "1962  Hipster Ale (Westbrook Brewing)    Evil Twin Brewing  Brooklyn, NY   \n",
       "1970                           Apollo  Sixpoint Craft Ales  Brooklyn, NY   \n",
       "1971                        Harbinger  Sixpoint Craft Ales  Brooklyn, NY   \n",
       "1972                            Resin  Sixpoint Craft Ales  Brooklyn, NY   \n",
       "2027              East India Pale Ale     Brooklyn Brewery  Brooklyn, NY   \n",
       "2062                           Diesel  Sixpoint Craft Ales  Brooklyn, NY   \n",
       "2074     Autumnation (2011-12) (2011)  Sixpoint Craft Ales  Brooklyn, NY   \n",
       "2140                 The Crisp (2011)  Sixpoint Craft Ales  Brooklyn, NY   \n",
       "2141              Sweet Action (2011)  Sixpoint Craft Ales  Brooklyn, NY   \n",
       "2142             Righteous Ale (2011)  Sixpoint Craft Ales  Brooklyn, NY   \n",
       "2143             Bengali Tiger (2011)  Sixpoint Craft Ales  Brooklyn, NY   \n",
       "2219       Brooklyn Summer Ale (2011)     Brooklyn Brewery  Brooklyn, NY   \n",
       "2350          Brooklyn Lager (16 oz.)     Brooklyn Brewery  Brooklyn, NY   \n",
       "2351          Brooklyn Lager (12 oz.)     Brooklyn Brewery  Brooklyn, NY   \n",
       "\n",
       "                               Style               Size   ABV            IBUs  \n",
       "115                    Baltic Porter             12 oz.  10.0              52  \n",
       "210                             Gose    12 oz. Slimline   4.2              16  \n",
       "246                 Belgian Pale Ale             12 oz.   8.0  Does not apply  \n",
       "404               Berliner Weissbier             12 oz.   4.0  Does not apply  \n",
       "421           Fruit / Vegetable Beer             16 oz.   3.2               7  \n",
       "439   American Double / Imperial IPA             16 oz.   8.5  Does not apply  \n",
       "588                     American IPA  24 oz. \"Silo Can\"   6.5              62  \n",
       "713          American Pale Ale (APA)             12 oz.   4.7              50  \n",
       "969   American Double / Imperial IPA             12 oz.   9.9             111  \n",
       "987                  Euro Dark Lager             12 oz.   5.7              19  \n",
       "1057             American Strong Ale             12 oz.   7.0              70  \n",
       "1074                    American IPA             16 oz.   6.7              74  \n",
       "1093                    American IPA             12 oz.   6.0              64  \n",
       "1267                 German Pilsener             16 oz.   5.4              42  \n",
       "1268                       Cream Ale             16 oz.   5.2              34  \n",
       "1269                        Rye Beer             16 oz.   6.3              57  \n",
       "1270                    American IPA             16 oz.   6.4              62  \n",
       "1305                  Czech Pilsener             12 oz.   5.5              23  \n",
       "1365         American Pale Ale (APA)             12 oz.   5.5  Does not apply  \n",
       "1366                    American IPA             12 oz.   2.7  Does not apply  \n",
       "1373    English India Pale Ale (IPA)             16 oz.   6.8              47  \n",
       "1624                   Baltic Porter             12 oz.   9.9              85  \n",
       "1836              American Brown Ale             16 oz.   5.9              47  \n",
       "1857           English Pale Mild Ale             12 oz.   4.5  Does not apply  \n",
       "1962         American Pale Ale (APA)             12 oz.   5.5  Does not apply  \n",
       "1970         American Pale Wheat Ale             16 oz.   5.2              11  \n",
       "1971          Saison / Farmhouse Ale             16 oz.   4.9              35  \n",
       "1972  American Double / Imperial IPA             12 oz.   9.1             103  \n",
       "2027    English India Pale Ale (IPA)             12 oz.   6.8              47  \n",
       "2062                  American Stout             16 oz.   6.3              69  \n",
       "2074                     Pumpkin Ale             16 oz.   6.0              48  \n",
       "2140                 German Pilsener             16 oz.   5.4              42  \n",
       "2141                       Cream Ale             16 oz.   5.2              34  \n",
       "2142                        Rye Beer             16 oz.   6.3              57  \n",
       "2143                    American IPA             16 oz.   6.4              62  \n",
       "2219           English Pale Mild Ale             12 oz.   4.5  Does not apply  \n",
       "2350      American Amber / Red Lager             16 oz.   5.2  Does not apply  \n",
       "2351      American Amber / Red Lager             12 oz.   5.2  Does not apply  "
      ]
     },
     "execution_count": 22,
     "metadata": {},
     "output_type": "execute_result"
    }
   ],
   "source": [
    "Broo = df[df.Location=='Brooklyn, NY']\n",
    "Broo\n"
   ]
  },
  {
   "cell_type": "markdown",
   "metadata": {},
   "source": [
    "## What brewery in Brooklyn puts out the most different cans of beer?"
   ]
  },
  {
   "cell_type": "code",
   "execution_count": 23,
   "metadata": {},
   "outputs": [
    {
     "data": {
      "text/plain": [
       "Brewery\n",
       "Sixpoint Craft Ales    24\n",
       "Brooklyn Brewery        6\n",
       "Evil Twin Brewing       5\n",
       "KelSo Beer Company      3\n",
       "Name: count, dtype: int64"
      ]
     },
     "execution_count": 23,
     "metadata": {},
     "output_type": "execute_result"
    }
   ],
   "source": [
    "Broo.Brewery.value_counts()"
   ]
  },
  {
   "cell_type": "markdown",
   "metadata": {},
   "source": [
    "## What are the five most common styles of beer produced by Sixpoint?"
   ]
  },
  {
   "cell_type": "code",
   "execution_count": 24,
   "metadata": {},
   "outputs": [
    {
     "data": {
      "text/plain": [
       "115             Baltic Porter\n",
       "210                      Gose\n",
       "246          Belgian Pale Ale\n",
       "421    Fruit / Vegetable Beer\n",
       "588              American IPA\n",
       "Name: Style, dtype: object"
      ]
     },
     "execution_count": 24,
     "metadata": {},
     "output_type": "execute_result"
    }
   ],
   "source": [
    "Broo[Broo.Brewery=='Sixpoint Craft Ales'].Style.head(5)"
   ]
  },
  {
   "cell_type": "markdown",
   "metadata": {},
   "source": [
    "## List all of the breweries in New York state.\n",
    "\n",
    "- *Tip: We want to match *part* of the `Location` column, but not all of it.*\n",
    "- *Tip: Watch out for `NaN` values! You might be close, but you'll need to pass an extra parameter to make it work without an error.*"
   ]
  },
  {
   "cell_type": "code",
   "execution_count": 25,
   "metadata": {},
   "outputs": [
    {
     "data": {
      "text/html": [
       "<div>\n",
       "<style scoped>\n",
       "    .dataframe tbody tr th:only-of-type {\n",
       "        vertical-align: middle;\n",
       "    }\n",
       "\n",
       "    .dataframe tbody tr th {\n",
       "        vertical-align: top;\n",
       "    }\n",
       "\n",
       "    .dataframe thead th {\n",
       "        text-align: right;\n",
       "    }\n",
       "</style>\n",
       "<table border=\"1\" class=\"dataframe\">\n",
       "  <thead>\n",
       "    <tr style=\"text-align: right;\">\n",
       "      <th></th>\n",
       "      <th>Beer</th>\n",
       "      <th>Brewery</th>\n",
       "      <th>Location</th>\n",
       "      <th>Style</th>\n",
       "      <th>Size</th>\n",
       "      <th>ABV</th>\n",
       "      <th>IBUs</th>\n",
       "    </tr>\n",
       "  </thead>\n",
       "  <tbody>\n",
       "  </tbody>\n",
       "</table>\n",
       "</div>"
      ],
      "text/plain": [
       "Empty DataFrame\n",
       "Columns: [Beer, Brewery, Location, Style, Size, ABV, IBUs]\n",
       "Index: []"
      ]
     },
     "execution_count": 25,
     "metadata": {},
     "output_type": "execute_result"
    }
   ],
   "source": [
    "df[df.Location=='NY']"
   ]
  },
  {
   "cell_type": "markdown",
   "metadata": {},
   "source": [
    "### Now *count* all of the breweries in New York state"
   ]
  },
  {
   "cell_type": "code",
   "execution_count": 53,
   "metadata": {},
   "outputs": [
    {
     "data": {
      "text/plain": [
       "Location\n",
       "Grand Rapids, MI    66\n",
       "Chicago, IL         55\n",
       "Portland, OR        52\n",
       "Indianapolis, IN    43\n",
       "San Diego, CA       42\n",
       "Boulder, CO         41\n",
       "Denver, CO          40\n",
       "Brooklyn, NY        38\n",
       "Seattle, WA         35\n",
       "Longmont, CO        33\n",
       "Name: count, dtype: int64"
      ]
     },
     "execution_count": 53,
     "metadata": {},
     "output_type": "execute_result"
    }
   ],
   "source": [
    "df.Location.value_counts().head(10)"
   ]
  },
  {
   "cell_type": "code",
   "execution_count": 54,
   "metadata": {},
   "outputs": [],
   "source": [
    "#df[df.Location.isnull()]\n",
    "df['Location'] = df.Location.str.replace(\"NaN\",\"\")"
   ]
  },
  {
   "cell_type": "code",
   "execution_count": 29,
   "metadata": {},
   "outputs": [
    {
     "data": {
      "text/plain": [
       "Location\n",
       "Brooklyn, NY         38\n",
       "Utica, NY            13\n",
       "Patchogue, NY         4\n",
       "Garrattsville, NY     4\n",
       "Bronx, NY             3\n",
       "New York, NY          3\n",
       "Chatham, NY           2\n",
       "Montauk, NY           2\n",
       "Elmira, NY            2\n",
       "Newburgh, NY          1\n",
       "Southampton, NY       1\n",
       "Rochester, NY         1\n",
       "Name: count, dtype: int64"
      ]
     },
     "execution_count": 29,
     "metadata": {},
     "output_type": "execute_result"
    }
   ],
   "source": [
    "df[df.Location.str.contains(\"NY\", na=False)].Location.value_counts()"
   ]
  },
  {
   "cell_type": "markdown",
   "metadata": {},
   "source": [
    "# Measuring International Bitterness Units\n",
    "\n",
    "## Display all of the IPAs\n",
    "\n",
    "Include American IPAs, Imperial IPAs, and anything else with \"IPA in it.\"\n",
    "\n",
    "IPA stands for [India Pale Ale](https://www.bonappetit.com/story/ipa-beer-styles), and is probably the most popular kind of beer in the US for people who are drinking [craft beer](https://www.craftbeer.com/beer/what-is-craft-beer)."
   ]
  },
  {
   "cell_type": "code",
   "execution_count": 43,
   "metadata": {},
   "outputs": [
    {
     "data": {
      "text/html": [
       "<div>\n",
       "<style scoped>\n",
       "    .dataframe tbody tr th:only-of-type {\n",
       "        vertical-align: middle;\n",
       "    }\n",
       "\n",
       "    .dataframe tbody tr th {\n",
       "        vertical-align: top;\n",
       "    }\n",
       "\n",
       "    .dataframe thead th {\n",
       "        text-align: right;\n",
       "    }\n",
       "</style>\n",
       "<table border=\"1\" class=\"dataframe\">\n",
       "  <thead>\n",
       "    <tr style=\"text-align: right;\">\n",
       "      <th></th>\n",
       "      <th>Beer</th>\n",
       "      <th>Brewery</th>\n",
       "      <th>Location</th>\n",
       "      <th>Style</th>\n",
       "      <th>Size</th>\n",
       "      <th>ABV</th>\n",
       "      <th>IBUs</th>\n",
       "    </tr>\n",
       "  </thead>\n",
       "  <tbody>\n",
       "    <tr>\n",
       "      <th>0</th>\n",
       "      <td>Get Together</td>\n",
       "      <td>NorthGate Brewing</td>\n",
       "      <td>Minneapolis, MN</td>\n",
       "      <td>American IPA</td>\n",
       "      <td>16 oz.</td>\n",
       "      <td>4.5</td>\n",
       "      <td>NaN</td>\n",
       "    </tr>\n",
       "    <tr>\n",
       "      <th>6</th>\n",
       "      <td>Citra Ass Down</td>\n",
       "      <td>Against the Grain Brewery</td>\n",
       "      <td>Louisville, KY</td>\n",
       "      <td>American Double / Imperial IPA</td>\n",
       "      <td>16 oz.</td>\n",
       "      <td>8.0</td>\n",
       "      <td>NaN</td>\n",
       "    </tr>\n",
       "    <tr>\n",
       "      <th>14</th>\n",
       "      <td>Rico Sauvin</td>\n",
       "      <td>Against the Grain Brewery</td>\n",
       "      <td>Louisville, KY</td>\n",
       "      <td>American Double / Imperial IPA</td>\n",
       "      <td>16 oz.</td>\n",
       "      <td>7.6</td>\n",
       "      <td>NaN</td>\n",
       "    </tr>\n",
       "    <tr>\n",
       "      <th>17</th>\n",
       "      <td>Pile of Face</td>\n",
       "      <td>Against the Grain Brewery</td>\n",
       "      <td>Louisville, KY</td>\n",
       "      <td>American IPA</td>\n",
       "      <td>16 oz.</td>\n",
       "      <td>6.0</td>\n",
       "      <td>NaN</td>\n",
       "    </tr>\n",
       "    <tr>\n",
       "      <th>24</th>\n",
       "      <td>Habitus (2014)</td>\n",
       "      <td>Mike Hess Brewing Company</td>\n",
       "      <td>San Diego, CA</td>\n",
       "      <td>American Double / Imperial IPA</td>\n",
       "      <td>16 oz.</td>\n",
       "      <td>8.0</td>\n",
       "      <td>NaN</td>\n",
       "    </tr>\n",
       "    <tr>\n",
       "      <th>...</th>\n",
       "      <td>...</td>\n",
       "      <td>...</td>\n",
       "      <td>...</td>\n",
       "      <td>...</td>\n",
       "      <td>...</td>\n",
       "      <td>...</td>\n",
       "      <td>...</td>\n",
       "    </tr>\n",
       "    <tr>\n",
       "      <th>2403</th>\n",
       "      <td>Abrasive Ale</td>\n",
       "      <td>Surly Brewing Company</td>\n",
       "      <td>Brooklyn Center, MN</td>\n",
       "      <td>American Double / Imperial IPA</td>\n",
       "      <td>16 oz.</td>\n",
       "      <td>9.7</td>\n",
       "      <td>NaN</td>\n",
       "    </tr>\n",
       "    <tr>\n",
       "      <th>2406</th>\n",
       "      <td>Furious</td>\n",
       "      <td>Surly Brewing Company</td>\n",
       "      <td>Brooklyn Center, MN</td>\n",
       "      <td>American IPA</td>\n",
       "      <td>16 oz.</td>\n",
       "      <td>6.2</td>\n",
       "      <td>NaN</td>\n",
       "    </tr>\n",
       "    <tr>\n",
       "      <th>2408</th>\n",
       "      <td>Brew Free! or Die IPA</td>\n",
       "      <td>21st Amendment Brewery</td>\n",
       "      <td>San Francisco, CA</td>\n",
       "      <td>American IPA</td>\n",
       "      <td>12 oz.</td>\n",
       "      <td>7.0</td>\n",
       "      <td>NaN</td>\n",
       "    </tr>\n",
       "    <tr>\n",
       "      <th>2412</th>\n",
       "      <td>GUBNA Imperial IPA</td>\n",
       "      <td>Oskar Blues Brewery</td>\n",
       "      <td>Longmont, CO</td>\n",
       "      <td>American Double / Imperial IPA</td>\n",
       "      <td>12 oz.</td>\n",
       "      <td>9.9</td>\n",
       "      <td>NaN</td>\n",
       "    </tr>\n",
       "    <tr>\n",
       "      <th>2414</th>\n",
       "      <td>Gordon Ale (2009)</td>\n",
       "      <td>Oskar Blues Brewery</td>\n",
       "      <td>Longmont, CO</td>\n",
       "      <td>American Double / Imperial IPA</td>\n",
       "      <td>12 oz.</td>\n",
       "      <td>8.7</td>\n",
       "      <td>NaN</td>\n",
       "    </tr>\n",
       "  </tbody>\n",
       "</table>\n",
       "<p>571 rows × 7 columns</p>\n",
       "</div>"
      ],
      "text/plain": [
       "                       Beer                    Brewery             Location  \\\n",
       "0              Get Together          NorthGate Brewing      Minneapolis, MN   \n",
       "6            Citra Ass Down  Against the Grain Brewery       Louisville, KY   \n",
       "14              Rico Sauvin  Against the Grain Brewery       Louisville, KY   \n",
       "17             Pile of Face  Against the Grain Brewery       Louisville, KY   \n",
       "24           Habitus (2014)  Mike Hess Brewing Company        San Diego, CA   \n",
       "...                     ...                        ...                  ...   \n",
       "2403           Abrasive Ale      Surly Brewing Company  Brooklyn Center, MN   \n",
       "2406                Furious      Surly Brewing Company  Brooklyn Center, MN   \n",
       "2408  Brew Free! or Die IPA     21st Amendment Brewery    San Francisco, CA   \n",
       "2412     GUBNA Imperial IPA        Oskar Blues Brewery         Longmont, CO   \n",
       "2414      Gordon Ale (2009)        Oskar Blues Brewery         Longmont, CO   \n",
       "\n",
       "                               Style    Size  ABV  IBUs  \n",
       "0                       American IPA  16 oz.  4.5   NaN  \n",
       "6     American Double / Imperial IPA  16 oz.  8.0   NaN  \n",
       "14    American Double / Imperial IPA  16 oz.  7.6   NaN  \n",
       "17                      American IPA  16 oz.  6.0   NaN  \n",
       "24    American Double / Imperial IPA  16 oz.  8.0   NaN  \n",
       "...                              ...     ...  ...   ...  \n",
       "2403  American Double / Imperial IPA  16 oz.  9.7   NaN  \n",
       "2406                    American IPA  16 oz.  6.2   NaN  \n",
       "2408                    American IPA  12 oz.  7.0   NaN  \n",
       "2412  American Double / Imperial IPA  12 oz.  9.9   NaN  \n",
       "2414  American Double / Imperial IPA  12 oz.  8.7   NaN  \n",
       "\n",
       "[571 rows x 7 columns]"
      ]
     },
     "execution_count": 43,
     "metadata": {},
     "output_type": "execute_result"
    }
   ],
   "source": [
    "df[(df.Style == 'IPA') | (df.Style == 'Pale')]\n",
    "\n",
    "df[df.Style.str.contains(\"IPA\", na=False)]"
   ]
  },
  {
   "cell_type": "markdown",
   "metadata": {},
   "source": [
    "IPAs are usually pretty hoppy and bitter. IBU stands for [International Bitterness Unit](http://www.thebrewenthusiast.com/ibus/), and while a lot of places like to brag about having the most bitter beer (it's an American thing!), IBUs don't necessary *mean anything*.\n",
    "\n",
    "Let's look at how different beers have different IBU measurements."
   ]
  },
  {
   "cell_type": "markdown",
   "metadata": {},
   "source": [
    "## Try to get the average IBU measurement across all beers"
   ]
  },
  {
   "cell_type": "code",
   "execution_count": 33,
   "metadata": {},
   "outputs": [
    {
     "ename": "TypeError",
     "evalue": "can only concatenate str (not \"int\") to str",
     "output_type": "error",
     "traceback": [
      "\u001b[0;31m---------------------------------------------------------------------------\u001b[0m",
      "\u001b[0;31mTypeError\u001b[0m                                 Traceback (most recent call last)",
      "Cell \u001b[0;32mIn[33], line 1\u001b[0m\n\u001b[0;32m----> 1\u001b[0m \u001b[43mdf\u001b[49m\u001b[43m[\u001b[49m\u001b[38;5;124;43m'\u001b[39;49m\u001b[38;5;124;43mIBUs\u001b[39;49m\u001b[38;5;124;43m'\u001b[39;49m\u001b[43m]\u001b[49m\u001b[38;5;241;43m.\u001b[39;49m\u001b[43mmean\u001b[49m\u001b[43m(\u001b[49m\u001b[43m)\u001b[49m\n",
      "File \u001b[0;32m~/.pyenv/versions/3.11.6/lib/python3.11/site-packages/pandas/core/series.py:6221\u001b[0m, in \u001b[0;36mSeries.mean\u001b[0;34m(self, axis, skipna, numeric_only, **kwargs)\u001b[0m\n\u001b[1;32m   6213\u001b[0m \u001b[38;5;129m@doc\u001b[39m(make_doc(\u001b[38;5;124m\"\u001b[39m\u001b[38;5;124mmean\u001b[39m\u001b[38;5;124m\"\u001b[39m, ndim\u001b[38;5;241m=\u001b[39m\u001b[38;5;241m1\u001b[39m))\n\u001b[1;32m   6214\u001b[0m \u001b[38;5;28;01mdef\u001b[39;00m \u001b[38;5;21mmean\u001b[39m(\n\u001b[1;32m   6215\u001b[0m     \u001b[38;5;28mself\u001b[39m,\n\u001b[0;32m   (...)\u001b[0m\n\u001b[1;32m   6219\u001b[0m     \u001b[38;5;241m*\u001b[39m\u001b[38;5;241m*\u001b[39mkwargs,\n\u001b[1;32m   6220\u001b[0m ):\n\u001b[0;32m-> 6221\u001b[0m     \u001b[38;5;28;01mreturn\u001b[39;00m \u001b[43mNDFrame\u001b[49m\u001b[38;5;241;43m.\u001b[39;49m\u001b[43mmean\u001b[49m\u001b[43m(\u001b[49m\u001b[38;5;28;43mself\u001b[39;49m\u001b[43m,\u001b[49m\u001b[43m \u001b[49m\u001b[43maxis\u001b[49m\u001b[43m,\u001b[49m\u001b[43m \u001b[49m\u001b[43mskipna\u001b[49m\u001b[43m,\u001b[49m\u001b[43m \u001b[49m\u001b[43mnumeric_only\u001b[49m\u001b[43m,\u001b[49m\u001b[43m \u001b[49m\u001b[38;5;241;43m*\u001b[39;49m\u001b[38;5;241;43m*\u001b[39;49m\u001b[43mkwargs\u001b[49m\u001b[43m)\u001b[49m\n",
      "File \u001b[0;32m~/.pyenv/versions/3.11.6/lib/python3.11/site-packages/pandas/core/generic.py:11984\u001b[0m, in \u001b[0;36mNDFrame.mean\u001b[0;34m(self, axis, skipna, numeric_only, **kwargs)\u001b[0m\n\u001b[1;32m  11977\u001b[0m \u001b[38;5;28;01mdef\u001b[39;00m \u001b[38;5;21mmean\u001b[39m(\n\u001b[1;32m  11978\u001b[0m     \u001b[38;5;28mself\u001b[39m,\n\u001b[1;32m  11979\u001b[0m     axis: Axis \u001b[38;5;241m|\u001b[39m \u001b[38;5;28;01mNone\u001b[39;00m \u001b[38;5;241m=\u001b[39m \u001b[38;5;241m0\u001b[39m,\n\u001b[0;32m   (...)\u001b[0m\n\u001b[1;32m  11982\u001b[0m     \u001b[38;5;241m*\u001b[39m\u001b[38;5;241m*\u001b[39mkwargs,\n\u001b[1;32m  11983\u001b[0m ) \u001b[38;5;241m-\u001b[39m\u001b[38;5;241m>\u001b[39m Series \u001b[38;5;241m|\u001b[39m \u001b[38;5;28mfloat\u001b[39m:\n\u001b[0;32m> 11984\u001b[0m     \u001b[38;5;28;01mreturn\u001b[39;00m \u001b[38;5;28;43mself\u001b[39;49m\u001b[38;5;241;43m.\u001b[39;49m\u001b[43m_stat_function\u001b[49m\u001b[43m(\u001b[49m\n\u001b[1;32m  11985\u001b[0m \u001b[43m        \u001b[49m\u001b[38;5;124;43m\"\u001b[39;49m\u001b[38;5;124;43mmean\u001b[39;49m\u001b[38;5;124;43m\"\u001b[39;49m\u001b[43m,\u001b[49m\u001b[43m \u001b[49m\u001b[43mnanops\u001b[49m\u001b[38;5;241;43m.\u001b[39;49m\u001b[43mnanmean\u001b[49m\u001b[43m,\u001b[49m\u001b[43m \u001b[49m\u001b[43maxis\u001b[49m\u001b[43m,\u001b[49m\u001b[43m \u001b[49m\u001b[43mskipna\u001b[49m\u001b[43m,\u001b[49m\u001b[43m \u001b[49m\u001b[43mnumeric_only\u001b[49m\u001b[43m,\u001b[49m\u001b[43m \u001b[49m\u001b[38;5;241;43m*\u001b[39;49m\u001b[38;5;241;43m*\u001b[39;49m\u001b[43mkwargs\u001b[49m\n\u001b[1;32m  11986\u001b[0m \u001b[43m    \u001b[49m\u001b[43m)\u001b[49m\n",
      "File \u001b[0;32m~/.pyenv/versions/3.11.6/lib/python3.11/site-packages/pandas/core/generic.py:11941\u001b[0m, in \u001b[0;36mNDFrame._stat_function\u001b[0;34m(self, name, func, axis, skipna, numeric_only, **kwargs)\u001b[0m\n\u001b[1;32m  11937\u001b[0m nv\u001b[38;5;241m.\u001b[39mvalidate_func(name, (), kwargs)\n\u001b[1;32m  11939\u001b[0m validate_bool_kwarg(skipna, \u001b[38;5;124m\"\u001b[39m\u001b[38;5;124mskipna\u001b[39m\u001b[38;5;124m\"\u001b[39m, none_allowed\u001b[38;5;241m=\u001b[39m\u001b[38;5;28;01mFalse\u001b[39;00m)\n\u001b[0;32m> 11941\u001b[0m \u001b[38;5;28;01mreturn\u001b[39;00m \u001b[38;5;28;43mself\u001b[39;49m\u001b[38;5;241;43m.\u001b[39;49m\u001b[43m_reduce\u001b[49m\u001b[43m(\u001b[49m\n\u001b[1;32m  11942\u001b[0m \u001b[43m    \u001b[49m\u001b[43mfunc\u001b[49m\u001b[43m,\u001b[49m\u001b[43m \u001b[49m\u001b[43mname\u001b[49m\u001b[38;5;241;43m=\u001b[39;49m\u001b[43mname\u001b[49m\u001b[43m,\u001b[49m\u001b[43m \u001b[49m\u001b[43maxis\u001b[49m\u001b[38;5;241;43m=\u001b[39;49m\u001b[43maxis\u001b[49m\u001b[43m,\u001b[49m\u001b[43m \u001b[49m\u001b[43mskipna\u001b[49m\u001b[38;5;241;43m=\u001b[39;49m\u001b[43mskipna\u001b[49m\u001b[43m,\u001b[49m\u001b[43m \u001b[49m\u001b[43mnumeric_only\u001b[49m\u001b[38;5;241;43m=\u001b[39;49m\u001b[43mnumeric_only\u001b[49m\n\u001b[1;32m  11943\u001b[0m \u001b[43m\u001b[49m\u001b[43m)\u001b[49m\n",
      "File \u001b[0;32m~/.pyenv/versions/3.11.6/lib/python3.11/site-packages/pandas/core/series.py:6129\u001b[0m, in \u001b[0;36mSeries._reduce\u001b[0;34m(self, op, name, axis, skipna, numeric_only, filter_type, **kwds)\u001b[0m\n\u001b[1;32m   6124\u001b[0m     \u001b[38;5;66;03m# GH#47500 - change to TypeError to match other methods\u001b[39;00m\n\u001b[1;32m   6125\u001b[0m     \u001b[38;5;28;01mraise\u001b[39;00m \u001b[38;5;167;01mTypeError\u001b[39;00m(\n\u001b[1;32m   6126\u001b[0m         \u001b[38;5;124mf\u001b[39m\u001b[38;5;124m\"\u001b[39m\u001b[38;5;124mSeries.\u001b[39m\u001b[38;5;132;01m{\u001b[39;00mname\u001b[38;5;132;01m}\u001b[39;00m\u001b[38;5;124m does not allow \u001b[39m\u001b[38;5;132;01m{\u001b[39;00mkwd_name\u001b[38;5;132;01m}\u001b[39;00m\u001b[38;5;124m=\u001b[39m\u001b[38;5;132;01m{\u001b[39;00mnumeric_only\u001b[38;5;132;01m}\u001b[39;00m\u001b[38;5;124m \u001b[39m\u001b[38;5;124m\"\u001b[39m\n\u001b[1;32m   6127\u001b[0m         \u001b[38;5;124m\"\u001b[39m\u001b[38;5;124mwith non-numeric dtypes.\u001b[39m\u001b[38;5;124m\"\u001b[39m\n\u001b[1;32m   6128\u001b[0m     )\n\u001b[0;32m-> 6129\u001b[0m \u001b[38;5;28;01mreturn\u001b[39;00m \u001b[43mop\u001b[49m\u001b[43m(\u001b[49m\u001b[43mdelegate\u001b[49m\u001b[43m,\u001b[49m\u001b[43m \u001b[49m\u001b[43mskipna\u001b[49m\u001b[38;5;241;43m=\u001b[39;49m\u001b[43mskipna\u001b[49m\u001b[43m,\u001b[49m\u001b[43m \u001b[49m\u001b[38;5;241;43m*\u001b[39;49m\u001b[38;5;241;43m*\u001b[39;49m\u001b[43mkwds\u001b[49m\u001b[43m)\u001b[49m\n",
      "File \u001b[0;32m~/.pyenv/versions/3.11.6/lib/python3.11/site-packages/pandas/core/nanops.py:147\u001b[0m, in \u001b[0;36mbottleneck_switch.__call__.<locals>.f\u001b[0;34m(values, axis, skipna, **kwds)\u001b[0m\n\u001b[1;32m    145\u001b[0m         result \u001b[38;5;241m=\u001b[39m alt(values, axis\u001b[38;5;241m=\u001b[39maxis, skipna\u001b[38;5;241m=\u001b[39mskipna, \u001b[38;5;241m*\u001b[39m\u001b[38;5;241m*\u001b[39mkwds)\n\u001b[1;32m    146\u001b[0m \u001b[38;5;28;01melse\u001b[39;00m:\n\u001b[0;32m--> 147\u001b[0m     result \u001b[38;5;241m=\u001b[39m \u001b[43malt\u001b[49m\u001b[43m(\u001b[49m\u001b[43mvalues\u001b[49m\u001b[43m,\u001b[49m\u001b[43m \u001b[49m\u001b[43maxis\u001b[49m\u001b[38;5;241;43m=\u001b[39;49m\u001b[43maxis\u001b[49m\u001b[43m,\u001b[49m\u001b[43m \u001b[49m\u001b[43mskipna\u001b[49m\u001b[38;5;241;43m=\u001b[39;49m\u001b[43mskipna\u001b[49m\u001b[43m,\u001b[49m\u001b[43m \u001b[49m\u001b[38;5;241;43m*\u001b[39;49m\u001b[38;5;241;43m*\u001b[39;49m\u001b[43mkwds\u001b[49m\u001b[43m)\u001b[49m\n\u001b[1;32m    149\u001b[0m \u001b[38;5;28;01mreturn\u001b[39;00m result\n",
      "File \u001b[0;32m~/.pyenv/versions/3.11.6/lib/python3.11/site-packages/pandas/core/nanops.py:404\u001b[0m, in \u001b[0;36m_datetimelike_compat.<locals>.new_func\u001b[0;34m(values, axis, skipna, mask, **kwargs)\u001b[0m\n\u001b[1;32m    401\u001b[0m \u001b[38;5;28;01mif\u001b[39;00m datetimelike \u001b[38;5;129;01mand\u001b[39;00m mask \u001b[38;5;129;01mis\u001b[39;00m \u001b[38;5;28;01mNone\u001b[39;00m:\n\u001b[1;32m    402\u001b[0m     mask \u001b[38;5;241m=\u001b[39m isna(values)\n\u001b[0;32m--> 404\u001b[0m result \u001b[38;5;241m=\u001b[39m \u001b[43mfunc\u001b[49m\u001b[43m(\u001b[49m\u001b[43mvalues\u001b[49m\u001b[43m,\u001b[49m\u001b[43m \u001b[49m\u001b[43maxis\u001b[49m\u001b[38;5;241;43m=\u001b[39;49m\u001b[43maxis\u001b[49m\u001b[43m,\u001b[49m\u001b[43m \u001b[49m\u001b[43mskipna\u001b[49m\u001b[38;5;241;43m=\u001b[39;49m\u001b[43mskipna\u001b[49m\u001b[43m,\u001b[49m\u001b[43m \u001b[49m\u001b[43mmask\u001b[49m\u001b[38;5;241;43m=\u001b[39;49m\u001b[43mmask\u001b[49m\u001b[43m,\u001b[49m\u001b[43m \u001b[49m\u001b[38;5;241;43m*\u001b[39;49m\u001b[38;5;241;43m*\u001b[39;49m\u001b[43mkwargs\u001b[49m\u001b[43m)\u001b[49m\n\u001b[1;32m    406\u001b[0m \u001b[38;5;28;01mif\u001b[39;00m datetimelike:\n\u001b[1;32m    407\u001b[0m     result \u001b[38;5;241m=\u001b[39m _wrap_results(result, orig_values\u001b[38;5;241m.\u001b[39mdtype, fill_value\u001b[38;5;241m=\u001b[39miNaT)\n",
      "File \u001b[0;32m~/.pyenv/versions/3.11.6/lib/python3.11/site-packages/pandas/core/nanops.py:719\u001b[0m, in \u001b[0;36mnanmean\u001b[0;34m(values, axis, skipna, mask)\u001b[0m\n\u001b[1;32m    716\u001b[0m     dtype_count \u001b[38;5;241m=\u001b[39m dtype\n\u001b[1;32m    718\u001b[0m count \u001b[38;5;241m=\u001b[39m _get_counts(values\u001b[38;5;241m.\u001b[39mshape, mask, axis, dtype\u001b[38;5;241m=\u001b[39mdtype_count)\n\u001b[0;32m--> 719\u001b[0m the_sum \u001b[38;5;241m=\u001b[39m \u001b[43mvalues\u001b[49m\u001b[38;5;241;43m.\u001b[39;49m\u001b[43msum\u001b[49m\u001b[43m(\u001b[49m\u001b[43maxis\u001b[49m\u001b[43m,\u001b[49m\u001b[43m \u001b[49m\u001b[43mdtype\u001b[49m\u001b[38;5;241;43m=\u001b[39;49m\u001b[43mdtype_sum\u001b[49m\u001b[43m)\u001b[49m\n\u001b[1;32m    720\u001b[0m the_sum \u001b[38;5;241m=\u001b[39m _ensure_numeric(the_sum)\n\u001b[1;32m    722\u001b[0m \u001b[38;5;28;01mif\u001b[39;00m axis \u001b[38;5;129;01mis\u001b[39;00m \u001b[38;5;129;01mnot\u001b[39;00m \u001b[38;5;28;01mNone\u001b[39;00m \u001b[38;5;129;01mand\u001b[39;00m \u001b[38;5;28mgetattr\u001b[39m(the_sum, \u001b[38;5;124m\"\u001b[39m\u001b[38;5;124mndim\u001b[39m\u001b[38;5;124m\"\u001b[39m, \u001b[38;5;28;01mFalse\u001b[39;00m):\n",
      "File \u001b[0;32m~/.pyenv/versions/3.11.6/lib/python3.11/site-packages/numpy/core/_methods.py:49\u001b[0m, in \u001b[0;36m_sum\u001b[0;34m(a, axis, dtype, out, keepdims, initial, where)\u001b[0m\n\u001b[1;32m     47\u001b[0m \u001b[38;5;28;01mdef\u001b[39;00m \u001b[38;5;21m_sum\u001b[39m(a, axis\u001b[38;5;241m=\u001b[39m\u001b[38;5;28;01mNone\u001b[39;00m, dtype\u001b[38;5;241m=\u001b[39m\u001b[38;5;28;01mNone\u001b[39;00m, out\u001b[38;5;241m=\u001b[39m\u001b[38;5;28;01mNone\u001b[39;00m, keepdims\u001b[38;5;241m=\u001b[39m\u001b[38;5;28;01mFalse\u001b[39;00m,\n\u001b[1;32m     48\u001b[0m          initial\u001b[38;5;241m=\u001b[39m_NoValue, where\u001b[38;5;241m=\u001b[39m\u001b[38;5;28;01mTrue\u001b[39;00m):\n\u001b[0;32m---> 49\u001b[0m     \u001b[38;5;28;01mreturn\u001b[39;00m umr_sum(a, axis, dtype, out, keepdims, initial, where)\n",
      "\u001b[0;31mTypeError\u001b[0m: can only concatenate str (not \"int\") to str"
     ]
    }
   ],
   "source": [
    "df['IBUs'].mean()"
   ]
  },
  {
   "cell_type": "markdown",
   "metadata": {},
   "source": [
    "### Oh no, it doesn't work!\n",
    "\n",
    "It looks like some of those values *aren't numbers*. There are two ways to fix this:\n",
    "\n",
    "- *Tip: If you use [`na_values`](http://pandas.pydata.org/pandas-docs/version/0.23/generated/pandas.read_csv.html). be sure to go add it up top and run all of your cells again. You can also use `.replace` but I don't think that's as good of an idea.*\n",
    "- *Tip: Make sure you're giving `na_values` a LIST, not just a string*\n",
    "\n",
    "### Now try to get the average IBUs again"
   ]
  },
  {
   "cell_type": "code",
   "execution_count": 42,
   "metadata": {},
   "outputs": [
    {
     "data": {
      "text/plain": [
       "nan"
      ]
     },
     "execution_count": 42,
     "metadata": {},
     "output_type": "execute_result"
    }
   ],
   "source": [
    "df['IBUs'] = pd.to_numeric(df['IBUs'], errors='coerce')\n",
    "\n",
    "\n",
    "average_ibu = df['IBUs'].mean()\n",
    "average_ibu"
   ]
  },
  {
   "cell_type": "code",
   "execution_count": 34,
   "metadata": {},
   "outputs": [
    {
     "data": {
      "text/plain": [
       "IBUs\n",
       "Does not apply    1005\n",
       "20                  82\n",
       "35                  60\n",
       "65                  54\n",
       "30                  53\n",
       "70                  48\n",
       "18                  46\n",
       "25                  45\n",
       "60                  44\n",
       "40                  41\n",
       "Name: count, dtype: int64"
      ]
     },
     "execution_count": 34,
     "metadata": {},
     "output_type": "execute_result"
    }
   ],
   "source": [
    "df.IBUs.replace({\n",
    "    \"NaN\": \"\"\n",
    "})  \n",
    "df.IBUs.value_counts().head(10)"
   ]
  },
  {
   "cell_type": "code",
   "execution_count": 35,
   "metadata": {},
   "outputs": [
    {
     "ename": "AttributeError",
     "evalue": "'Series' object has no attribute 'na_values'",
     "output_type": "error",
     "traceback": [
      "\u001b[0;31m---------------------------------------------------------------------------\u001b[0m",
      "\u001b[0;31mAttributeError\u001b[0m                            Traceback (most recent call last)",
      "\u001b[0;32m/var/folders/q8/p2jc4d5j7gq1vv276dfk9b480000gn/T/ipykernel_3181/1607395294.py\u001b[0m in \u001b[0;36m?\u001b[0;34m()\u001b[0m\n\u001b[1;32m      1\u001b[0m \u001b[0mdf\u001b[0m\u001b[0;34m[\u001b[0m\u001b[0;34m'IBUs'\u001b[0m\u001b[0;34m]\u001b[0m \u001b[0;34m=\u001b[0m \u001b[0mdf\u001b[0m\u001b[0;34m.\u001b[0m\u001b[0mIBUs\u001b[0m\u001b[0;34m.\u001b[0m\u001b[0mvalue_counts\u001b[0m\u001b[0;34m(\u001b[0m\u001b[0;34m)\u001b[0m\u001b[0;34m.\u001b[0m\u001b[0mhead\u001b[0m\u001b[0;34m(\u001b[0m\u001b[0;36m10\u001b[0m\u001b[0;34m)\u001b[0m\u001b[0;34m.\u001b[0m\u001b[0mastype\u001b[0m\u001b[0;34m(\u001b[0m\u001b[0mfloat\u001b[0m\u001b[0;34m)\u001b[0m\u001b[0;34m\u001b[0m\u001b[0;34m\u001b[0m\u001b[0m\n\u001b[1;32m      2\u001b[0m \u001b[0mdf\u001b[0m\u001b[0;34m.\u001b[0m\u001b[0mmean\u001b[0m\u001b[0;34m(\u001b[0m\u001b[0mnumeric_only\u001b[0m\u001b[0;34m=\u001b[0m\u001b[0;32mTrue\u001b[0m\u001b[0;34m)\u001b[0m\u001b[0;34m\u001b[0m\u001b[0;34m\u001b[0m\u001b[0m\n\u001b[0;32m----> 3\u001b[0;31m \u001b[0mdf\u001b[0m\u001b[0;34m[\u001b[0m\u001b[0;34m'IBUs'\u001b[0m\u001b[0;34m]\u001b[0m \u001b[0;34m=\u001b[0m \u001b[0mdf\u001b[0m\u001b[0;34m.\u001b[0m\u001b[0mIBUs\u001b[0m\u001b[0;34m.\u001b[0m\u001b[0mna_values\u001b[0m\u001b[0;34m(\u001b[0m\u001b[0;34m\"NaN\"\u001b[0m\u001b[0;34m,\u001b[0m\u001b[0;34m\"\"\u001b[0m\u001b[0;34m)\u001b[0m\u001b[0;34m\u001b[0m\u001b[0;34m\u001b[0m\u001b[0m\n\u001b[0m\u001b[1;32m      4\u001b[0m \u001b[0;34m\u001b[0m\u001b[0m\n\u001b[1;32m      5\u001b[0m \u001b[0;31m#median_IBUs = df['IBUs'].median()\u001b[0m\u001b[0;34m\u001b[0m\u001b[0;34m\u001b[0m\u001b[0m\n",
      "\u001b[0;32m~/.pyenv/versions/3.11.6/lib/python3.11/site-packages/pandas/core/generic.py\u001b[0m in \u001b[0;36m?\u001b[0;34m(self, name)\u001b[0m\n\u001b[1;32m   6200\u001b[0m             \u001b[0;32mand\u001b[0m \u001b[0mname\u001b[0m \u001b[0;32mnot\u001b[0m \u001b[0;32min\u001b[0m \u001b[0mself\u001b[0m\u001b[0;34m.\u001b[0m\u001b[0m_accessors\u001b[0m\u001b[0;34m\u001b[0m\u001b[0;34m\u001b[0m\u001b[0m\n\u001b[1;32m   6201\u001b[0m             \u001b[0;32mand\u001b[0m \u001b[0mself\u001b[0m\u001b[0;34m.\u001b[0m\u001b[0m_info_axis\u001b[0m\u001b[0;34m.\u001b[0m\u001b[0m_can_hold_identifiers_and_holds_name\u001b[0m\u001b[0;34m(\u001b[0m\u001b[0mname\u001b[0m\u001b[0;34m)\u001b[0m\u001b[0;34m\u001b[0m\u001b[0;34m\u001b[0m\u001b[0m\n\u001b[1;32m   6202\u001b[0m         ):\n\u001b[1;32m   6203\u001b[0m             \u001b[0;32mreturn\u001b[0m \u001b[0mself\u001b[0m\u001b[0;34m[\u001b[0m\u001b[0mname\u001b[0m\u001b[0;34m]\u001b[0m\u001b[0;34m\u001b[0m\u001b[0;34m\u001b[0m\u001b[0m\n\u001b[0;32m-> 6204\u001b[0;31m         \u001b[0;32mreturn\u001b[0m \u001b[0mobject\u001b[0m\u001b[0;34m.\u001b[0m\u001b[0m__getattribute__\u001b[0m\u001b[0;34m(\u001b[0m\u001b[0mself\u001b[0m\u001b[0;34m,\u001b[0m \u001b[0mname\u001b[0m\u001b[0;34m)\u001b[0m\u001b[0;34m\u001b[0m\u001b[0;34m\u001b[0m\u001b[0m\n\u001b[0m",
      "\u001b[0;31mAttributeError\u001b[0m: 'Series' object has no attribute 'na_values'"
     ]
    }
   ],
   "source": [
    "df['IBUs'] = df.IBUs.value_counts().head(10).astype(float)\n",
    "df.mean(numeric_only=True)\n",
    "df['IBUs'] = df.IBUs.na_values(\"NaN\",\"\")\n",
    "\n",
    "#median_IBUs = df['IBUs'].median()"
   ]
  },
  {
   "cell_type": "code",
   "execution_count": 36,
   "metadata": {},
   "outputs": [
    {
     "name": "stderr",
     "output_type": "stream",
     "text": [
      "/Users/carlamandiola/.pyenv/versions/3.11.6/lib/python3.11/site-packages/numpy/lib/nanfunctions.py:1215: RuntimeWarning: Mean of empty slice\n",
      "  return np.nanmean(a, axis, out=out, keepdims=keepdims)\n"
     ]
    },
    {
     "data": {
      "text/plain": [
       "nan"
      ]
     },
     "execution_count": 36,
     "metadata": {},
     "output_type": "execute_result"
    }
   ],
   "source": [
    "df.IBUs.median()"
   ]
  },
  {
   "cell_type": "markdown",
   "metadata": {},
   "source": [
    "## Draw the distribution of IBU measurements, but with *twenty* bins instead of the default of 10\n",
    "\n",
    "- *Tip: Every time I ask for a distribution, I'm looking for a histogram*\n",
    "- *Tip: Use the `?` to get all of the options for building a histogram*\n",
    "- *Tip: Make sure your `matplotlib` thing is set up right!*"
   ]
  },
  {
   "cell_type": "code",
   "execution_count": 37,
   "metadata": {},
   "outputs": [
    {
     "name": "stdout",
     "output_type": "stream",
     "text": [
      "Requirement already satisfied: matplotlib in /Users/carlamandiola/.pyenv/versions/3.11.6/lib/python3.11/site-packages (3.8.1)\n",
      "Requirement already satisfied: contourpy>=1.0.1 in /Users/carlamandiola/.pyenv/versions/3.11.6/lib/python3.11/site-packages (from matplotlib) (1.2.0)\n",
      "Requirement already satisfied: cycler>=0.10 in /Users/carlamandiola/.pyenv/versions/3.11.6/lib/python3.11/site-packages (from matplotlib) (0.12.1)\n",
      "Requirement already satisfied: fonttools>=4.22.0 in /Users/carlamandiola/.pyenv/versions/3.11.6/lib/python3.11/site-packages (from matplotlib) (4.44.0)\n",
      "Requirement already satisfied: kiwisolver>=1.3.1 in /Users/carlamandiola/.pyenv/versions/3.11.6/lib/python3.11/site-packages (from matplotlib) (1.4.5)\n",
      "Requirement already satisfied: numpy<2,>=1.21 in /Users/carlamandiola/.pyenv/versions/3.11.6/lib/python3.11/site-packages (from matplotlib) (1.26.1)\n",
      "Requirement already satisfied: packaging>=20.0 in /Users/carlamandiola/.pyenv/versions/3.11.6/lib/python3.11/site-packages (from matplotlib) (23.2)\n",
      "Requirement already satisfied: pillow>=8 in /Users/carlamandiola/.pyenv/versions/3.11.6/lib/python3.11/site-packages (from matplotlib) (10.1.0)\n",
      "Requirement already satisfied: pyparsing>=2.3.1 in /Users/carlamandiola/.pyenv/versions/3.11.6/lib/python3.11/site-packages (from matplotlib) (3.1.1)\n",
      "Requirement already satisfied: python-dateutil>=2.7 in /Users/carlamandiola/.pyenv/versions/3.11.6/lib/python3.11/site-packages (from matplotlib) (2.8.2)\n",
      "Requirement already satisfied: six>=1.5 in /Users/carlamandiola/.pyenv/versions/3.11.6/lib/python3.11/site-packages (from python-dateutil>=2.7->matplotlib) (1.16.0)\n"
     ]
    },
    {
     "data": {
      "text/plain": [
       "<Axes: >"
      ]
     },
     "execution_count": 37,
     "metadata": {},
     "output_type": "execute_result"
    },
    {
     "data": {
      "image/png": "[encoded data removed]",
      "text/plain": [
       "<Figure size 640x480 with 1 Axes>"
      ]
     },
     "metadata": {},
     "output_type": "display_data"
    }
   ],
   "source": [
    "!pip install matplotlib\n",
    "df.IBUs.hist()"
   ]
  },
  {
   "cell_type": "code",
   "execution_count": null,
   "metadata": {},
   "outputs": [],
   "source": [
    "## Hm, Interesting distribution. List all of the beers with IBUs above the 75th percentile\n",
    "IBU = df.IBUS\n",
    "IBU.describe() \n",
    "\n",
    "- *Tip: There's a single that gives you the 25/50/75th percentile*\n",
    "- *Tip: You can just manually type the number when you list those beers*"
   ]
  },
  {
   "cell_type": "code",
   "execution_count": null,
   "metadata": {},
   "outputs": [],
   "source": [
    "df = df[df.IBUs]\n",
    "#IBU.describe() "
   ]
  },
  {
   "cell_type": "code",
   "execution_count": null,
   "metadata": {},
   "outputs": [],
   "source": []
  },
  {
   "cell_type": "markdown",
   "metadata": {},
   "source": [
    "## List all of the beers with IBUs below the 25th percentile"
   ]
  },
  {
   "cell_type": "code",
   "execution_count": null,
   "metadata": {},
   "outputs": [],
   "source": []
  },
  {
   "cell_type": "markdown",
   "metadata": {},
   "source": [
    "## List the median IBUs of each type of beer. Graph it.\n",
    "\n",
    "Put the highest at the top, and the missing ones at the bottom.\n",
    "\n",
    "- Tip: Look at the options for `sort_values` to figure out the `NaN` thing. The `?` probably won't help you here."
   ]
  },
  {
   "cell_type": "code",
   "execution_count": null,
   "metadata": {},
   "outputs": [],
   "source": []
  },
  {
   "cell_type": "code",
   "execution_count": null,
   "metadata": {},
   "outputs": [],
   "source": []
  },
  {
   "cell_type": "markdown",
   "metadata": {},
   "source": [
    "## Hmmmm, it looks like they are generally different styles. What are the most common 5 styles of high-IBU beer vs. low-IBU beer?\n",
    "\n",
    "- *Tip: You'll want to think about it in three pieces - filtering to only find the specific beers beers, then finding out what the most common styles are, then getting the top 5.*\n",
    "- *Tip: You CANNOT do this in one command. It's going to be one command for the high and one for the low.*\n",
    "- *Tip: \"High IBU\" means higher than 75th percentile, \"Low IBU\" is under 25th percentile*"
   ]
  },
  {
   "cell_type": "code",
   "execution_count": null,
   "metadata": {},
   "outputs": [],
   "source": []
  },
  {
   "cell_type": "code",
   "execution_count": null,
   "metadata": {},
   "outputs": [],
   "source": []
  },
  {
   "cell_type": "markdown",
   "metadata": {},
   "source": [
    "## Get the average IBU of \"Witbier\", \"Hefeweizen\" and \"American Pale Wheat Ale\" styles\n",
    "\n",
    "I'm counting these as wheat beers. If you see any other wheat beer categories, feel free to include them. I want ONE measurement and ONE graph, not three separate ones. And 20 to 30 bins in the histogram, please.\n",
    "\n",
    "- *Tip: I hope that `isin` is in your toolbox*"
   ]
  },
  {
   "cell_type": "code",
   "execution_count": null,
   "metadata": {},
   "outputs": [],
   "source": []
  },
  {
   "cell_type": "markdown",
   "metadata": {},
   "source": [
    "## Draw a histogram of the IBUs of those beers"
   ]
  },
  {
   "cell_type": "code",
   "execution_count": null,
   "metadata": {},
   "outputs": [],
   "source": []
  },
  {
   "cell_type": "markdown",
   "metadata": {},
   "source": [
    "## Get the average IBU of any style with \"IPA\" in it (also draw a histogram)"
   ]
  },
  {
   "cell_type": "code",
   "execution_count": null,
   "metadata": {},
   "outputs": [],
   "source": []
  },
  {
   "cell_type": "code",
   "execution_count": null,
   "metadata": {},
   "outputs": [],
   "source": []
  },
  {
   "cell_type": "markdown",
   "metadata": {},
   "source": [
    "## Plot those two histograms in the same cell!\n",
    "\n",
    "I swear the behavior of this changes every year. Does it make two charts? Does it overlap them in one?"
   ]
  },
  {
   "cell_type": "code",
   "execution_count": null,
   "metadata": {},
   "outputs": [],
   "source": []
  },
  {
   "cell_type": "markdown",
   "metadata": {},
   "source": [
    "## Compare the ABV of wheat beers vs. IPAs : their IBUs were really different, but how about their alcohol percentage?\n",
    "\n",
    "Wheat beers might include witbier, hefeweizen, American Pale Wheat Ale, and anything else you think is wheaty. IPAs probably have \"IPA\" in their name."
   ]
  },
  {
   "cell_type": "code",
   "execution_count": null,
   "metadata": {},
   "outputs": [],
   "source": []
  },
  {
   "cell_type": "code",
   "execution_count": null,
   "metadata": {},
   "outputs": [],
   "source": []
  },
  {
   "cell_type": "code",
   "execution_count": null,
   "metadata": {},
   "outputs": [],
   "source": []
  },
  {
   "cell_type": "markdown",
   "metadata": {
    "collapsed": true,
    "jupyter": {
     "outputs_hidden": true
    }
   },
   "source": [
    "## Good work!"
   ]
  },
  {
   "cell_type": "code",
   "execution_count": null,
   "metadata": {},
   "outputs": [],
   "source": []
  }
 ],
 "metadata": {
  "kernelspec": {
   "display_name": "Python 3 (ipykernel)",
   "language": "python",
   "name": "python3"
  },
  "language_info": {
   "codemirror_mode": {
    "name": "ipython",
    "version": 3
   },
   "file_extension": ".py",
   "mimetype": "text/x-python",
   "name": "python",
   "nbconvert_exporter": "python",
   "pygments_lexer": "ipython3",
   "version": "3.11.6"
  }
 },
 "nbformat": 4,
 "nbformat_minor": 4
}
