{
 "cells": [
  {
   "cell_type": "markdown",
   "metadata": {},
   "source": [
    "# Homework 7, Part Two: A dataset about dogs.\n",
    "\n",
    "Data from [a FOIL request to New York City](https://www.muckrock.com/foi/new-york-city-17/pet-licensing-data-for-new-york-city-23826/).\n",
    "\n",
    "Some of the questions get kind of weird in this one, especially later on. **Feel free to lean on ChatGPT for the crazier ones!** It might be an interesting exploration of how to ask problems or explain what your dataset looks like."
   ]
  },
  {
   "cell_type": "markdown",
   "metadata": {},
   "source": [
    "## Do your importing and your setup"
   ]
  },
  {
   "cell_type": "code",
   "execution_count": 6,
   "metadata": {},
   "outputs": [
    {
     "name": "stdout",
     "output_type": "stream",
     "text": [
      "Dataset TWO - Dogs.ipynb\n",
      "NYC_Dog_Licenses_Current_as_of_4-28-2016.xlsx\n",
      "boro_population.csv\n",
      "zipcodes-neighborhoods.csv\n"
     ]
    },
    {
     "data": {
      "text/html": [
       "<div>\n",
       "<style scoped>\n",
       "    .dataframe tbody tr th:only-of-type {\n",
       "        vertical-align: middle;\n",
       "    }\n",
       "\n",
       "    .dataframe tbody tr th {\n",
       "        vertical-align: top;\n",
       "    }\n",
       "\n",
       "    .dataframe thead th {\n",
       "        text-align: right;\n",
       "    }\n",
       "</style>\n",
       "<table border=\"1\" class=\"dataframe\">\n",
       "  <thead>\n",
       "    <tr style=\"text-align: right;\">\n",
       "      <th></th>\n",
       "      <th>borough</th>\n",
       "      <th>population</th>\n",
       "      <th>area_sqmi</th>\n",
       "    </tr>\n",
       "  </thead>\n",
       "  <tbody>\n",
       "    <tr>\n",
       "      <th>0</th>\n",
       "      <td>Manhattan</td>\n",
       "      <td>1644518</td>\n",
       "      <td>23</td>\n",
       "    </tr>\n",
       "    <tr>\n",
       "      <th>1</th>\n",
       "      <td>Bronx</td>\n",
       "      <td>1455444</td>\n",
       "      <td>42</td>\n",
       "    </tr>\n",
       "    <tr>\n",
       "      <th>2</th>\n",
       "      <td>Brooklyn</td>\n",
       "      <td>2636735</td>\n",
       "      <td>71</td>\n",
       "    </tr>\n",
       "    <tr>\n",
       "      <th>3</th>\n",
       "      <td>Queens</td>\n",
       "      <td>2339150</td>\n",
       "      <td>109</td>\n",
       "    </tr>\n",
       "    <tr>\n",
       "      <th>4</th>\n",
       "      <td>Staten Island</td>\n",
       "      <td>474558</td>\n",
       "      <td>59</td>\n",
       "    </tr>\n",
       "  </tbody>\n",
       "</table>\n",
       "</div>"
      ],
      "text/plain": [
       "         borough  population  area_sqmi\n",
       "0      Manhattan     1644518         23\n",
       "1          Bronx     1455444         42\n",
       "2       Brooklyn     2636735         71\n",
       "3         Queens     2339150        109\n",
       "4  Staten Island      474558         59"
      ]
     },
     "execution_count": 6,
     "metadata": {},
     "output_type": "execute_result"
    }
   ],
   "source": [
    "!ls\n",
    "import pandas as pd\n",
    "df = pd.read_csv('boro_population.csv')\n",
    "df.head()"
   ]
  },
  {
   "cell_type": "markdown",
   "metadata": {},
   "source": [
    "## Read in the file `NYC_Dog_Licenses_Current_as_of_4-28-2016.xlsx` and look at the first five rows"
   ]
  },
  {
   "cell_type": "code",
   "execution_count": 11,
   "metadata": {},
   "outputs": [
    {
     "data": {
      "text/html": [
       "<div>\n",
       "<style scoped>\n",
       "    .dataframe tbody tr th:only-of-type {\n",
       "        vertical-align: middle;\n",
       "    }\n",
       "\n",
       "    .dataframe tbody tr th {\n",
       "        vertical-align: top;\n",
       "    }\n",
       "\n",
       "    .dataframe thead th {\n",
       "        text-align: right;\n",
       "    }\n",
       "</style>\n",
       "<table border=\"1\" class=\"dataframe\">\n",
       "  <thead>\n",
       "    <tr style=\"text-align: right;\">\n",
       "      <th></th>\n",
       "      <th>Owner Zip Code</th>\n",
       "      <th>Animal Name</th>\n",
       "      <th>Animal Gender</th>\n",
       "      <th>Primary Breed</th>\n",
       "      <th>Secondary Breed</th>\n",
       "      <th>Animal Dominant Color</th>\n",
       "      <th>Animal Secondary Color</th>\n",
       "      <th>Animal Third Color</th>\n",
       "      <th>Animal Birth</th>\n",
       "      <th>Spayed or Neut</th>\n",
       "      <th>Guard or Trained</th>\n",
       "      <th>Vaccinated</th>\n",
       "      <th>Application Date</th>\n",
       "      <th>License Issued Date</th>\n",
       "      <th>License Expired Date</th>\n",
       "    </tr>\n",
       "  </thead>\n",
       "  <tbody>\n",
       "    <tr>\n",
       "      <th>0</th>\n",
       "      <td>10024</td>\n",
       "      <td>BLUE MACK</td>\n",
       "      <td>M</td>\n",
       "      <td>Unknown</td>\n",
       "      <td>AIREDALE TERR</td>\n",
       "      <td>BROWN</td>\n",
       "      <td>BLACK</td>\n",
       "      <td>NaN</td>\n",
       "      <td>2007-11-01</td>\n",
       "      <td>Yes</td>\n",
       "      <td>No</td>\n",
       "      <td>Yes</td>\n",
       "      <td>2012-09-19 16:01:19.647</td>\n",
       "      <td>2015-09-19</td>\n",
       "      <td>2016-09-19</td>\n",
       "    </tr>\n",
       "    <tr>\n",
       "      <th>1</th>\n",
       "      <td>10461</td>\n",
       "      <td>Indie Zephir</td>\n",
       "      <td>M</td>\n",
       "      <td>Rottweiler</td>\n",
       "      <td>NaN</td>\n",
       "      <td>BLACK</td>\n",
       "      <td>TAN</td>\n",
       "      <td>NaN</td>\n",
       "      <td>2013-04-01</td>\n",
       "      <td>No</td>\n",
       "      <td>No</td>\n",
       "      <td>Yes</td>\n",
       "      <td>2013-09-20 11:41:36.647</td>\n",
       "      <td>2014-09-20</td>\n",
       "      <td>2018-09-20</td>\n",
       "    </tr>\n",
       "    <tr>\n",
       "      <th>2</th>\n",
       "      <td>10013</td>\n",
       "      <td>Bilal</td>\n",
       "      <td>M</td>\n",
       "      <td>Australian Cattledog</td>\n",
       "      <td>NaN</td>\n",
       "      <td>Rust</td>\n",
       "      <td>NaN</td>\n",
       "      <td>NaN</td>\n",
       "      <td>2014-09-01</td>\n",
       "      <td>Yes</td>\n",
       "      <td>NaN</td>\n",
       "      <td>No</td>\n",
       "      <td>2014-09-12 13:13:36.713</td>\n",
       "      <td>2014-09-12</td>\n",
       "      <td>2019-09-12</td>\n",
       "    </tr>\n",
       "    <tr>\n",
       "      <th>3</th>\n",
       "      <td>10025</td>\n",
       "      <td>Buddy</td>\n",
       "      <td>M</td>\n",
       "      <td>Unknown</td>\n",
       "      <td>Cockapoo</td>\n",
       "      <td>BLOND</td>\n",
       "      <td>WHITE</td>\n",
       "      <td>NaN</td>\n",
       "      <td>2008-04-01</td>\n",
       "      <td>Yes</td>\n",
       "      <td>No</td>\n",
       "      <td>Yes</td>\n",
       "      <td>2014-09-12 15:26:51.417</td>\n",
       "      <td>2014-09-12</td>\n",
       "      <td>2017-10-20</td>\n",
       "    </tr>\n",
       "    <tr>\n",
       "      <th>4</th>\n",
       "      <td>10013</td>\n",
       "      <td>Ali</td>\n",
       "      <td>M</td>\n",
       "      <td>Basenji</td>\n",
       "      <td>NaN</td>\n",
       "      <td>Black</td>\n",
       "      <td>NaN</td>\n",
       "      <td>NaN</td>\n",
       "      <td>2014-01-01</td>\n",
       "      <td>No</td>\n",
       "      <td>NaN</td>\n",
       "      <td>No</td>\n",
       "      <td>2014-09-12 15:43:17.707</td>\n",
       "      <td>2014-09-12</td>\n",
       "      <td>2019-09-12</td>\n",
       "    </tr>\n",
       "  </tbody>\n",
       "</table>\n",
       "</div>"
      ],
      "text/plain": [
       "   Owner Zip Code   Animal Name Animal Gender         Primary Breed  \\\n",
       "0           10024     BLUE MACK             M               Unknown   \n",
       "1           10461  Indie Zephir             M            Rottweiler   \n",
       "2           10013         Bilal             M  Australian Cattledog   \n",
       "3           10025         Buddy             M               Unknown   \n",
       "4           10013           Ali             M               Basenji   \n",
       "\n",
       "  Secondary Breed Animal Dominant Color Animal Secondary Color  \\\n",
       "0   AIREDALE TERR                 BROWN                  BLACK   \n",
       "1             NaN                 BLACK                    TAN   \n",
       "2             NaN                  Rust                    NaN   \n",
       "3        Cockapoo                 BLOND                  WHITE   \n",
       "4             NaN                 Black                    NaN   \n",
       "\n",
       "  Animal Third Color Animal Birth Spayed or Neut Guard or Trained Vaccinated  \\\n",
       "0                NaN   2007-11-01            Yes               No        Yes   \n",
       "1                NaN   2013-04-01             No               No        Yes   \n",
       "2                NaN   2014-09-01            Yes              NaN         No   \n",
       "3                NaN   2008-04-01            Yes               No        Yes   \n",
       "4                NaN   2014-01-01             No              NaN         No   \n",
       "\n",
       "         Application Date License Issued Date License Expired Date  \n",
       "0 2012-09-19 16:01:19.647          2015-09-19           2016-09-19  \n",
       "1 2013-09-20 11:41:36.647          2014-09-20           2018-09-20  \n",
       "2 2014-09-12 13:13:36.713          2014-09-12           2019-09-12  \n",
       "3 2014-09-12 15:26:51.417          2014-09-12           2017-10-20  \n",
       "4 2014-09-12 15:43:17.707          2014-09-12           2019-09-12  "
      ]
     },
     "execution_count": 11,
     "metadata": {},
     "output_type": "execute_result"
    }
   ],
   "source": [
    "Dog = pd.read_excel('NYC_Dog_Licenses_Current_as_of_4-28-2016.xlsx')\n",
    "Dog.head()\n"
   ]
  },
  {
   "cell_type": "markdown",
   "metadata": {},
   "source": [
    "## How many rows do you have in the data? What are the column types?\n",
    "\n",
    "If there are more than 30,000 rows in your dataset, go back and only read in the first 30,000."
   ]
  },
  {
   "cell_type": "code",
   "execution_count": 9,
   "metadata": {},
   "outputs": [
    {
     "name": "stdout",
     "output_type": "stream",
     "text": [
      "<class 'pandas.core.frame.DataFrame'>\n",
      "RangeIndex: 81937 entries, 0 to 81936\n",
      "Data columns (total 15 columns):\n",
      " #   Column                  Non-Null Count  Dtype         \n",
      "---  ------                  --------------  -----         \n",
      " 0   Owner Zip Code          81937 non-null  int64         \n",
      " 1   Animal Name             81738 non-null  object        \n",
      " 2   Animal Gender           81937 non-null  object        \n",
      " 3   Primary Breed           81937 non-null  object        \n",
      " 4   Secondary Breed         10547 non-null  object        \n",
      " 5   Animal Dominant Color   81608 non-null  object        \n",
      " 6   Animal Secondary Color  56919 non-null  object        \n",
      " 7   Animal Third Color      17641 non-null  object        \n",
      " 8   Animal Birth            81937 non-null  datetime64[ns]\n",
      " 9   Spayed or Neut          81937 non-null  object        \n",
      " 10  Guard or Trained        49576 non-null  object        \n",
      " 11  Vaccinated              81937 non-null  object        \n",
      " 12  Application Date        81937 non-null  datetime64[ns]\n",
      " 13  License Issued Date     81937 non-null  datetime64[ns]\n",
      " 14  License Expired Date    81937 non-null  datetime64[ns]\n",
      "dtypes: datetime64[ns](4), int64(1), object(10)\n",
      "memory usage: 9.4+ MB\n"
     ]
    }
   ],
   "source": [
    "Dog.info()"
   ]
  },
  {
   "cell_type": "markdown",
   "metadata": {},
   "source": [
    "## Describe the dataset in words. What is each row? List two column titles along with what each of those columns means.\n",
    "\n",
    "For example: “Each row is an animal in the zoo. `is_reptile` is whether the animal is a reptile or not”"
   ]
  },
  {
   "cell_type": "markdown",
   "metadata": {},
   "source": [
    "Each row is related to dog pets in NY. \"Animal Dominant Color\" is the principal color of the dog and \"Vaccinated\" is whether the pet has vaccine or not. "
   ]
  },
  {
   "cell_type": "markdown",
   "metadata": {},
   "source": [
    "# Your thoughts\n",
    "\n",
    "Think of three questions you could ask this dataset. **Don't ask them**, just write them down in the cell below. Feel free to use either Markdown or Python comments."
   ]
  },
  {
   "cell_type": "markdown",
   "metadata": {},
   "source": [
    "What's the dog's dominant color that people prefer? \n",
    "Which Zip Code has more dogs with vaccines? \n",
    "Is the animal gender related to Spayed or Neut?"
   ]
  },
  {
   "cell_type": "markdown",
   "metadata": {},
   "source": [
    "# Looking at some dogs"
   ]
  },
  {
   "cell_type": "markdown",
   "metadata": {},
   "source": [
    "## What are the most popular (primary) breeds of dogs? Graph the top 10."
   ]
  },
  {
   "cell_type": "code",
   "execution_count": 31,
   "metadata": {},
   "outputs": [
    {
     "data": {
      "text/plain": [
       "Primary Breed\n",
       "Unknown                                 12894\n",
       "Yorkshire Terrier                        5133\n",
       "Shih Tzu                                 4727\n",
       "Chihuahua                                3924\n",
       "Maltese                                  2965\n",
       "Labrador Retriever                       2872\n",
       "American Pit Bull Terrier/Pit Bull       2153\n",
       "American Pit Bull Mix / Pit Bull Mix     2029\n",
       "Labrador Retriever Crossbreed            1864\n",
       "Beagle                                   1438\n",
       "Name: count, dtype: int64"
      ]
     },
     "execution_count": 31,
     "metadata": {},
     "output_type": "execute_result"
    }
   ],
   "source": [
    "Dog['Primary Breed'].value_counts().head(10)"
   ]
  },
  {
   "cell_type": "markdown",
   "metadata": {},
   "source": [
    "## \"Unknown\" is a terrible breed! Graph the top 10 breeds that are NOT Unknown"
   ]
  },
  {
   "cell_type": "code",
   "execution_count": 36,
   "metadata": {},
   "outputs": [
    {
     "data": {
      "text/plain": [
       "Primary Breed\n",
       "Yorkshire Terrier                       5133\n",
       "Shih Tzu                                4727\n",
       "Chihuahua                               3924\n",
       "Maltese                                 2965\n",
       "Labrador Retriever                      2872\n",
       "American Pit Bull Terrier/Pit Bull      2153\n",
       "American Pit Bull Mix / Pit Bull Mix    2029\n",
       "Labrador Retriever Crossbreed           1864\n",
       "Beagle                                  1438\n",
       "Pomeranian                              1422\n",
       "Name: count, dtype: int64"
      ]
     },
     "execution_count": 36,
     "metadata": {},
     "output_type": "execute_result"
    }
   ],
   "source": [
    "\n",
    "filtered = Dog[Dog['Primary Breed'] != 'Unknown']\n",
    "breed = filtered['Primary Breed'].value_counts().head(10)\n",
    "breed"
   ]
  },
  {
   "cell_type": "markdown",
   "metadata": {},
   "source": [
    "## What are the most popular dog names?"
   ]
  },
  {
   "cell_type": "code",
   "execution_count": 39,
   "metadata": {},
   "outputs": [
    {
     "data": {
      "text/plain": [
       "Animal Name\n",
       "UNKNOWN    742\n",
       "Bella      527\n",
       "Max        515\n",
       "Charlie    403\n",
       "Lola       387\n",
       "Unknown    379\n",
       "Rocky      354\n",
       "Lucy       338\n",
       "unknown    337\n",
       "Coco       308\n",
       "Name: count, dtype: int64"
      ]
     },
     "execution_count": 39,
     "metadata": {},
     "output_type": "execute_result"
    }
   ],
   "source": [
    "Dog['Animal Name'].value_counts().head(10)"
   ]
  },
  {
   "cell_type": "markdown",
   "metadata": {},
   "source": [
    "## Do any dogs have your name? How many dogs are named \"Max,\" and how many are named \"Maxwell\"?"
   ]
  },
  {
   "cell_type": "code",
   "execution_count": 47,
   "metadata": {},
   "outputs": [
    {
     "data": {
      "text/plain": [
       "4"
      ]
     },
     "execution_count": 47,
     "metadata": {},
     "output_type": "execute_result"
    }
   ],
   "source": [
    "Carla = Dog[Dog['Animal Name'] == 'Carla']['Animal Name'].count()\n",
    "Carla"
   ]
  },
  {
   "cell_type": "code",
   "execution_count": 48,
   "metadata": {},
   "outputs": [
    {
     "data": {
      "text/plain": [
       "515"
      ]
     },
     "execution_count": 48,
     "metadata": {},
     "output_type": "execute_result"
    }
   ],
   "source": [
    "Max = Dog[Dog['Animal Name'] == 'Max']['Animal Name'].count()\n",
    "Max"
   ]
  },
  {
   "cell_type": "code",
   "execution_count": 49,
   "metadata": {},
   "outputs": [
    {
     "data": {
      "text/plain": [
       "30"
      ]
     },
     "execution_count": 49,
     "metadata": {},
     "output_type": "execute_result"
    }
   ],
   "source": [
    "Maxwell = Dog[Dog['Animal Name'] == 'Maxwell']['Animal Name'].count()\n",
    "Maxwell"
   ]
  },
  {
   "cell_type": "markdown",
   "metadata": {},
   "source": [
    "## What percentage of dogs are guard dogs?\n",
    "\n",
    "Check out the documentation for [value counts](https://pandas.pydata.org/pandas-docs/stable/generated/pandas.Series.value_counts.html)."
   ]
  },
  {
   "cell_type": "code",
   "execution_count": 55,
   "metadata": {},
   "outputs": [
    {
     "data": {
      "text/plain": [
       "0.1028723575923834"
      ]
     },
     "execution_count": 55,
     "metadata": {},
     "output_type": "execute_result"
    }
   ],
   "source": [
    "guard = Dog[Dog['Guard or Trained'] == 'Yes']['Guard or Trained'].count()\n",
    "\n",
    "total = Dog['Guard or Trained'].count()\n",
    "\n",
    "(guard / total) * 100\n"
   ]
  },
  {
   "cell_type": "markdown",
   "metadata": {},
   "source": [
    "## What are the actual numbers?"
   ]
  },
  {
   "cell_type": "code",
   "execution_count": 60,
   "metadata": {},
   "outputs": [
    {
     "data": {
      "text/plain": [
       "Guard or Trained\n",
       "No     49525\n",
       "Yes       51\n",
       "Name: count, dtype: int64"
      ]
     },
     "execution_count": 60,
     "metadata": {},
     "output_type": "execute_result"
    }
   ],
   "source": [
    "Dog['Guard or Trained'].value_counts().head(10)"
   ]
  },
  {
   "cell_type": "markdown",
   "metadata": {},
   "source": [
    "## Wait... if you add that up, is it the same as your number of rows? Where are the other dogs???? How can we find them??????\n",
    "\n",
    "Use your `.head()` to think about it, then you'll do some magic with `.value_counts()`"
   ]
  },
  {
   "cell_type": "code",
   "execution_count": 63,
   "metadata": {},
   "outputs": [
    {
     "data": {
      "text/plain": [
       "Guard or Trained\n",
       "No     49525\n",
       "NaN    32361\n",
       "Yes       51\n",
       "Name: count, dtype: int64"
      ]
     },
     "execution_count": 63,
     "metadata": {},
     "output_type": "execute_result"
    }
   ],
   "source": [
    "Dog['Guard or Trained'].value_counts(dropna=False)\n",
    "\n"
   ]
  },
  {
   "cell_type": "markdown",
   "metadata": {},
   "source": [
    "## Fill in all of those empty \"Guard or Trained\" columns with \"No\"\n",
    "\n",
    "Then check your result with another `.value_counts()`"
   ]
  },
  {
   "cell_type": "code",
   "execution_count": 66,
   "metadata": {},
   "outputs": [
    {
     "data": {
      "text/plain": [
       "Guard or Trained\n",
       "No     81886\n",
       "Yes       51\n",
       "Name: count, dtype: int64"
      ]
     },
     "execution_count": 66,
     "metadata": {},
     "output_type": "execute_result"
    }
   ],
   "source": [
    "Dog['Guard or Trained'].fillna('No', inplace=True)\n",
    "\n",
    "guard = Dog['Guard or Trained'].value_counts(dropna=False)\n",
    "\n",
    "guard"
   ]
  },
  {
   "cell_type": "markdown",
   "metadata": {},
   "source": [
    "## What are the top dog breeds for guard dogs? "
   ]
  },
  {
   "cell_type": "code",
   "execution_count": 67,
   "metadata": {},
   "outputs": [
    {
     "data": {
      "text/plain": [
       "Primary Breed\n",
       "Unknown                                 11\n",
       "German Shepherd Dog                      4\n",
       "Chihuahua                                3\n",
       "Labrador Retriever                       3\n",
       "Rottweiler                               3\n",
       "American Pit Bull Mix / Pit Bull Mix     3\n",
       "Shih Tzu                                 2\n",
       "Staffordshire Bull Terrier               2\n",
       "Beagle Crossbreed                        1\n",
       "Weimaraner                               1\n",
       "Name: count, dtype: int64"
      ]
     },
     "execution_count": 67,
     "metadata": {},
     "output_type": "execute_result"
    }
   ],
   "source": [
    "guard = Dog[Dog['Guard or Trained'] == 'Yes']\n",
    "guard['Primary Breed'].value_counts().head(10)"
   ]
  },
  {
   "cell_type": "markdown",
   "metadata": {},
   "source": [
    "## Create a new column called \"year\" that is the dog's year of birth\n",
    "\n",
    "The `Animal Birth` column is a datetime, so you can get the year out of it with the code `df['Animal Birth'].apply(lambda birth: birth.year)`."
   ]
  },
  {
   "cell_type": "code",
   "execution_count": 68,
   "metadata": {},
   "outputs": [],
   "source": [
    "Dog['Year'] = Dog['Animal Birth'].apply(lambda birth: birth.year)"
   ]
  },
  {
   "cell_type": "markdown",
   "metadata": {},
   "source": [
    "## Calculate a new column called “age” that shows approximately how old the dog is. How old are dogs on average?"
   ]
  },
  {
   "cell_type": "code",
   "execution_count": 75,
   "metadata": {},
   "outputs": [
    {
     "data": {
      "text/plain": [
       "13.879042450572356"
      ]
     },
     "execution_count": 75,
     "metadata": {},
     "output_type": "execute_result"
    }
   ],
   "source": [
    "from datetime import datetime, timedelta\n",
    "\n",
    "Dog['Animal Birth'] = pd.to_datetime(Dog['Animal Birth'])\n",
    "\n",
    "current_date = datetime.now()\n",
    "Dog['Age'] = (current_date - Dog['Animal Birth']) / timedelta(days=365)\n",
    "\n",
    "average = Dog['Age'].mean()\n",
    "\n",
    "average "
   ]
  },
  {
   "cell_type": "markdown",
   "metadata": {},
   "source": [
    "# Joining data together"
   ]
  },
  {
   "cell_type": "code",
   "execution_count": null,
   "metadata": {},
   "outputs": [],
   "source": []
  },
  {
   "cell_type": "markdown",
   "metadata": {},
   "source": [
    "## Which neighborhood does each dog live in?\n",
    "\n",
    "You also have a (terrible) list of NYC neighborhoods in `zipcodes-neighborhoods.csv`. Join these two datasets together, so we know what neighborhood each dog lives in. **Be sure to not read it in as `df`, or else you'll overwrite your dogs dataframe.**\n",
    "\n",
    "Here's an example of how you can merge two dataframes:\n",
    "\n",
    "```python\n",
    "merged = prisons_df.merge(states_df, left_on='state', right_on='name')\n",
    "```\n",
    "\n",
    "In the example above, `prisons_df` has a column called `state` that matches with the `name` column of `states_df`. The columns of `states_df` are then added to `prisons_df` and returned as a new dataframe called `merged`.\n",
    "\n",
    "> **Rows without a match get discarded because it is an [inner join](https://pandas.pydata.org/docs/reference/api/pandas.DataFrame.merge.html).** I think left joins are probably the most common (keep rows from the \"left\" df even if they don't have a match in the right. For example, by default a prison with the state of `PUERTO RICO` would be dropped if PR wasn't in `states_df`, but if you changed it to `how='left'` it would be preserved, but the additional columns would just be `NaN`."
   ]
  },
  {
   "cell_type": "code",
   "execution_count": 80,
   "metadata": {},
   "outputs": [
    {
     "data": {
      "text/html": [
       "<div>\n",
       "<style scoped>\n",
       "    .dataframe tbody tr th:only-of-type {\n",
       "        vertical-align: middle;\n",
       "    }\n",
       "\n",
       "    .dataframe tbody tr th {\n",
       "        vertical-align: top;\n",
       "    }\n",
       "\n",
       "    .dataframe thead th {\n",
       "        text-align: right;\n",
       "    }\n",
       "</style>\n",
       "<table border=\"1\" class=\"dataframe\">\n",
       "  <thead>\n",
       "    <tr style=\"text-align: right;\">\n",
       "      <th></th>\n",
       "      <th>neighborhood</th>\n",
       "      <th>zip</th>\n",
       "      <th>borough</th>\n",
       "      <th>Owner Zip Code</th>\n",
       "      <th>Animal Name</th>\n",
       "      <th>Animal Gender</th>\n",
       "      <th>Primary Breed</th>\n",
       "      <th>Secondary Breed</th>\n",
       "      <th>Animal Dominant Color</th>\n",
       "      <th>Animal Secondary Color</th>\n",
       "      <th>Animal Third Color</th>\n",
       "      <th>Animal Birth</th>\n",
       "      <th>Spayed or Neut</th>\n",
       "      <th>Guard or Trained</th>\n",
       "      <th>Vaccinated</th>\n",
       "      <th>Application Date</th>\n",
       "      <th>License Issued Date</th>\n",
       "      <th>License Expired Date</th>\n",
       "      <th>Year</th>\n",
       "      <th>Age</th>\n",
       "    </tr>\n",
       "  </thead>\n",
       "  <tbody>\n",
       "    <tr>\n",
       "      <th>0</th>\n",
       "      <td>Central Bronx</td>\n",
       "      <td>10453</td>\n",
       "      <td>Bronx</td>\n",
       "      <td>10453</td>\n",
       "      <td>T-Bone</td>\n",
       "      <td>M</td>\n",
       "      <td>Bulldog</td>\n",
       "      <td>NaN</td>\n",
       "      <td>White</td>\n",
       "      <td>Tan</td>\n",
       "      <td>Apricot</td>\n",
       "      <td>2010-04-01</td>\n",
       "      <td>Yes</td>\n",
       "      <td>No</td>\n",
       "      <td>Yes</td>\n",
       "      <td>2014-11-16 16:48:08.080</td>\n",
       "      <td>2014-11-16</td>\n",
       "      <td>2016-11-16</td>\n",
       "      <td>2010</td>\n",
       "      <td>13.664998</td>\n",
       "    </tr>\n",
       "    <tr>\n",
       "      <th>1</th>\n",
       "      <td>Central Bronx</td>\n",
       "      <td>10453</td>\n",
       "      <td>Bronx</td>\n",
       "      <td>10453</td>\n",
       "      <td>Cici</td>\n",
       "      <td>F</td>\n",
       "      <td>American Pit Bull Mix / Pit Bull Mix</td>\n",
       "      <td>NaN</td>\n",
       "      <td>BROWN</td>\n",
       "      <td>RUST</td>\n",
       "      <td>BLACK</td>\n",
       "      <td>2008-11-01</td>\n",
       "      <td>Yes</td>\n",
       "      <td>No</td>\n",
       "      <td>No</td>\n",
       "      <td>2015-02-06 10:35:12.917</td>\n",
       "      <td>2015-02-06</td>\n",
       "      <td>2017-04-28</td>\n",
       "      <td>2008</td>\n",
       "      <td>15.078697</td>\n",
       "    </tr>\n",
       "    <tr>\n",
       "      <th>2</th>\n",
       "      <td>Central Bronx</td>\n",
       "      <td>10453</td>\n",
       "      <td>Bronx</td>\n",
       "      <td>10453</td>\n",
       "      <td>Blue</td>\n",
       "      <td>M</td>\n",
       "      <td>Basset Hound</td>\n",
       "      <td>NaN</td>\n",
       "      <td>Brown</td>\n",
       "      <td>Tan</td>\n",
       "      <td>Cream</td>\n",
       "      <td>2005-02-01</td>\n",
       "      <td>Yes</td>\n",
       "      <td>No</td>\n",
       "      <td>No</td>\n",
       "      <td>2015-02-10 16:43:24.847</td>\n",
       "      <td>2015-02-10</td>\n",
       "      <td>2017-02-10</td>\n",
       "      <td>2005</td>\n",
       "      <td>18.829381</td>\n",
       "    </tr>\n",
       "    <tr>\n",
       "      <th>3</th>\n",
       "      <td>Central Bronx</td>\n",
       "      <td>10453</td>\n",
       "      <td>Bronx</td>\n",
       "      <td>10453</td>\n",
       "      <td>Boi</td>\n",
       "      <td>M</td>\n",
       "      <td>Yorkshire Terrier</td>\n",
       "      <td>NaN</td>\n",
       "      <td>Black</td>\n",
       "      <td>Gray</td>\n",
       "      <td>Tan</td>\n",
       "      <td>2011-02-01</td>\n",
       "      <td>Yes</td>\n",
       "      <td>No</td>\n",
       "      <td>Yes</td>\n",
       "      <td>2015-02-10 16:43:24.847</td>\n",
       "      <td>2015-02-10</td>\n",
       "      <td>2017-02-10</td>\n",
       "      <td>2011</td>\n",
       "      <td>12.826642</td>\n",
       "    </tr>\n",
       "    <tr>\n",
       "      <th>4</th>\n",
       "      <td>Central Bronx</td>\n",
       "      <td>10453</td>\n",
       "      <td>Bronx</td>\n",
       "      <td>10453</td>\n",
       "      <td>MARSHMELLO</td>\n",
       "      <td>F</td>\n",
       "      <td>Samoyed</td>\n",
       "      <td>NaN</td>\n",
       "      <td>WHITE</td>\n",
       "      <td>NaN</td>\n",
       "      <td>NaN</td>\n",
       "      <td>2004-01-01</td>\n",
       "      <td>Yes</td>\n",
       "      <td>No</td>\n",
       "      <td>Yes</td>\n",
       "      <td>2015-03-27 14:47:53.483</td>\n",
       "      <td>2015-03-27</td>\n",
       "      <td>2017-03-30</td>\n",
       "      <td>2004</td>\n",
       "      <td>19.917053</td>\n",
       "    </tr>\n",
       "    <tr>\n",
       "      <th>...</th>\n",
       "      <td>...</td>\n",
       "      <td>...</td>\n",
       "      <td>...</td>\n",
       "      <td>...</td>\n",
       "      <td>...</td>\n",
       "      <td>...</td>\n",
       "      <td>...</td>\n",
       "      <td>...</td>\n",
       "      <td>...</td>\n",
       "      <td>...</td>\n",
       "      <td>...</td>\n",
       "      <td>...</td>\n",
       "      <td>...</td>\n",
       "      <td>...</td>\n",
       "      <td>...</td>\n",
       "      <td>...</td>\n",
       "      <td>...</td>\n",
       "      <td>...</td>\n",
       "      <td>...</td>\n",
       "      <td>...</td>\n",
       "    </tr>\n",
       "    <tr>\n",
       "      <th>80854</th>\n",
       "      <td>Mid-Island</td>\n",
       "      <td>10314</td>\n",
       "      <td>Staten Island</td>\n",
       "      <td>10314</td>\n",
       "      <td>Daisy</td>\n",
       "      <td>F</td>\n",
       "      <td>Shih Tzu</td>\n",
       "      <td>NaN</td>\n",
       "      <td>WHITE</td>\n",
       "      <td>TAN</td>\n",
       "      <td>BROWN</td>\n",
       "      <td>2004-01-01</td>\n",
       "      <td>Yes</td>\n",
       "      <td>No</td>\n",
       "      <td>Yes</td>\n",
       "      <td>2016-04-27 11:28:32.640</td>\n",
       "      <td>2016-04-27</td>\n",
       "      <td>2017-03-29</td>\n",
       "      <td>2004</td>\n",
       "      <td>19.917053</td>\n",
       "    </tr>\n",
       "    <tr>\n",
       "      <th>80855</th>\n",
       "      <td>Mid-Island</td>\n",
       "      <td>10314</td>\n",
       "      <td>Staten Island</td>\n",
       "      <td>10314</td>\n",
       "      <td>JAKE</td>\n",
       "      <td>M</td>\n",
       "      <td>Yorkshire Terrier</td>\n",
       "      <td>NaN</td>\n",
       "      <td>BLACK</td>\n",
       "      <td>BROWN</td>\n",
       "      <td>NaN</td>\n",
       "      <td>2003-01-01</td>\n",
       "      <td>Yes</td>\n",
       "      <td>No</td>\n",
       "      <td>Yes</td>\n",
       "      <td>2016-04-27 13:40:00.460</td>\n",
       "      <td>2016-04-27</td>\n",
       "      <td>2017-05-30</td>\n",
       "      <td>2003</td>\n",
       "      <td>20.917053</td>\n",
       "    </tr>\n",
       "    <tr>\n",
       "      <th>80856</th>\n",
       "      <td>Mid-Island</td>\n",
       "      <td>10314</td>\n",
       "      <td>Staten Island</td>\n",
       "      <td>10314</td>\n",
       "      <td>DAISY</td>\n",
       "      <td>F</td>\n",
       "      <td>Havanese</td>\n",
       "      <td>NaN</td>\n",
       "      <td>White</td>\n",
       "      <td>Cream</td>\n",
       "      <td>NaN</td>\n",
       "      <td>2015-12-01</td>\n",
       "      <td>No</td>\n",
       "      <td>No</td>\n",
       "      <td>Yes</td>\n",
       "      <td>2016-04-27 15:33:58.627</td>\n",
       "      <td>2016-04-27</td>\n",
       "      <td>2017-04-27</td>\n",
       "      <td>2015</td>\n",
       "      <td>7.993765</td>\n",
       "    </tr>\n",
       "    <tr>\n",
       "      <th>80857</th>\n",
       "      <td>Mid-Island</td>\n",
       "      <td>10314</td>\n",
       "      <td>Staten Island</td>\n",
       "      <td>10314</td>\n",
       "      <td>Chloe</td>\n",
       "      <td>F</td>\n",
       "      <td>Yorkshire Terrier</td>\n",
       "      <td>NaN</td>\n",
       "      <td>Tan</td>\n",
       "      <td>Black</td>\n",
       "      <td>NaN</td>\n",
       "      <td>2014-08-01</td>\n",
       "      <td>Yes</td>\n",
       "      <td>No</td>\n",
       "      <td>No</td>\n",
       "      <td>2016-04-27 20:12:21.177</td>\n",
       "      <td>2016-04-27</td>\n",
       "      <td>2018-03-25</td>\n",
       "      <td>2014</td>\n",
       "      <td>9.328012</td>\n",
       "    </tr>\n",
       "    <tr>\n",
       "      <th>80858</th>\n",
       "      <td>Mid-Island</td>\n",
       "      <td>10314</td>\n",
       "      <td>Staten Island</td>\n",
       "      <td>10314</td>\n",
       "      <td>Kenny</td>\n",
       "      <td>M</td>\n",
       "      <td>Brussels Griffon</td>\n",
       "      <td>NaN</td>\n",
       "      <td>Brindle</td>\n",
       "      <td>NaN</td>\n",
       "      <td>NaN</td>\n",
       "      <td>2016-01-01</td>\n",
       "      <td>Yes</td>\n",
       "      <td>No</td>\n",
       "      <td>No</td>\n",
       "      <td>2016-04-27 23:40:46.190</td>\n",
       "      <td>2016-04-27</td>\n",
       "      <td>2017-04-27</td>\n",
       "      <td>2016</td>\n",
       "      <td>7.908833</td>\n",
       "    </tr>\n",
       "  </tbody>\n",
       "</table>\n",
       "<p>80859 rows × 20 columns</p>\n",
       "</div>"
      ],
      "text/plain": [
       "        neighborhood    zip        borough  Owner Zip Code Animal Name  \\\n",
       "0      Central Bronx  10453          Bronx           10453      T-Bone   \n",
       "1      Central Bronx  10453          Bronx           10453        Cici   \n",
       "2      Central Bronx  10453          Bronx           10453        Blue   \n",
       "3      Central Bronx  10453          Bronx           10453         Boi   \n",
       "4      Central Bronx  10453          Bronx           10453  MARSHMELLO   \n",
       "...              ...    ...            ...             ...         ...   \n",
       "80854     Mid-Island  10314  Staten Island           10314       Daisy   \n",
       "80855     Mid-Island  10314  Staten Island           10314  JAKE         \n",
       "80856     Mid-Island  10314  Staten Island           10314       DAISY   \n",
       "80857     Mid-Island  10314  Staten Island           10314       Chloe   \n",
       "80858     Mid-Island  10314  Staten Island           10314       Kenny   \n",
       "\n",
       "      Animal Gender                         Primary Breed Secondary Breed  \\\n",
       "0                 M                               Bulldog             NaN   \n",
       "1                 F  American Pit Bull Mix / Pit Bull Mix             NaN   \n",
       "2                 M                          Basset Hound             NaN   \n",
       "3                 M                     Yorkshire Terrier             NaN   \n",
       "4                 F                               Samoyed             NaN   \n",
       "...             ...                                   ...             ...   \n",
       "80854             F                              Shih Tzu             NaN   \n",
       "80855             M                     Yorkshire Terrier             NaN   \n",
       "80856             F                              Havanese             NaN   \n",
       "80857             F                     Yorkshire Terrier             NaN   \n",
       "80858             M                      Brussels Griffon             NaN   \n",
       "\n",
       "      Animal Dominant Color Animal Secondary Color Animal Third Color  \\\n",
       "0                     White                    Tan            Apricot   \n",
       "1                     BROWN                   RUST              BLACK   \n",
       "2                     Brown                    Tan              Cream   \n",
       "3                     Black                   Gray                Tan   \n",
       "4                     WHITE                    NaN                NaN   \n",
       "...                     ...                    ...                ...   \n",
       "80854                 WHITE                    TAN              BROWN   \n",
       "80855                 BLACK                  BROWN                NaN   \n",
       "80856                 White                  Cream                NaN   \n",
       "80857                   Tan                  Black                NaN   \n",
       "80858               Brindle                    NaN                NaN   \n",
       "\n",
       "      Animal Birth Spayed or Neut Guard or Trained Vaccinated  \\\n",
       "0       2010-04-01            Yes               No        Yes   \n",
       "1       2008-11-01            Yes               No         No   \n",
       "2       2005-02-01            Yes               No         No   \n",
       "3       2011-02-01            Yes               No        Yes   \n",
       "4       2004-01-01            Yes               No        Yes   \n",
       "...            ...            ...              ...        ...   \n",
       "80854   2004-01-01            Yes               No        Yes   \n",
       "80855   2003-01-01            Yes               No        Yes   \n",
       "80856   2015-12-01             No               No        Yes   \n",
       "80857   2014-08-01            Yes               No         No   \n",
       "80858   2016-01-01            Yes               No         No   \n",
       "\n",
       "             Application Date License Issued Date License Expired Date  Year  \\\n",
       "0     2014-11-16 16:48:08.080          2014-11-16           2016-11-16  2010   \n",
       "1     2015-02-06 10:35:12.917          2015-02-06           2017-04-28  2008   \n",
       "2     2015-02-10 16:43:24.847          2015-02-10           2017-02-10  2005   \n",
       "3     2015-02-10 16:43:24.847          2015-02-10           2017-02-10  2011   \n",
       "4     2015-03-27 14:47:53.483          2015-03-27           2017-03-30  2004   \n",
       "...                       ...                 ...                  ...   ...   \n",
       "80854 2016-04-27 11:28:32.640          2016-04-27           2017-03-29  2004   \n",
       "80855 2016-04-27 13:40:00.460          2016-04-27           2017-05-30  2003   \n",
       "80856 2016-04-27 15:33:58.627          2016-04-27           2017-04-27  2015   \n",
       "80857 2016-04-27 20:12:21.177          2016-04-27           2018-03-25  2014   \n",
       "80858 2016-04-27 23:40:46.190          2016-04-27           2017-04-27  2016   \n",
       "\n",
       "             Age  \n",
       "0      13.664998  \n",
       "1      15.078697  \n",
       "2      18.829381  \n",
       "3      12.826642  \n",
       "4      19.917053  \n",
       "...          ...  \n",
       "80854  19.917053  \n",
       "80855  20.917053  \n",
       "80856   7.993765  \n",
       "80857   9.328012  \n",
       "80858   7.908833  \n",
       "\n",
       "[80859 rows x 20 columns]"
      ]
     },
     "execution_count": 80,
     "metadata": {},
     "output_type": "execute_result"
    }
   ],
   "source": [
    "zip = pd.read_csv('zipcodes-neighborhoods.csv')\n",
    "zip.head()\n",
    "\n",
    "Dog2 = zip.merge(Dog, left_on='zip', right_on='Owner Zip Code')\n",
    "\n",
    "Dog2\n"
   ]
  },
  {
   "cell_type": "markdown",
   "metadata": {},
   "source": [
    "## What is the most popular dog name in all parts of the Bronx? How about Brooklyn? The Upper East Side?"
   ]
  },
  {
   "cell_type": "code",
   "execution_count": 106,
   "metadata": {},
   "outputs": [
    {
     "data": {
      "text/plain": [
       "Animal Name\n",
       "Rocky       60\n",
       "Max         56\n",
       "Bella       54\n",
       "Lucky       51\n",
       "Princess    43\n",
       "Name: count, dtype: int64"
      ]
     },
     "execution_count": 106,
     "metadata": {},
     "output_type": "execute_result"
    }
   ],
   "source": [
    "bronx = Dog2[Dog2['borough'] == 'Bronx']\n",
    "bronx['Animal Name'].value_counts().head(5)"
   ]
  },
  {
   "cell_type": "code",
   "execution_count": 129,
   "metadata": {},
   "outputs": [
    {
     "data": {
      "text/plain": [
       "Animal Name\n",
       "unknown    234\n",
       "Unknown    161\n",
       "UNKNOWN    155\n",
       "Max        113\n",
       "Bella      112\n",
       "Name: count, dtype: int64"
      ]
     },
     "execution_count": 129,
     "metadata": {},
     "output_type": "execute_result"
    }
   ],
   "source": [
    "filtered1 = Dog2[Dog2['borough'] != 'Unknown']\n",
    "Br = Dog2[Dog2['borough'] == 'Brooklyn']\n",
    "Br['Animal Name'].value_counts().head(5)"
   ]
  },
  {
   "cell_type": "code",
   "execution_count": 114,
   "metadata": {},
   "outputs": [
    {
     "data": {
      "text/plain": [
       "neighborhood\n",
       "Upper West Side                  5364\n",
       "Upper East Side                  5083\n",
       "Northwest Brooklyn               4498\n",
       "Chelsea and Clinton              4066\n",
       "South Shore                      4005\n",
       "Lower East Side                  3195\n",
       "West Queens                      2961\n",
       "Southeast Bronx                  2807\n",
       "West Central Queens              2773\n",
       "Gramercy Park and Murray Hill    2671\n",
       "Name: count, dtype: int64"
      ]
     },
     "execution_count": 114,
     "metadata": {},
     "output_type": "execute_result"
    }
   ],
   "source": [
    "Dog2['neighborhood'].value_counts().head(10)"
   ]
  },
  {
   "cell_type": "code",
   "execution_count": 113,
   "metadata": {},
   "outputs": [
    {
     "data": {
      "text/plain": [
       "Animal Name\n",
       "Lucy       40\n",
       "Bella      31\n",
       "Charlie    29\n",
       "Coco       29\n",
       "NO NAME    26\n",
       "Name: count, dtype: int64"
      ]
     },
     "execution_count": 113,
     "metadata": {},
     "output_type": "execute_result"
    }
   ],
   "source": [
    "Upp = Dog2[Dog2['neighborhood'] == 'Upper East Side']\n",
    "Upp['Animal Name'].value_counts().head(5)"
   ]
  },
  {
   "cell_type": "markdown",
   "metadata": {},
   "source": [
    "## What is the most common dog breed in each of the neighborhoods of NYC?"
   ]
  },
  {
   "cell_type": "code",
   "execution_count": 128,
   "metadata": {},
   "outputs": [
    {
     "data": {
      "text/plain": [
       "neighborhood\n",
       "Borough Park                                      Yorkshire Terrier\n",
       "Bronx Park and Fordham                            Yorkshire Terrier\n",
       "Bushwick and Williamsburg                         Yorkshire Terrier\n",
       "Canarsie and Flatlands                            Yorkshire Terrier\n",
       "Central Bronx                                     Yorkshire Terrier\n",
       "Central Brooklyn                                  Yorkshire Terrier\n",
       "Central Harlem                                    Yorkshire Terrier\n",
       "Central Queens                                    Yorkshire Terrier\n",
       "Chelsea and Clinton                                       Chihuahua\n",
       "East Harlem                                       Yorkshire Terrier\n",
       "East New York and New Lots       American Pit Bull Terrier/Pit Bull\n",
       "Flatbush                                          Yorkshire Terrier\n",
       "Gramercy Park and Murray Hill                     Yorkshire Terrier\n",
       "Greenpoint                                                Chihuahua\n",
       "Greenwich Village and Soho                       Labrador Retriever\n",
       "High Bridge and Morrisania                        Yorkshire Terrier\n",
       "Hunts Point and Mott Haven                        Yorkshire Terrier\n",
       "Inwood and Washington Heights                     Yorkshire Terrier\n",
       "Jamaica                                           Yorkshire Terrier\n",
       "Kingsbridge and Riverdale                         Yorkshire Terrier\n",
       "Lower East Side                                   Yorkshire Terrier\n",
       "Lower Manhattan                                            Shih Tzu\n",
       "Mid-Island                                        Yorkshire Terrier\n",
       "North Queens                                                Maltese\n",
       "Northeast Bronx                                   Yorkshire Terrier\n",
       "Northeast Queens                                            Maltese\n",
       "Northwest Brooklyn                               Labrador Retriever\n",
       "Northwest Queens                                          Chihuahua\n",
       "Port Richmond                                     Yorkshire Terrier\n",
       "Rockaways                                                  Shih Tzu\n",
       "South Shore                                                Shih Tzu\n",
       "Southeast Bronx                                            Shih Tzu\n",
       "Southeast Queens                                  Yorkshire Terrier\n",
       "Southern Brooklyn                                          Shih Tzu\n",
       "Southwest Brooklyn                                         Shih Tzu\n",
       "Southwest Queens                                  Yorkshire Terrier\n",
       "Stapleton and St. George                          Yorkshire Terrier\n",
       "Sunset Park                                       Yorkshire Terrier\n",
       "Upper East Side                                            Shih Tzu\n",
       "Upper West Side                                  Labrador Retriever\n",
       "West Central Queens                               Yorkshire Terrier\n",
       "West Queens                                                Shih Tzu\n",
       "Name: Primary Breed, dtype: object"
      ]
     },
     "execution_count": 128,
     "metadata": {},
     "output_type": "execute_result"
    }
   ],
   "source": [
    "filtered = Dog2[Dog2['Primary Breed'] != 'Unknown']\n",
    "\n",
    "most_common = filtered.groupby('neighborhood')['Primary Breed'].agg(lambda x: x.value_counts().idxmax())\n",
    "\n",
    "most_common"
   ]
  },
  {
   "cell_type": "code",
   "execution_count": null,
   "metadata": {},
   "outputs": [],
   "source": []
  },
  {
   "cell_type": "markdown",
   "metadata": {},
   "source": [
    "## What breed of dogs are the least likely to be spayed? Male or female?"
   ]
  },
  {
   "cell_type": "code",
   "execution_count": 134,
   "metadata": {},
   "outputs": [
    {
     "data": {
      "text/plain": [
       "Primary Breed\n",
       "Collie Crossbreed           0.020270\n",
       "Great Pyrenees              0.021277\n",
       "Greyhound                   0.033113\n",
       "Schipperkee                 0.033333\n",
       "Tibetan Spaniel             0.035714\n",
       "                              ...   \n",
       "Spanish Water Dog                NaN\n",
       "Sussex Spaniel                   NaN\n",
       "Swedish Vallhund                 NaN\n",
       "Treeing Walker Coonhound         NaN\n",
       "Xoloitzcuintli                   NaN\n",
       "Name: No, Length: 278, dtype: float64"
      ]
     },
     "execution_count": 134,
     "metadata": {},
     "output_type": "execute_result"
    }
   ],
   "source": [
    "filtered2 = Dog2.dropna(subset=['Spayed or Neut'])\n",
    "\n",
    "filtered2.groupby('Primary Breed')['Spayed or Neut'].value_counts(normalize=True).unstack()['No'].sort_values()\n"
   ]
  },
  {
   "cell_type": "code",
   "execution_count": 135,
   "metadata": {},
   "outputs": [
    {
     "data": {
      "text/plain": [
       "Animal Gender\n",
       "          NaN\n",
       "F    0.154829\n",
       "M    0.223517\n",
       "Name: No, dtype: float64"
      ]
     },
     "execution_count": 135,
     "metadata": {},
     "output_type": "execute_result"
    }
   ],
   "source": [
    "filtered3 = Dog2.dropna(subset=['Spayed or Neut'])\n",
    "filtered3.groupby('Animal Gender')['Spayed or Neut'].value_counts(normalize=True).unstack()['No']"
   ]
  },
  {
   "cell_type": "markdown",
   "metadata": {},
   "source": [
    "## Make a new column called monochrome that is True for any animal that only has black, white or grey as one of its colors. How many animals are monochrome?"
   ]
  },
  {
   "cell_type": "code",
   "execution_count": 138,
   "metadata": {},
   "outputs": [
    {
     "ename": "SyntaxError",
     "evalue": "expected 'else' after 'if' expression (1979340713.py, line 1)",
     "output_type": "error",
     "traceback": [
      "\u001b[0;36m  Cell \u001b[0;32mIn[138], line 1\u001b[0;36m\u001b[0m\n\u001b[0;31m    Dog2['monochrome'] = Dog2.apply(lambda row: all(str(color).lower() in {'black', 'white', 'grey'} for color in [row['Animal Dominant Color'], row['Animal Secondary Color'], row['Animal Third Color'] if not pd.isna(color)]), axis=1)\u001b[0m\n\u001b[0m                                                                                                                                                                                ^\u001b[0m\n\u001b[0;31mSyntaxError\u001b[0m\u001b[0;31m:\u001b[0m expected 'else' after 'if' expression\n"
     ]
    }
   ],
   "source": [
    "Dog2['monochrome'] = Dog2.apply(lambda row: all(str(color).lower() in {'black', 'white', 'grey'} for color in [row['Animal Dominant Color'], row['Animal Secondary Color'], row['Animal Third Color'] if not pd.isna(color)]), axis=1)\n",
    "\n",
    "num_monochrome_animals = Dog2['monochrome'].sum()\n"
   ]
  },
  {
   "cell_type": "markdown",
   "metadata": {},
   "source": [
    "## How many dogs are in each borough? Plot it in a graph."
   ]
  },
  {
   "cell_type": "code",
   "execution_count": 148,
   "metadata": {},
   "outputs": [
    {
     "data": {
      "image/png": "[encoded data removed]",
      "text/plain": [
       "<Figure size 1000x600 with 1 Axes>"
      ]
     },
     "metadata": {},
     "output_type": "display_data"
    }
   ],
   "source": [
    "dogs = Dog2['borough'].value_counts()\n",
    "\n",
    "plt.figure(figsize=(10, 6))\n",
    "dogs.plot(kind='bar', color='pink')\n",
    "plt.xlabel('Borough')\n",
    "plt.ylabel('Number of Dogs')\n",
    "plt.title('Number of Dogs in Each Borough')\n",
    "plt.show()\n"
   ]
  },
  {
   "cell_type": "markdown",
   "metadata": {},
   "source": [
    "## Which borough has the highest number of dogs per-capita?\n",
    "\n",
    "You’ll need to merge in `population_boro.csv`"
   ]
  },
  {
   "cell_type": "code",
   "execution_count": null,
   "metadata": {},
   "outputs": [],
   "source": []
  },
  {
   "cell_type": "markdown",
   "metadata": {},
   "source": [
    "## Make a bar graph of the top 5 breeds in each borough.\n",
    "\n",
    "How do you groupby and then only take the top X number? This is very crazy, so ask in Slack, or a TA, or our buddy ChatGPT."
   ]
  },
  {
   "cell_type": "code",
   "execution_count": 151,
   "metadata": {},
   "outputs": [
    {
     "data": {
      "image/png": "[encoded data removed]",
      "text/plain": [
       "<Figure size 1200x800 with 1 Axes>"
      ]
     },
     "metadata": {},
     "output_type": "display_data"
    }
   ],
   "source": [
    "\n",
    "\n",
    "breeds_by_borough = Dog2.groupby(['borough', 'Primary Breed']).size().reset_index(name='count')\n",
    "\n",
    "breeds_by_borough_sorted = breeds_by_borough.sort_values(['borough', 'count'], ascending=[True, False])\n",
    "\n",
    "\n",
    "top5_breeds_by_borough = breeds_by_borough_sorted.groupby('borough').head(5)\n",
    "\n",
    "plt.figure(figsize=(12, 8))\n",
    "for borough, group in top5_breeds_by_borough.groupby('borough'):\n",
    "    plt.bar(group['Primary Breed'], group['count'], label=borough)\n",
    "\n",
    "plt.xlabel('Primary Breed')\n",
    "plt.ylabel('Count')\n",
    "plt.title('Top 5 Breeds in Each Borough')\n",
    "plt.legend(title='Borough', bbox_to_anchor=(1.05, 1), loc='upper left')\n",
    "plt.xticks(rotation=45, ha='right')\n",
    "plt.tight_layout()\n",
    "plt.show()\n"
   ]
  },
  {
   "cell_type": "markdown",
   "metadata": {},
   "source": [
    "## What percentage of dogs are not guard dogs?"
   ]
  },
  {
   "cell_type": "code",
   "execution_count": 153,
   "metadata": {},
   "outputs": [
    {
     "data": {
      "text/plain": [
       "99.93940068514327"
      ]
     },
     "execution_count": 153,
     "metadata": {},
     "output_type": "execute_result"
    }
   ],
   "source": [
    "guard = Dog2['Guard or Trained'].value_counts()\n",
    "(guard.get('No', 0) / len(Dog2['Guard or Trained'])) * 100\n"
   ]
  }
 ],
 "metadata": {
  "kernelspec": {
   "display_name": "Python 3 (ipykernel)",
   "language": "python",
   "name": "python3"
  },
  "language_info": {
   "codemirror_mode": {
    "name": "ipython",
    "version": 3
   },
   "file_extension": ".py",
   "mimetype": "text/x-python",
   "name": "python",
   "nbconvert_exporter": "python",
   "pygments_lexer": "ipython3",
   "version": "3.11.6"
  }
 },
 "nbformat": 4,
 "nbformat_minor": 4
}
