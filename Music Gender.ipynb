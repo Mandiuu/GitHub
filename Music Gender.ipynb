{
 "cells": [
  {
   "cell_type": "markdown",
   "id": "ec63f89a-3aea-4044-a617-3bc0a0e9b038",
   "metadata": {},
   "source": [
    "# ✨Know your Gender Bias in Music!✨"
   ]
  },
  {
   "cell_type": "markdown",
   "id": "b505d596-a691-4558-84c7-1b9bcf5288f2",
   "metadata": {},
   "source": [
    "A new reason why you are a terrible feminist 🤷🏽‍♀️"
   ]
  },
  {
   "cell_type": "markdown",
   "id": "7bef2dfe-1d4b-4a7d-8d08-7d67c1fb27a1",
   "metadata": {},
   "source": [
    "But first, a little encounter with Spotipy to see the top songs of your favorite band (hopefully, a woman's band) "
   ]
  },
  {
   "cell_type": "code",
   "execution_count": 6,
   "id": "c0edbabc-64c3-489a-a8db-91c278034c47",
   "metadata": {},
   "outputs": [],
   "source": [
    "import requests\n",
    "import spotipy\n",
    "from spotipy.oauth2 import SpotifyClientCredentials\n",
    "\n"
   ]
  },
  {
   "cell_type": "code",
   "execution_count": 7,
   "id": "a0debf6c-91b6-4223-9a10-86ed94bafe90",
   "metadata": {},
   "outputs": [],
   "source": [
    "from dotenv import load_dotenv\n",
    "load_dotenv()\n",
    "import os"
   ]
  },
  {
   "cell_type": "code",
   "execution_count": 8,
   "id": "8783cc75-788f-4cea-a177-3f17fc367084",
   "metadata": {},
   "outputs": [
    {
     "name": "stdout",
     "output_type": "stream",
     "text": [
      "Requirement already satisfied: python-dotenv in /Users/carlamandiola/.pyenv/versions/3.11.6/lib/python3.11/site-packages (1.0.0)\n"
     ]
    }
   ],
   "source": [
    "!touch .env\n",
    "!pip install python-dotenv\n",
    "client_id='os.getenv(\"client_id\")',\n",
    "client_secret='os.getenv(\"client_secret\")'"
   ]
  },
  {
   "cell_type": "code",
   "execution_count": 5,
   "id": "b93b7e77-b9e3-4f04-8d84-b8c7619bcd85",
   "metadata": {},
   "outputs": [],
   "source": [
    "import os\n",
    "from dotenv import load_dotenv\n",
    "load_dotenv()\n",
    "\n",
    "API_KEY = os.getenv('PROJECT_API_KEY')"
   ]
  },
  {
   "cell_type": "code",
   "execution_count": 6,
   "id": "1ccba20a-1418-4024-9fa6-d6d398acfb9c",
   "metadata": {},
   "outputs": [],
   "source": [
    "spotify = spotipy.Spotify(auth_manager=SpotifyClientCredentials(\n",
    "    client_id,\n",
    "    client_secret,\n",
    "))"
   ]
  },
  {
   "cell_type": "code",
   "execution_count": 7,
   "id": "96ef2574-db47-4d99-8810-5b68f2606027",
   "metadata": {},
   "outputs": [
    {
     "ename": "TypeError",
     "evalue": "can only concatenate tuple (not \"str\") to tuple",
     "output_type": "error",
     "traceback": [
      "\u001b[0;31m---------------------------------------------------------------------------\u001b[0m",
      "\u001b[0;31mTypeError\u001b[0m                                 Traceback (most recent call last)",
      "File \u001b[0;32m~/.pyenv/versions/3.11.6/lib/python3.11/site-packages/spotipy/client.py:238\u001b[0m, in \u001b[0;36mSpotify._auth_headers\u001b[0;34m(self)\u001b[0m\n\u001b[1;32m    237\u001b[0m \u001b[39mtry\u001b[39;00m:\n\u001b[0;32m--> 238\u001b[0m     token \u001b[39m=\u001b[39m \u001b[39mself\u001b[39;49m\u001b[39m.\u001b[39;49mauth_manager\u001b[39m.\u001b[39;49mget_access_token(as_dict\u001b[39m=\u001b[39;49m\u001b[39mFalse\u001b[39;49;00m)\n\u001b[1;32m    239\u001b[0m \u001b[39mexcept\u001b[39;00m \u001b[39mTypeError\u001b[39;00m:\n",
      "File \u001b[0;32m~/.pyenv/versions/3.11.6/lib/python3.11/site-packages/spotipy/oauth2.py:238\u001b[0m, in \u001b[0;36mSpotifyClientCredentials.get_access_token\u001b[0;34m(self, as_dict, check_cache)\u001b[0m\n\u001b[1;32m    236\u001b[0m         \u001b[39mreturn\u001b[39;00m token_info \u001b[39mif\u001b[39;00m as_dict \u001b[39melse\u001b[39;00m token_info[\u001b[39m\"\u001b[39m\u001b[39maccess_token\u001b[39m\u001b[39m\"\u001b[39m]\n\u001b[0;32m--> 238\u001b[0m token_info \u001b[39m=\u001b[39m \u001b[39mself\u001b[39;49m\u001b[39m.\u001b[39;49m_request_access_token()\n\u001b[1;32m    239\u001b[0m token_info \u001b[39m=\u001b[39m \u001b[39mself\u001b[39m\u001b[39m.\u001b[39m_add_custom_values_to_token_info(token_info)\n",
      "File \u001b[0;32m~/.pyenv/versions/3.11.6/lib/python3.11/site-packages/spotipy/oauth2.py:247\u001b[0m, in \u001b[0;36mSpotifyClientCredentials._request_access_token\u001b[0;34m(self)\u001b[0m\n\u001b[1;32m    245\u001b[0m payload \u001b[39m=\u001b[39m {\u001b[39m\"\u001b[39m\u001b[39mgrant_type\u001b[39m\u001b[39m\"\u001b[39m: \u001b[39m\"\u001b[39m\u001b[39mclient_credentials\u001b[39m\u001b[39m\"\u001b[39m}\n\u001b[0;32m--> 247\u001b[0m headers \u001b[39m=\u001b[39m _make_authorization_headers(\n\u001b[1;32m    248\u001b[0m     \u001b[39mself\u001b[39;49m\u001b[39m.\u001b[39;49mclient_id, \u001b[39mself\u001b[39;49m\u001b[39m.\u001b[39;49mclient_secret\n\u001b[1;32m    249\u001b[0m )\n\u001b[1;32m    251\u001b[0m logger\u001b[39m.\u001b[39mdebug(\n\u001b[1;32m    252\u001b[0m     \u001b[39m\"\u001b[39m\u001b[39msending POST request to \u001b[39m\u001b[39m%s\u001b[39;00m\u001b[39m with Headers: \u001b[39m\u001b[39m%s\u001b[39;00m\u001b[39m and Body: \u001b[39m\u001b[39m%r\u001b[39;00m\u001b[39m\"\u001b[39m,\n\u001b[1;32m    253\u001b[0m     \u001b[39mself\u001b[39m\u001b[39m.\u001b[39mOAUTH_TOKEN_URL, headers, payload\n\u001b[1;32m    254\u001b[0m )\n",
      "File \u001b[0;32m~/.pyenv/versions/3.11.6/lib/python3.11/site-packages/spotipy/oauth2.py:57\u001b[0m, in \u001b[0;36m_make_authorization_headers\u001b[0;34m(client_id, client_secret)\u001b[0m\n\u001b[1;32m     55\u001b[0m \u001b[39mdef\u001b[39;00m \u001b[39m_make_authorization_headers\u001b[39m(client_id, client_secret):\n\u001b[1;32m     56\u001b[0m     auth_header \u001b[39m=\u001b[39m base64\u001b[39m.\u001b[39mb64encode(\n\u001b[0;32m---> 57\u001b[0m         six\u001b[39m.\u001b[39mtext_type(client_id \u001b[39m+\u001b[39;49m \u001b[39m\"\u001b[39;49m\u001b[39m:\u001b[39;49m\u001b[39m\"\u001b[39;49m \u001b[39m+\u001b[39m client_secret)\u001b[39m.\u001b[39mencode(\u001b[39m\"\u001b[39m\u001b[39mascii\u001b[39m\u001b[39m\"\u001b[39m)\n\u001b[1;32m     58\u001b[0m     )\n\u001b[1;32m     59\u001b[0m     \u001b[39mreturn\u001b[39;00m {\u001b[39m\"\u001b[39m\u001b[39mAuthorization\u001b[39m\u001b[39m\"\u001b[39m: \u001b[39m\"\u001b[39m\u001b[39mBasic \u001b[39m\u001b[39m%s\u001b[39;00m\u001b[39m\"\u001b[39m \u001b[39m%\u001b[39m auth_header\u001b[39m.\u001b[39mdecode(\u001b[39m\"\u001b[39m\u001b[39mascii\u001b[39m\u001b[39m\"\u001b[39m)}\n",
      "\u001b[0;31mTypeError\u001b[0m: can only concatenate tuple (not \"str\") to tuple",
      "\nDuring handling of the above exception, another exception occurred:\n",
      "\u001b[0;31mTypeError\u001b[0m                                 Traceback (most recent call last)",
      "\u001b[1;32m/Users/carlamandiola/Desktop/Foundations2/Music Gender.ipynb Cell 9\u001b[0m line \u001b[0;36m1\n\u001b[0;32m----> <a href='vscode-notebook-cell:/Users/carlamandiola/Desktop/Foundations2/Music%20Gender.ipynb#X12sZmlsZQ%3D%3D?line=0'>1</a>\u001b[0m results \u001b[39m=\u001b[39m spotify\u001b[39m.\u001b[39;49msearch(q\u001b[39m=\u001b[39;49m\u001b[39m'\u001b[39;49m\u001b[39martist:Jungle\u001b[39;49m\u001b[39m'\u001b[39;49m, \u001b[39mtype\u001b[39;49m\u001b[39m=\u001b[39;49m\u001b[39m'\u001b[39;49m\u001b[39martist\u001b[39;49m\u001b[39m'\u001b[39;49m) \n",
      "File \u001b[0;32m~/.pyenv/versions/3.11.6/lib/python3.11/site-packages/spotipy/client.py:587\u001b[0m, in \u001b[0;36mSpotify.search\u001b[0;34m(self, q, limit, offset, type, market)\u001b[0m\n\u001b[1;32m    572\u001b[0m \u001b[39mdef\u001b[39;00m \u001b[39msearch\u001b[39m(\u001b[39mself\u001b[39m, q, limit\u001b[39m=\u001b[39m\u001b[39m10\u001b[39m, offset\u001b[39m=\u001b[39m\u001b[39m0\u001b[39m, \u001b[39mtype\u001b[39m\u001b[39m=\u001b[39m\u001b[39m\"\u001b[39m\u001b[39mtrack\u001b[39m\u001b[39m\"\u001b[39m, market\u001b[39m=\u001b[39m\u001b[39mNone\u001b[39;00m):\n\u001b[1;32m    573\u001b[0m \u001b[39m    \u001b[39m\u001b[39m\"\"\" searches for an item\u001b[39;00m\n\u001b[1;32m    574\u001b[0m \n\u001b[1;32m    575\u001b[0m \u001b[39m        Parameters:\u001b[39;00m\n\u001b[0;32m   (...)\u001b[0m\n\u001b[1;32m    585\u001b[0m \u001b[39m                       from_token.\u001b[39;00m\n\u001b[1;32m    586\u001b[0m \u001b[39m    \"\"\"\u001b[39;00m\n\u001b[0;32m--> 587\u001b[0m     \u001b[39mreturn\u001b[39;00m \u001b[39mself\u001b[39;49m\u001b[39m.\u001b[39;49m_get(\n\u001b[1;32m    588\u001b[0m         \u001b[39m\"\u001b[39;49m\u001b[39msearch\u001b[39;49m\u001b[39m\"\u001b[39;49m, q\u001b[39m=\u001b[39;49mq, limit\u001b[39m=\u001b[39;49mlimit, offset\u001b[39m=\u001b[39;49moffset, \u001b[39mtype\u001b[39;49m\u001b[39m=\u001b[39;49m\u001b[39mtype\u001b[39;49m, market\u001b[39m=\u001b[39;49mmarket\n\u001b[1;32m    589\u001b[0m     )\n",
      "File \u001b[0;32m~/.pyenv/versions/3.11.6/lib/python3.11/site-packages/spotipy/client.py:323\u001b[0m, in \u001b[0;36mSpotify._get\u001b[0;34m(self, url, args, payload, **kwargs)\u001b[0m\n\u001b[1;32m    320\u001b[0m \u001b[39mif\u001b[39;00m args:\n\u001b[1;32m    321\u001b[0m     kwargs\u001b[39m.\u001b[39mupdate(args)\n\u001b[0;32m--> 323\u001b[0m \u001b[39mreturn\u001b[39;00m \u001b[39mself\u001b[39;49m\u001b[39m.\u001b[39;49m_internal_call(\u001b[39m\"\u001b[39;49m\u001b[39mGET\u001b[39;49m\u001b[39m\"\u001b[39;49m, url, payload, kwargs)\n",
      "File \u001b[0;32m~/.pyenv/versions/3.11.6/lib/python3.11/site-packages/spotipy/client.py:247\u001b[0m, in \u001b[0;36mSpotify._internal_call\u001b[0;34m(self, method, url, payload, params)\u001b[0m\n\u001b[1;32m    245\u001b[0m \u001b[39mif\u001b[39;00m \u001b[39mnot\u001b[39;00m url\u001b[39m.\u001b[39mstartswith(\u001b[39m\"\u001b[39m\u001b[39mhttp\u001b[39m\u001b[39m\"\u001b[39m):\n\u001b[1;32m    246\u001b[0m     url \u001b[39m=\u001b[39m \u001b[39mself\u001b[39m\u001b[39m.\u001b[39mprefix \u001b[39m+\u001b[39m url\n\u001b[0;32m--> 247\u001b[0m headers \u001b[39m=\u001b[39m \u001b[39mself\u001b[39;49m\u001b[39m.\u001b[39;49m_auth_headers()\n\u001b[1;32m    249\u001b[0m \u001b[39mif\u001b[39;00m \u001b[39m\"\u001b[39m\u001b[39mcontent_type\u001b[39m\u001b[39m\"\u001b[39m \u001b[39min\u001b[39;00m args[\u001b[39m\"\u001b[39m\u001b[39mparams\u001b[39m\u001b[39m\"\u001b[39m]:\n\u001b[1;32m    250\u001b[0m     headers[\u001b[39m\"\u001b[39m\u001b[39mContent-Type\u001b[39m\u001b[39m\"\u001b[39m] \u001b[39m=\u001b[39m args[\u001b[39m\"\u001b[39m\u001b[39mparams\u001b[39m\u001b[39m\"\u001b[39m][\u001b[39m\"\u001b[39m\u001b[39mcontent_type\u001b[39m\u001b[39m\"\u001b[39m]\n",
      "File \u001b[0;32m~/.pyenv/versions/3.11.6/lib/python3.11/site-packages/spotipy/client.py:240\u001b[0m, in \u001b[0;36mSpotify._auth_headers\u001b[0;34m(self)\u001b[0m\n\u001b[1;32m    238\u001b[0m     token \u001b[39m=\u001b[39m \u001b[39mself\u001b[39m\u001b[39m.\u001b[39mauth_manager\u001b[39m.\u001b[39mget_access_token(as_dict\u001b[39m=\u001b[39m\u001b[39mFalse\u001b[39;00m)\n\u001b[1;32m    239\u001b[0m \u001b[39mexcept\u001b[39;00m \u001b[39mTypeError\u001b[39;00m:\n\u001b[0;32m--> 240\u001b[0m     token \u001b[39m=\u001b[39m \u001b[39mself\u001b[39;49m\u001b[39m.\u001b[39;49mauth_manager\u001b[39m.\u001b[39;49mget_access_token()\n\u001b[1;32m    241\u001b[0m \u001b[39mreturn\u001b[39;00m {\u001b[39m\"\u001b[39m\u001b[39mAuthorization\u001b[39m\u001b[39m\"\u001b[39m: \u001b[39m\"\u001b[39m\u001b[39mBearer \u001b[39m\u001b[39m{0}\u001b[39;00m\u001b[39m\"\u001b[39m\u001b[39m.\u001b[39mformat(token)}\n",
      "File \u001b[0;32m~/.pyenv/versions/3.11.6/lib/python3.11/site-packages/spotipy/oauth2.py:238\u001b[0m, in \u001b[0;36mSpotifyClientCredentials.get_access_token\u001b[0;34m(self, as_dict, check_cache)\u001b[0m\n\u001b[1;32m    235\u001b[0m     \u001b[39mif\u001b[39;00m token_info \u001b[39mand\u001b[39;00m \u001b[39mnot\u001b[39;00m \u001b[39mself\u001b[39m\u001b[39m.\u001b[39mis_token_expired(token_info):\n\u001b[1;32m    236\u001b[0m         \u001b[39mreturn\u001b[39;00m token_info \u001b[39mif\u001b[39;00m as_dict \u001b[39melse\u001b[39;00m token_info[\u001b[39m\"\u001b[39m\u001b[39maccess_token\u001b[39m\u001b[39m\"\u001b[39m]\n\u001b[0;32m--> 238\u001b[0m token_info \u001b[39m=\u001b[39m \u001b[39mself\u001b[39;49m\u001b[39m.\u001b[39;49m_request_access_token()\n\u001b[1;32m    239\u001b[0m token_info \u001b[39m=\u001b[39m \u001b[39mself\u001b[39m\u001b[39m.\u001b[39m_add_custom_values_to_token_info(token_info)\n\u001b[1;32m    240\u001b[0m \u001b[39mself\u001b[39m\u001b[39m.\u001b[39mcache_handler\u001b[39m.\u001b[39msave_token_to_cache(token_info)\n",
      "File \u001b[0;32m~/.pyenv/versions/3.11.6/lib/python3.11/site-packages/spotipy/oauth2.py:247\u001b[0m, in \u001b[0;36mSpotifyClientCredentials._request_access_token\u001b[0;34m(self)\u001b[0m\n\u001b[1;32m    244\u001b[0m \u001b[39m\u001b[39m\u001b[39m\"\"\"Gets client credentials access token \"\"\"\u001b[39;00m\n\u001b[1;32m    245\u001b[0m payload \u001b[39m=\u001b[39m {\u001b[39m\"\u001b[39m\u001b[39mgrant_type\u001b[39m\u001b[39m\"\u001b[39m: \u001b[39m\"\u001b[39m\u001b[39mclient_credentials\u001b[39m\u001b[39m\"\u001b[39m}\n\u001b[0;32m--> 247\u001b[0m headers \u001b[39m=\u001b[39m _make_authorization_headers(\n\u001b[1;32m    248\u001b[0m     \u001b[39mself\u001b[39;49m\u001b[39m.\u001b[39;49mclient_id, \u001b[39mself\u001b[39;49m\u001b[39m.\u001b[39;49mclient_secret\n\u001b[1;32m    249\u001b[0m )\n\u001b[1;32m    251\u001b[0m logger\u001b[39m.\u001b[39mdebug(\n\u001b[1;32m    252\u001b[0m     \u001b[39m\"\u001b[39m\u001b[39msending POST request to \u001b[39m\u001b[39m%s\u001b[39;00m\u001b[39m with Headers: \u001b[39m\u001b[39m%s\u001b[39;00m\u001b[39m and Body: \u001b[39m\u001b[39m%r\u001b[39;00m\u001b[39m\"\u001b[39m,\n\u001b[1;32m    253\u001b[0m     \u001b[39mself\u001b[39m\u001b[39m.\u001b[39mOAUTH_TOKEN_URL, headers, payload\n\u001b[1;32m    254\u001b[0m )\n\u001b[1;32m    256\u001b[0m \u001b[39mtry\u001b[39;00m:\n",
      "File \u001b[0;32m~/.pyenv/versions/3.11.6/lib/python3.11/site-packages/spotipy/oauth2.py:57\u001b[0m, in \u001b[0;36m_make_authorization_headers\u001b[0;34m(client_id, client_secret)\u001b[0m\n\u001b[1;32m     55\u001b[0m \u001b[39mdef\u001b[39;00m \u001b[39m_make_authorization_headers\u001b[39m(client_id, client_secret):\n\u001b[1;32m     56\u001b[0m     auth_header \u001b[39m=\u001b[39m base64\u001b[39m.\u001b[39mb64encode(\n\u001b[0;32m---> 57\u001b[0m         six\u001b[39m.\u001b[39mtext_type(client_id \u001b[39m+\u001b[39;49m \u001b[39m\"\u001b[39;49m\u001b[39m:\u001b[39;49m\u001b[39m\"\u001b[39;49m \u001b[39m+\u001b[39m client_secret)\u001b[39m.\u001b[39mencode(\u001b[39m\"\u001b[39m\u001b[39mascii\u001b[39m\u001b[39m\"\u001b[39m)\n\u001b[1;32m     58\u001b[0m     )\n\u001b[1;32m     59\u001b[0m     \u001b[39mreturn\u001b[39;00m {\u001b[39m\"\u001b[39m\u001b[39mAuthorization\u001b[39m\u001b[39m\"\u001b[39m: \u001b[39m\"\u001b[39m\u001b[39mBasic \u001b[39m\u001b[39m%s\u001b[39;00m\u001b[39m\"\u001b[39m \u001b[39m%\u001b[39m auth_header\u001b[39m.\u001b[39mdecode(\u001b[39m\"\u001b[39m\u001b[39mascii\u001b[39m\u001b[39m\"\u001b[39m)}\n",
      "\u001b[0;31mTypeError\u001b[0m: can only concatenate tuple (not \"str\") to tuple"
     ]
    }
   ],
   "source": [
    "results = spotify.search(q='artist:Jungle', type='artist') "
   ]
  },
  {
   "cell_type": "code",
   "execution_count": 25,
   "id": "f178c180-eb0e-4d7f-b155-c743e6e93d41",
   "metadata": {},
   "outputs": [
    {
     "data": {
      "text/plain": [
       "{'external_urls': {'spotify': 'https://open.spotify.com/artist/59oA5WbbQvomJz2BuRG071'},\n",
       " 'followers': {'href': None, 'total': 1142268},\n",
       " 'genres': ['indie soul', 'indietronica', 'uk contemporary r&b'],\n",
       " 'href': 'https://api.spotify.com/v1/artists/59oA5WbbQvomJz2BuRG071',\n",
       " 'id': '59oA5WbbQvomJz2BuRG071',\n",
       " 'images': [{'height': 640,\n",
       "   'url': 'https://i.scdn.co/image/ab6761610000e5eb15cf3de5c20aa0bec068b840',\n",
       "   'width': 640},\n",
       "  {'height': 320,\n",
       "   'url': 'https://i.scdn.co/image/ab6761610000517415cf3de5c20aa0bec068b840',\n",
       "   'width': 320},\n",
       "  {'height': 160,\n",
       "   'url': 'https://i.scdn.co/image/ab6761610000f17815cf3de5c20aa0bec068b840',\n",
       "   'width': 160}],\n",
       " 'name': 'Jungle',\n",
       " 'popularity': 71,\n",
       " 'type': 'artist',\n",
       " 'uri': 'spotify:artist:59oA5WbbQvomJz2BuRG071'}"
      ]
     },
     "execution_count": 25,
     "metadata": {},
     "output_type": "execute_result"
    }
   ],
   "source": [
    "results['artists']['items'][0]"
   ]
  },
  {
   "cell_type": "code",
   "execution_count": 26,
   "id": "b431f25b-f705-4894-b285-d614fad757e4",
   "metadata": {},
   "outputs": [
    {
     "name": "stdout",
     "output_type": "stream",
     "text": [
      "track    : Back On 74\n",
      "cover art: https://i.scdn.co/image/ab67616d0000b27377619f14cb03e11baf5761d1\n",
      "track    : I've Been In Love\n",
      "cover art: https://i.scdn.co/image/ab67616d0000b27377619f14cb03e11baf5761d1\n",
      "track    : Candle Flame\n",
      "cover art: https://i.scdn.co/image/ab67616d0000b27377619f14cb03e11baf5761d1\n",
      "track    : Casio\n",
      "cover art: https://i.scdn.co/image/ab67616d0000b2733960505e249b30cac0ce8d82\n",
      "track    : Busy Earnin'\n",
      "cover art: https://i.scdn.co/image/ab67616d0000b27344fee73b385fdcc0e07922f9\n",
      "track    : Happy Man\n",
      "cover art: https://i.scdn.co/image/ab67616d0000b2733960505e249b30cac0ce8d82\n",
      "track    : Keep Moving\n",
      "cover art: https://i.scdn.co/image/ab67616d0000b27374cecbbd6d0b6db5fdcca49d\n",
      "track    : Dominoes\n",
      "cover art: https://i.scdn.co/image/ab67616d0000b27377619f14cb03e11baf5761d1\n",
      "track    : All Of The Time\n",
      "cover art: https://i.scdn.co/image/ab67616d0000b27374cecbbd6d0b6db5fdcca49d\n",
      "track    : Problemz\n",
      "cover art: https://i.scdn.co/image/ab67616d0000b27377619f14cb03e11baf5761d1\n"
     ]
    }
   ],
   "source": [
    "lz_uri = 'spotify:artist:59oA5WbbQvomJz2BuRG071'\n",
    "\n",
    "results = spotify.artist_top_tracks(lz_uri)\n",
    "\n",
    "for track in results['tracks'][:10]:\n",
    "    print('track    : ' + track['name'])\n",
    "    #print('audio    : ' + track['preview_url'])\n",
    "    print('cover art: ' + track['album']['images'][0]['url'])"
   ]
  },
  {
   "cell_type": "code",
   "execution_count": 27,
   "id": "f5b21fbb-503b-4982-8508-d13458779f3b",
   "metadata": {},
   "outputs": [],
   "source": [
    "from playwright.async_api import async_playwright"
   ]
  },
  {
   "cell_type": "code",
   "execution_count": 30,
   "id": "783409b4-76a0-4c92-9d3a-34ff7dfdb27c",
   "metadata": {},
   "outputs": [],
   "source": [
    "playwright = await async_playwright().start()\n",
    "browser = await playwright.chromium.launch(headless = False)\n",
    "page = await browser.new_page()"
   ]
  },
  {
   "cell_type": "code",
   "execution_count": 31,
   "id": "64d4030f-c289-4424-83fa-174ea1cd0a06",
   "metadata": {},
   "outputs": [
    {
     "data": {
      "text/plain": [
       "<Response url='https://open.spotify.com/intl-es/artist/59oA5WbbQvomJz2BuRG071' request=<Request url='https://open.spotify.com/intl-es/artist/59oA5WbbQvomJz2BuRG071' method='GET'>>"
      ]
     },
     "execution_count": 31,
     "metadata": {},
     "output_type": "execute_result"
    }
   ],
   "source": [
    "await page.goto('https://open.spotify.com/artist/59oA5WbbQvomJz2BuRG071')"
   ]
  },
  {
   "cell_type": "code",
   "execution_count": 32,
   "id": "fbb5f5f7-96ad-4ebe-b132-d329084a2aec",
   "metadata": {},
   "outputs": [],
   "source": [
    "from bs4 import BeautifulSoup\n",
    "\n",
    "doc = BeautifulSoup(await page.content())"
   ]
  },
  {
   "cell_type": "markdown",
   "id": "df254198-73e3-4464-a78d-74c9406e59b2",
   "metadata": {},
   "source": [
    "### How to scrape the info we need "
   ]
  },
  {
   "cell_type": "code",
   "execution_count": 33,
   "id": "f6669db7-ec0f-401e-81e4-059abd4c6235",
   "metadata": {},
   "outputs": [],
   "source": [
    "top_songs = doc.find_all(\"div\", role=\"row\")"
   ]
  },
  {
   "cell_type": "markdown",
   "id": "7a65f0e2-9461-4fed-bc0f-0626c6c1bf8c",
   "metadata": {},
   "source": [
    "### How to find the name of the song on the Spotify website:"
   ]
  },
  {
   "cell_type": "code",
   "execution_count": 34,
   "id": "56ec495a-f4c7-4b2a-bf79-91b43f63c364",
   "metadata": {},
   "outputs": [
    {
     "data": {
      "text/plain": [
       "'Back On 74'"
      ]
     },
     "execution_count": 34,
     "metadata": {},
     "output_type": "execute_result"
    }
   ],
   "source": [
    "top_songs[0].div.find_all('div')[4].text"
   ]
  },
  {
   "cell_type": "markdown",
   "id": "fd163188-4c74-4cd7-9cb4-53ff05d40d25",
   "metadata": {},
   "source": [
    "### How many times that song was played:"
   ]
  },
  {
   "cell_type": "code",
   "execution_count": 35,
   "id": "e0cbacc0-5428-4700-915b-12fcc480d6d5",
   "metadata": {},
   "outputs": [
    {
     "data": {
      "text/plain": [
       "'66,167,084'"
      ]
     },
     "execution_count": 35,
     "metadata": {},
     "output_type": "execute_result"
    }
   ],
   "source": [
    "top_songs[0].div.find_all('div')[5].text"
   ]
  },
  {
   "cell_type": "markdown",
   "id": "bd042569-006d-424c-81bd-fdf396c7e7fd",
   "metadata": {},
   "source": [
    "### Now, let's see the top 5:"
   ]
  },
  {
   "cell_type": "code",
   "execution_count": 36,
   "id": "3e267b0f-03af-4f81-af6a-c4550b454a71",
   "metadata": {},
   "outputs": [
    {
     "name": "stdout",
     "output_type": "stream",
     "text": [
      "Back On 74 66,167,084\n",
      "I've Been In Love 24,335,859\n",
      "Candle Flame 30,890,429\n",
      "Casio 114,459,753\n",
      "Busy Earnin' 145,924,039\n"
     ]
    }
   ],
   "source": [
    "for song in top_songs:\n",
    "    title = song.div.find_all('div')[4].text\n",
    "    play_count = song.div.find_all('div')[5].text\n",
    "    print(title, play_count)"
   ]
  },
  {
   "cell_type": "markdown",
   "id": "32203b01-6422-45fd-a628-e69c27e9b6e3",
   "metadata": {},
   "source": [
    "### Let's save this as a beautiful CSV"
   ]
  },
  {
   "cell_type": "code",
   "execution_count": 37,
   "id": "9ec76b48-5dac-4b9f-8405-c695116d76a6",
   "metadata": {},
   "outputs": [],
   "source": [
    "import pandas as pd"
   ]
  },
  {
   "cell_type": "code",
   "execution_count": 38,
   "id": "0cfff71c-0a2c-46b2-8205-7e6093125f0d",
   "metadata": {},
   "outputs": [],
   "source": [
    "top_songs = doc.find_all(\"div\", role=\"row\")\n",
    "\n",
    "songs_data = []\n",
    "\n",
    "for song in top_songs:\n",
    "    title = song.div.find_all('div')[4].text\n",
    "    play_count = song.div.find_all('div')[5].text\n",
    "    \n",
    "   \n",
    "    song_info = {'Title': title, 'PlayCount': play_count}\n",
    "    \n",
    "    \n",
    "    songs_data.append(song_info)\n"
   ]
  },
  {
   "cell_type": "code",
   "execution_count": 39,
   "id": "b1064d91-019a-4572-b75c-70106a893c19",
   "metadata": {},
   "outputs": [],
   "source": [
    "df = pd.DataFrame(songs_data)\n",
    "\n",
    "df.to_csv('songs_data.csv', index=False)"
   ]
  },
  {
   "cell_type": "code",
   "execution_count": 21,
   "id": "72627e99-0c21-4f2e-a547-fabcc6b4ee99",
   "metadata": {},
   "outputs": [
    {
     "data": {
      "text/html": [
       "<div>\n",
       "<style scoped>\n",
       "    .dataframe tbody tr th:only-of-type {\n",
       "        vertical-align: middle;\n",
       "    }\n",
       "\n",
       "    .dataframe tbody tr th {\n",
       "        vertical-align: top;\n",
       "    }\n",
       "\n",
       "    .dataframe thead th {\n",
       "        text-align: right;\n",
       "    }\n",
       "</style>\n",
       "<table border=\"1\" class=\"dataframe\">\n",
       "  <thead>\n",
       "    <tr style=\"text-align: right;\">\n",
       "      <th></th>\n",
       "      <th>Title</th>\n",
       "      <th>PlayCount</th>\n",
       "    </tr>\n",
       "  </thead>\n",
       "  <tbody>\n",
       "    <tr>\n",
       "      <th>0</th>\n",
       "      <td>Back On 74</td>\n",
       "      <td>66,167,084</td>\n",
       "    </tr>\n",
       "    <tr>\n",
       "      <th>1</th>\n",
       "      <td>I've Been In Love</td>\n",
       "      <td>24,335,859</td>\n",
       "    </tr>\n",
       "    <tr>\n",
       "      <th>2</th>\n",
       "      <td>Candle Flame</td>\n",
       "      <td>30,890,429</td>\n",
       "    </tr>\n",
       "    <tr>\n",
       "      <th>3</th>\n",
       "      <td>Casio</td>\n",
       "      <td>114,459,753</td>\n",
       "    </tr>\n",
       "    <tr>\n",
       "      <th>4</th>\n",
       "      <td>Busy Earnin'</td>\n",
       "      <td>145,924,039</td>\n",
       "    </tr>\n",
       "  </tbody>\n",
       "</table>\n",
       "</div>"
      ],
      "text/plain": [
       "               Title    PlayCount\n",
       "0         Back On 74   66,167,084\n",
       "1  I've Been In Love   24,335,859\n",
       "2       Candle Flame   30,890,429\n",
       "3              Casio  114,459,753\n",
       "4       Busy Earnin'  145,924,039"
      ]
     },
     "execution_count": 21,
     "metadata": {},
     "output_type": "execute_result"
    }
   ],
   "source": [
    "df"
   ]
  },
  {
   "cell_type": "markdown",
   "id": "300eb9ef-dd71-45b6-915e-db31d2dedd45",
   "metadata": {},
   "source": [
    "### NOW, the reason we are here, to see if Spotify is recommending you more male than female bands: "
   ]
  },
  {
   "cell_type": "markdown",
   "id": "c82aa335-15d3-4770-8f99-7cb062f43d3f",
   "metadata": {},
   "source": [
    "First, you need to login with your API KEY from Spotify"
   ]
  },
  {
   "cell_type": "code",
   "execution_count": 40,
   "id": "7734a632-dcf0-4eca-9b35-20a5ee567613",
   "metadata": {},
   "outputs": [],
   "source": [
    "from spotipy.oauth2 import SpotifyOAuth\n",
    "\n",
    "scope='user-library-read'\n",
    "\n",
    "oauth = SpotifyOAuth(\n",
    "    client_id='d3e846e4009f4f388209d56b0691f69a',\n",
    "    client_secret='60ec7a0f3050405e885f5d5c1b17cee8',\n",
    "    redirect_uri='http://localhost/callback',\n",
    "    scope=scope\n",
    ")\n",
    "sp = spotipy.Spotify(auth_manager=oauth)"
   ]
  },
  {
   "cell_type": "code",
   "execution_count": 23,
   "id": "abeba53a-57c2-4968-8801-330cf2919752",
   "metadata": {},
   "outputs": [
    {
     "name": "stderr",
     "output_type": "stream",
     "text": [
      "Using `localhost` as redirect URI without a port. Specify a port (e.g. `localhost:8080`) to allow automatic retrieval of authentication code instead of having to copy and paste the URL your browser is redirected to.\n"
     ]
    },
    {
     "name": "stdout",
     "output_type": "stream",
     "text": [
      "Enter the URL you were redirected to:  http://localhost/callback?code=AQC8hjmtnshNWaqD5vSfDSke9e55hn9tyMZ_38Q5RmJVhYHlziE4b_uxAnaCDAKotDmsLUPtgnbKa6oViK5QV51xtCV_7eb2cvBQJ6U5QtIvdZ9XpLTEi-5s4531K4me9YosPwOvw-3f7EE7fr6rSSPUGuSRp-XudNI83rkhJEriW8V7USyN1TES-XWNKpzW\n"
     ]
    },
    {
     "data": {
      "text/plain": [
       "{'display_name': 'Carla Mandiola',\n",
       " 'external_urls': {'spotify': 'https://open.spotify.com/user/12124601674'},\n",
       " 'href': 'https://api.spotify.com/v1/users/12124601674',\n",
       " 'id': '12124601674',\n",
       " 'images': [],\n",
       " 'type': 'user',\n",
       " 'uri': 'spotify:user:12124601674',\n",
       " 'followers': {'href': None, 'total': 101}}"
      ]
     },
     "execution_count": 23,
     "metadata": {},
     "output_type": "execute_result"
    }
   ],
   "source": [
    "sp.me()"
   ]
  },
  {
   "cell_type": "markdown",
   "id": "4f87c781-6248-49d8-b916-866de85b3f82",
   "metadata": {},
   "source": [
    "Then, we look for the ID of the playlist you want to look. In this case, is my Discover Weekly playlist"
   ]
  },
  {
   "cell_type": "code",
   "execution_count": 24,
   "id": "75b5b2e2-54c5-41b3-be85-d20374802930",
   "metadata": {},
   "outputs": [],
   "source": [
    "import spotipy\n",
    "from spotipy.oauth2 import SpotifyOAuth"
   ]
  },
  {
   "cell_type": "code",
   "execution_count": 43,
   "id": "747894eb-af8c-49b6-9bf0-9be9bd69e11c",
   "metadata": {},
   "outputs": [
    {
     "name": "stderr",
     "output_type": "stream",
     "text": [
      "Using `localhost` as redirect URI without a port. Specify a port (e.g. `localhost:8080`) to allow automatic retrieval of authentication code instead of having to copy and paste the URL your browser is redirected to.\n"
     ]
    },
    {
     "name": "stdout",
     "output_type": "stream",
     "text": [
      "Enter the URL you were redirected to:  http://localhost/callback?code=AQBOzYRJcJ7PJywQRqLwgyzFyQKd8C4eh05PkMkBTa649M5rPkG0KiH80Tt-xkOBxhrbBIU-1Guqm5rHW0uskhUnXkY6W1jmPHi5sAR4YTxnE41zDHizpNOyeQ4mqIWf-BrPIPQscIQ8aV2dBOE9gZqi8oGOaXxhl0mPm9TOpd9tf4hNxA_OmXgKlE6FDLf3\n"
     ]
    }
   ],
   "source": [
    "scope='user-library-read'\n",
    "\n",
    "oauth = SpotifyOAuth(\n",
    "    client_id='d3e846e4009f4f388209d56b0691f69a',\n",
    "    client_secret='60ec7a0f3050405e885f5d5c1b17cee8',\n",
    "    redirect_uri='http://localhost/callback',\n",
    "    scope=scope\n",
    ")\n",
    "sp = spotipy.Spotify(auth_manager=oauth)\n",
    "\n",
    "\n",
    "PLAYLIST_URI = 'spotify:playlist:37i9dQZEVXcGsWD0rE22It'\n",
    "\n",
    "results = sp.playlist_tracks(PLAYLIST_URI)\n",
    "playlist_data = []\n",
    "\n",
    "for idx, track in enumerate(results['items']):\n",
    "    track_data = {\n",
    "        'Track Name': track['track']['name'],\n",
    "        'Artists': ', '.join([artist['name'] for artist in track['track']['artists']])\n",
    "    }\n",
    "    playlist_data.append(track_data)\n",
    "\n",
    "playlist_df = pd.DataFrame(playlist_data)\n",
    "\n",
    "playlist_df.to_csv('playlist_data.csv', index=False)\n"
   ]
  },
  {
   "cell_type": "markdown",
   "id": "dd592b64-218e-4f55-ba16-488e94cd1ac8",
   "metadata": {},
   "source": [
    "A little SneakPeek"
   ]
  },
  {
   "cell_type": "code",
   "execution_count": 44,
   "id": "b71500ed-5726-472d-91f8-04162ab24dcb",
   "metadata": {},
   "outputs": [
    {
     "data": {
      "text/html": [
       "<div>\n",
       "<style scoped>\n",
       "    .dataframe tbody tr th:only-of-type {\n",
       "        vertical-align: middle;\n",
       "    }\n",
       "\n",
       "    .dataframe tbody tr th {\n",
       "        vertical-align: top;\n",
       "    }\n",
       "\n",
       "    .dataframe thead th {\n",
       "        text-align: right;\n",
       "    }\n",
       "</style>\n",
       "<table border=\"1\" class=\"dataframe\">\n",
       "  <thead>\n",
       "    <tr style=\"text-align: right;\">\n",
       "      <th></th>\n",
       "      <th>Track Name</th>\n",
       "      <th>Artists</th>\n",
       "    </tr>\n",
       "  </thead>\n",
       "  <tbody>\n",
       "    <tr>\n",
       "      <th>0</th>\n",
       "      <td>Witches</td>\n",
       "      <td>Alice Phoebe Lou</td>\n",
       "    </tr>\n",
       "    <tr>\n",
       "      <th>1</th>\n",
       "      <td>Daydream In Blue</td>\n",
       "      <td>I Monster</td>\n",
       "    </tr>\n",
       "    <tr>\n",
       "      <th>2</th>\n",
       "      <td>Hey Lover</td>\n",
       "      <td>The Daughters Of Eve</td>\n",
       "    </tr>\n",
       "    <tr>\n",
       "      <th>3</th>\n",
       "      <td>Babydoll</td>\n",
       "      <td>Dominic Fike</td>\n",
       "    </tr>\n",
       "    <tr>\n",
       "      <th>4</th>\n",
       "      <td>Make Your Own Kind Of Music</td>\n",
       "      <td>Cass Elliot</td>\n",
       "    </tr>\n",
       "  </tbody>\n",
       "</table>\n",
       "</div>"
      ],
      "text/plain": [
       "                    Track Name               Artists\n",
       "0                      Witches      Alice Phoebe Lou\n",
       "1             Daydream In Blue             I Monster\n",
       "2                    Hey Lover  The Daughters Of Eve\n",
       "3                     Babydoll          Dominic Fike\n",
       "4  Make Your Own Kind Of Music           Cass Elliot"
      ]
     },
     "execution_count": 44,
     "metadata": {},
     "output_type": "execute_result"
    }
   ],
   "source": [
    "playlist_df.head()"
   ]
  },
  {
   "cell_type": "code",
   "execution_count": 50,
   "id": "a1d6bda7-a068-40b0-a7f6-8975220add06",
   "metadata": {},
   "outputs": [
    {
     "data": {
      "text/html": [
       "<div>\n",
       "<style scoped>\n",
       "    .dataframe tbody tr th:only-of-type {\n",
       "        vertical-align: middle;\n",
       "    }\n",
       "\n",
       "    .dataframe tbody tr th {\n",
       "        vertical-align: top;\n",
       "    }\n",
       "\n",
       "    .dataframe thead th {\n",
       "        text-align: right;\n",
       "    }\n",
       "</style>\n",
       "<table border=\"1\" class=\"dataframe\">\n",
       "  <thead>\n",
       "    <tr style=\"text-align: right;\">\n",
       "      <th></th>\n",
       "      <th>name</th>\n",
       "      <th>gender</th>\n",
       "      <th>pronoun</th>\n",
       "    </tr>\n",
       "  </thead>\n",
       "  <tbody>\n",
       "    <tr>\n",
       "      <th>0</th>\n",
       "      <td>NSYNC</td>\n",
       "      <td>male</td>\n",
       "      <td>they/them</td>\n",
       "    </tr>\n",
       "    <tr>\n",
       "      <th>1</th>\n",
       "      <td>*repeat repeat</td>\n",
       "      <td>NaN</td>\n",
       "      <td>they/them</td>\n",
       "    </tr>\n",
       "    <tr>\n",
       "      <th>2</th>\n",
       "      <td>*shels</td>\n",
       "      <td>NaN</td>\n",
       "      <td>they/them</td>\n",
       "    </tr>\n",
       "    <tr>\n",
       "      <th>3</th>\n",
       "      <td>#1 Garth Brooks Tribute Band</td>\n",
       "      <td>NaN</td>\n",
       "      <td>they/them</td>\n",
       "    </tr>\n",
       "    <tr>\n",
       "      <th>4</th>\n",
       "      <td>#366: A life lived</td>\n",
       "      <td>NaN</td>\n",
       "      <td>they/them</td>\n",
       "    </tr>\n",
       "  </tbody>\n",
       "</table>\n",
       "</div>"
      ],
      "text/plain": [
       "                           name gender    pronoun\n",
       "0                         NSYNC   male  they/them\n",
       "1                *repeat repeat    NaN  they/them\n",
       "2                        *shels    NaN  they/them\n",
       "3  #1 Garth Brooks Tribute Band    NaN  they/them\n",
       "4            #366: A life lived    NaN  they/them"
      ]
     },
     "execution_count": 50,
     "metadata": {},
     "output_type": "execute_result"
    }
   ],
   "source": [
    "gender_df = pd.read_csv('Gender1.csv')\n",
    "gender_df.rename(columns={'name;pronoun;gender':'col'},inplace=True)\n",
    "gender_df.head()"
   ]
  },
  {
   "cell_type": "code",
   "execution_count": 51,
   "id": "ff6d0784-95ce-435c-a709-4a92c38d89e3",
   "metadata": {},
   "outputs": [],
   "source": [
    "playlist_df.columns= [\"track\", \"name\"]"
   ]
  },
  {
   "cell_type": "code",
   "execution_count": 52,
   "id": "23a0508e-b0b7-44c6-8380-cfb1e66818fd",
   "metadata": {},
   "outputs": [],
   "source": [
    "merge = playlist_df.merge(gender_df, how=\"left\", on=\"name\")"
   ]
  },
  {
   "cell_type": "code",
   "execution_count": 53,
   "id": "6c70fb25-9d74-4f26-8bc7-5abdab608582",
   "metadata": {},
   "outputs": [
    {
     "data": {
      "text/html": [
       "<div>\n",
       "<style scoped>\n",
       "    .dataframe tbody tr th:only-of-type {\n",
       "        vertical-align: middle;\n",
       "    }\n",
       "\n",
       "    .dataframe tbody tr th {\n",
       "        vertical-align: top;\n",
       "    }\n",
       "\n",
       "    .dataframe thead th {\n",
       "        text-align: right;\n",
       "    }\n",
       "</style>\n",
       "<table border=\"1\" class=\"dataframe\">\n",
       "  <thead>\n",
       "    <tr style=\"text-align: right;\">\n",
       "      <th></th>\n",
       "      <th>track</th>\n",
       "      <th>name</th>\n",
       "      <th>gender</th>\n",
       "      <th>pronoun</th>\n",
       "    </tr>\n",
       "  </thead>\n",
       "  <tbody>\n",
       "    <tr>\n",
       "      <th>0</th>\n",
       "      <td>Witches</td>\n",
       "      <td>Alice Phoebe Lou</td>\n",
       "      <td>female</td>\n",
       "      <td>she/her</td>\n",
       "    </tr>\n",
       "    <tr>\n",
       "      <th>1</th>\n",
       "      <td>Daydream In Blue</td>\n",
       "      <td>I Monster</td>\n",
       "      <td>male</td>\n",
       "      <td>they/them</td>\n",
       "    </tr>\n",
       "    <tr>\n",
       "      <th>2</th>\n",
       "      <td>Hey Lover</td>\n",
       "      <td>The Daughters Of Eve</td>\n",
       "      <td>female</td>\n",
       "      <td>they/them</td>\n",
       "    </tr>\n",
       "    <tr>\n",
       "      <th>3</th>\n",
       "      <td>Babydoll</td>\n",
       "      <td>Dominic Fike</td>\n",
       "      <td>male</td>\n",
       "      <td>he/him</td>\n",
       "    </tr>\n",
       "    <tr>\n",
       "      <th>4</th>\n",
       "      <td>Make Your Own Kind Of Music</td>\n",
       "      <td>Cass Elliot</td>\n",
       "      <td>female</td>\n",
       "      <td>she/her</td>\n",
       "    </tr>\n",
       "    <tr>\n",
       "      <th>5</th>\n",
       "      <td>Talking In Your Sleep</td>\n",
       "      <td>The Romantics</td>\n",
       "      <td>male</td>\n",
       "      <td>they/them</td>\n",
       "    </tr>\n",
       "    <tr>\n",
       "      <th>6</th>\n",
       "      <td>Witchoo</td>\n",
       "      <td>Durand Jones &amp; The Indications, Durand Jones, ...</td>\n",
       "      <td>male</td>\n",
       "      <td>they/them</td>\n",
       "    </tr>\n",
       "    <tr>\n",
       "      <th>7</th>\n",
       "      <td>Rose Pink Cadillac</td>\n",
       "      <td>DOPE LEMON</td>\n",
       "      <td>male</td>\n",
       "      <td>he/him</td>\n",
       "    </tr>\n",
       "    <tr>\n",
       "      <th>8</th>\n",
       "      <td>Young Hearts Run Free</td>\n",
       "      <td>Candi Staton</td>\n",
       "      <td>female</td>\n",
       "      <td>she/her</td>\n",
       "    </tr>\n",
       "    <tr>\n",
       "      <th>9</th>\n",
       "      <td>You Are the Right One</td>\n",
       "      <td>Sports</td>\n",
       "      <td>mixed</td>\n",
       "      <td>they/them</td>\n",
       "    </tr>\n",
       "    <tr>\n",
       "      <th>10</th>\n",
       "      <td>How Long Do I Have to Wait for You?</td>\n",
       "      <td>Sharon Jones &amp; The Dap-Kings</td>\n",
       "      <td>mixed</td>\n",
       "      <td>they/them</td>\n",
       "    </tr>\n",
       "    <tr>\n",
       "      <th>11</th>\n",
       "      <td>Right Back Where We Started From</td>\n",
       "      <td>Maxine Nightingale</td>\n",
       "      <td>female</td>\n",
       "      <td>she/her</td>\n",
       "    </tr>\n",
       "    <tr>\n",
       "      <th>12</th>\n",
       "      <td>Colors</td>\n",
       "      <td>Black Pumas</td>\n",
       "      <td>male</td>\n",
       "      <td>they/them</td>\n",
       "    </tr>\n",
       "    <tr>\n",
       "      <th>13</th>\n",
       "      <td>I'd Rather Go Blind</td>\n",
       "      <td>Etta James</td>\n",
       "      <td>female</td>\n",
       "      <td>she/her</td>\n",
       "    </tr>\n",
       "    <tr>\n",
       "      <th>14</th>\n",
       "      <td>Sunny</td>\n",
       "      <td>Bobby Hebb</td>\n",
       "      <td>male</td>\n",
       "      <td>he/him</td>\n",
       "    </tr>\n",
       "    <tr>\n",
       "      <th>15</th>\n",
       "      <td>Sunny</td>\n",
       "      <td>Bobby Hebb</td>\n",
       "      <td>male</td>\n",
       "      <td>he/him</td>\n",
       "    </tr>\n",
       "    <tr>\n",
       "      <th>16</th>\n",
       "      <td>Ghost Town</td>\n",
       "      <td>The Specials</td>\n",
       "      <td>male</td>\n",
       "      <td>they/them</td>\n",
       "    </tr>\n",
       "    <tr>\n",
       "      <th>17</th>\n",
       "      <td>I Didn't Know</td>\n",
       "      <td>Skinshape</td>\n",
       "      <td>male</td>\n",
       "      <td>he/him</td>\n",
       "    </tr>\n",
       "    <tr>\n",
       "      <th>18</th>\n",
       "      <td>Don't Know Why</td>\n",
       "      <td>Norah Jones</td>\n",
       "      <td>female</td>\n",
       "      <td>she/her</td>\n",
       "    </tr>\n",
       "    <tr>\n",
       "      <th>19</th>\n",
       "      <td>This Head I Hold</td>\n",
       "      <td>Electric Guest</td>\n",
       "      <td>male</td>\n",
       "      <td>they/them</td>\n",
       "    </tr>\n",
       "    <tr>\n",
       "      <th>20</th>\n",
       "      <td>Fly Me To The Moon (In Other Words)</td>\n",
       "      <td>Bobby Womack</td>\n",
       "      <td>male</td>\n",
       "      <td>he/him</td>\n",
       "    </tr>\n",
       "    <tr>\n",
       "      <th>21</th>\n",
       "      <td>Fly Me To The Moon (In Other Words)</td>\n",
       "      <td>Bobby Womack</td>\n",
       "      <td>male</td>\n",
       "      <td>he/him</td>\n",
       "    </tr>\n",
       "    <tr>\n",
       "      <th>22</th>\n",
       "      <td>Only You</td>\n",
       "      <td>Theophilus London, Tame Impala</td>\n",
       "      <td>male</td>\n",
       "      <td>they/them</td>\n",
       "    </tr>\n",
       "    <tr>\n",
       "      <th>23</th>\n",
       "      <td>Dancing with Myself</td>\n",
       "      <td>Generation X</td>\n",
       "      <td>male</td>\n",
       "      <td>they/them</td>\n",
       "    </tr>\n",
       "    <tr>\n",
       "      <th>24</th>\n",
       "      <td>You Make Me Feel Like Dancing - Remastered</td>\n",
       "      <td>Leo Sayer</td>\n",
       "      <td>male</td>\n",
       "      <td>he/him</td>\n",
       "    </tr>\n",
       "    <tr>\n",
       "      <th>25</th>\n",
       "      <td>A Girl Like You</td>\n",
       "      <td>Edwyn Collins</td>\n",
       "      <td>male</td>\n",
       "      <td>he/him</td>\n",
       "    </tr>\n",
       "    <tr>\n",
       "      <th>26</th>\n",
       "      <td>She's Not There</td>\n",
       "      <td>The Zombies</td>\n",
       "      <td>male</td>\n",
       "      <td>they/them</td>\n",
       "    </tr>\n",
       "    <tr>\n",
       "      <th>27</th>\n",
       "      <td>Your Woman</td>\n",
       "      <td>White Town</td>\n",
       "      <td>male</td>\n",
       "      <td>he/him</td>\n",
       "    </tr>\n",
       "    <tr>\n",
       "      <th>28</th>\n",
       "      <td>Elenore</td>\n",
       "      <td>The Turtles</td>\n",
       "      <td>male</td>\n",
       "      <td>they/them</td>\n",
       "    </tr>\n",
       "    <tr>\n",
       "      <th>29</th>\n",
       "      <td>Maybe</td>\n",
       "      <td>Janis Joplin</td>\n",
       "      <td>female</td>\n",
       "      <td>she/her</td>\n",
       "    </tr>\n",
       "    <tr>\n",
       "      <th>30</th>\n",
       "      <td>My Song</td>\n",
       "      <td>Labi Siffre</td>\n",
       "      <td>male</td>\n",
       "      <td>he/him</td>\n",
       "    </tr>\n",
       "    <tr>\n",
       "      <th>31</th>\n",
       "      <td>Suddenly I See</td>\n",
       "      <td>KT Tunstall</td>\n",
       "      <td>female</td>\n",
       "      <td>she/her</td>\n",
       "    </tr>\n",
       "  </tbody>\n",
       "</table>\n",
       "</div>"
      ],
      "text/plain": [
       "                                         track  \\\n",
       "0                                      Witches   \n",
       "1                             Daydream In Blue   \n",
       "2                                    Hey Lover   \n",
       "3                                     Babydoll   \n",
       "4                  Make Your Own Kind Of Music   \n",
       "5                        Talking In Your Sleep   \n",
       "6                                      Witchoo   \n",
       "7                           Rose Pink Cadillac   \n",
       "8                        Young Hearts Run Free   \n",
       "9                        You Are the Right One   \n",
       "10         How Long Do I Have to Wait for You?   \n",
       "11            Right Back Where We Started From   \n",
       "12                                      Colors   \n",
       "13                         I'd Rather Go Blind   \n",
       "14                                       Sunny   \n",
       "15                                       Sunny   \n",
       "16                                  Ghost Town   \n",
       "17                               I Didn't Know   \n",
       "18                              Don't Know Why   \n",
       "19                            This Head I Hold   \n",
       "20         Fly Me To The Moon (In Other Words)   \n",
       "21         Fly Me To The Moon (In Other Words)   \n",
       "22                                    Only You   \n",
       "23                         Dancing with Myself   \n",
       "24  You Make Me Feel Like Dancing - Remastered   \n",
       "25                             A Girl Like You   \n",
       "26                             She's Not There   \n",
       "27                                  Your Woman   \n",
       "28                                     Elenore   \n",
       "29                                       Maybe   \n",
       "30                                     My Song   \n",
       "31                              Suddenly I See   \n",
       "\n",
       "                                                 name  gender    pronoun  \n",
       "0                                    Alice Phoebe Lou  female    she/her  \n",
       "1                                           I Monster    male  they/them  \n",
       "2                                The Daughters Of Eve  female  they/them  \n",
       "3                                        Dominic Fike    male     he/him  \n",
       "4                                         Cass Elliot  female    she/her  \n",
       "5                                       The Romantics    male  they/them  \n",
       "6   Durand Jones & The Indications, Durand Jones, ...    male  they/them  \n",
       "7                                          DOPE LEMON    male     he/him  \n",
       "8                                        Candi Staton  female    she/her  \n",
       "9                                              Sports   mixed  they/them  \n",
       "10                       Sharon Jones & The Dap-Kings   mixed  they/them  \n",
       "11                                 Maxine Nightingale  female    she/her  \n",
       "12                                        Black Pumas    male  they/them  \n",
       "13                                         Etta James  female    she/her  \n",
       "14                                         Bobby Hebb    male     he/him  \n",
       "15                                         Bobby Hebb    male     he/him  \n",
       "16                                       The Specials    male  they/them  \n",
       "17                                          Skinshape    male     he/him  \n",
       "18                                        Norah Jones  female    she/her  \n",
       "19                                     Electric Guest    male  they/them  \n",
       "20                                       Bobby Womack    male     he/him  \n",
       "21                                       Bobby Womack    male     he/him  \n",
       "22                     Theophilus London, Tame Impala    male  they/them  \n",
       "23                                       Generation X    male  they/them  \n",
       "24                                          Leo Sayer    male     he/him  \n",
       "25                                      Edwyn Collins    male     he/him  \n",
       "26                                        The Zombies    male  they/them  \n",
       "27                                         White Town    male     he/him  \n",
       "28                                        The Turtles    male  they/them  \n",
       "29                                       Janis Joplin  female    she/her  \n",
       "30                                        Labi Siffre    male     he/him  \n",
       "31                                        KT Tunstall  female    she/her  "
      ]
     },
     "execution_count": 53,
     "metadata": {},
     "output_type": "execute_result"
    }
   ],
   "source": [
    "merge"
   ]
  },
  {
   "cell_type": "markdown",
   "id": "970b7cad-6927-4d90-8561-94a610955c2b",
   "metadata": {},
   "source": [
    "And now a chart to make you feel worse"
   ]
  },
  {
   "cell_type": "code",
   "execution_count": 55,
   "id": "b67ea6d0-727a-4a78-99d7-2222fcbb07f8",
   "metadata": {},
   "outputs": [],
   "source": [
    "import matplotlib.pyplot as plt"
   ]
  },
  {
   "cell_type": "code",
   "execution_count": 59,
   "id": "2e8c646e-f10f-4c38-b0de-55f908a2976e",
   "metadata": {
    "scrolled": true
   },
   "outputs": [
    {
     "data": {
      "text/plain": [
       "<Axes: xlabel='gender'>"
      ]
     },
     "execution_count": 59,
     "metadata": {},
     "output_type": "execute_result"
    },
    {
     "data": {
      "image/png": "[encoded data removed]",
      "text/plain": [
       "<Figure size 640x480 with 1 Axes>"
      ]
     },
     "metadata": {},
     "output_type": "display_data"
    }
   ],
   "source": [
    "merge['gender'].fillna('not known').value_counts(dropna=False).plot(kind='bar', color=['green', 'purple', 'yellow','orange'])"
   ]
  }
 ],
 "metadata": {
  "kernelspec": {
   "display_name": "Python 3 (ipykernel)",
   "language": "python",
   "name": "python3"
  },
  "language_info": {
   "codemirror_mode": {
    "name": "ipython",
    "version": 3
   },
   "file_extension": ".py",
   "mimetype": "text/x-python",
   "name": "python",
   "nbconvert_exporter": "python",
   "pygments_lexer": "ipython3",
   "version": "3.11.6"
  }
 },
 "nbformat": 4,
 "nbformat_minor": 5
}
